{
  "nbformat": 4,
  "nbformat_minor": 0,
  "metadata": {
    "colab": {
      "provenance": [],
      "authorship_tag": "ABX9TyOJ1CaYNqvkPkq9ZJalKsCW",
      "include_colab_link": true
    },
    "kernelspec": {
      "name": "python3",
      "display_name": "Python 3"
    },
    "language_info": {
      "name": "python"
    }
  },
  "cells": [
    {
      "cell_type": "markdown",
      "metadata": {
        "id": "view-in-github",
        "colab_type": "text"
      },
      "source": [
        "<a href=\"https://colab.research.google.com/github/rajat459/python/blob/main/practise.ipynb\" target=\"_parent\"><img src=\"https://colab.research.google.com/assets/colab-badge.svg\" alt=\"Open In Colab\"/></a>"
      ]
    },
    {
      "cell_type": "code",
      "source": [
        "text = \"this is a test this is only a test\"\n",
        "words = text.split()\n",
        "freq = {}\n",
        "for word in words:\n",
        "    freq[word] = freq.get(word, 0) + 1\n",
        "print(freq)\n"
      ],
      "metadata": {
        "colab": {
          "base_uri": "https://localhost:8080/"
        },
        "id": "ug_3_YCZy4HM",
        "outputId": "2bb1bbed-5d2e-453c-be25-3ca757d05322"
      },
      "execution_count": null,
      "outputs": [
        {
          "output_type": "stream",
          "name": "stdout",
          "text": [
            "{'this': 2, 'is': 2, 'a': 2, 'test': 2, 'only': 1}\n"
          ]
        }
      ]
    },
    {
      "cell_type": "code",
      "source": [
        "keys = ['a', 'b', 'c']\n",
        "values = [1, 2, 3]\n",
        "my_dict = {keys[i]: values[i] for i in range(len(keys))}\n",
        "print(my_dict)\n"
      ],
      "metadata": {
        "colab": {
          "base_uri": "https://localhost:8080/"
        },
        "id": "nJyX-GAdy4EI",
        "outputId": "a2424390-4ebe-44ee-9060-5ab9bcc0ac69"
      },
      "execution_count": null,
      "outputs": [
        {
          "output_type": "stream",
          "name": "stdout",
          "text": [
            "{'a': 1, 'b': 2, 'c': 3}\n"
          ]
        }
      ]
    },
    {
      "cell_type": "code",
      "source": [
        "dict1 = {'a': 10, 'b': 20, 'c': 30}\n",
        "dict2 = {'b': 5, 'c': 15, 'd': 25}\n",
        "merged = {key: dict1.get(key, 0) + dict2.get(key, 0) for key in set(dict1) | set(dict2)}\n",
        "print(merged)\n"
      ],
      "metadata": {
        "colab": {
          "base_uri": "https://localhost:8080/"
        },
        "id": "uD7Zuhywy4Bs",
        "outputId": "f45d7696-a7d4-4153-e85d-e9e66e5206ad"
      },
      "execution_count": null,
      "outputs": [
        {
          "output_type": "stream",
          "name": "stdout",
          "text": [
            "{'d': 25, 'b': 25, 'c': 45, 'a': 10}\n"
          ]
        }
      ]
    },
    {
      "cell_type": "code",
      "source": [
        "my_dict = {'a': 10, 'b': 20, 'c': 20, 'd': 15}\n",
        "max_value = max(my_dict.values())\n",
        "keys_with_max_value = [key for key, value in my_dict.items() if value == max_value]\n",
        "print(keys_with_max_value)\n"
      ],
      "metadata": {
        "colab": {
          "base_uri": "https://localhost:8080/"
        },
        "id": "-02vIijXy3_g",
        "outputId": "595c295c-e3e9-4b56-d9dc-83b1ac214836"
      },
      "execution_count": null,
      "outputs": [
        {
          "output_type": "stream",
          "name": "stdout",
          "text": [
            "['b', 'c']\n"
          ]
        }
      ]
    },
    {
      "cell_type": "code",
      "source": [
        "my_dict = {'a': 10, 'b': 5, 'c': 15, 'd': 8}\n",
        "threshold = 10\n",
        "filtered_dict = {k: v for k, v in my_dict.items() if v >= threshold}\n",
        "print(filtered_dict)\n"
      ],
      "metadata": {
        "colab": {
          "base_uri": "https://localhost:8080/"
        },
        "id": "ioA8bPedy39J",
        "outputId": "18fde561-be8e-4f8b-80b0-e7e651ae50ce"
      },
      "execution_count": null,
      "outputs": [
        {
          "output_type": "stream",
          "name": "stdout",
          "text": [
            "{'a': 10, 'c': 15}\n"
          ]
        }
      ]
    },
    {
      "cell_type": "code",
      "source": [
        "students = ['Alice', 'Bob', 'Charlie']\n",
        "subjects = ['Math', 'Science', 'English']\n",
        "grades = [[90, 80, 70], [85, 75, 65], [88, 78, 68]]\n",
        "gradebook = {students[i]: {subjects[j]: grades[i][j] for j in range(len(subjects))} for i in range(len(students))}\n",
        "print(gradebook)\n"
      ],
      "metadata": {
        "colab": {
          "base_uri": "https://localhost:8080/"
        },
        "id": "hK9Fyd3hy36o",
        "outputId": "6484a688-c29c-4240-917d-7681c4b78ac5"
      },
      "execution_count": null,
      "outputs": [
        {
          "output_type": "stream",
          "name": "stdout",
          "text": [
            "{'Alice': {'Math': 90, 'Science': 80, 'English': 70}, 'Bob': {'Math': 85, 'Science': 75, 'English': 65}, 'Charlie': {'Math': 88, 'Science': 78, 'English': 68}}\n"
          ]
        }
      ]
    },
    {
      "cell_type": "code",
      "source": [
        "dicts = [{'a': 10, 'b': 20}, {'b': 5, 'c': 15}, {'a': 5, 'c': 10}]\n",
        "combined = {}\n",
        "for d in dicts:\n",
        "    for key, value in d.items():\n",
        "        combined[key] = combined.get(key, 0) + value\n",
        "print(combined)\n"
      ],
      "metadata": {
        "colab": {
          "base_uri": "https://localhost:8080/"
        },
        "id": "WnAENZsUy33t",
        "outputId": "1a6eec52-9775-49be-d4f9-414dfae6c2df"
      },
      "execution_count": null,
      "outputs": [
        {
          "output_type": "stream",
          "name": "stdout",
          "text": [
            "{'a': 15, 'b': 25, 'c': 25}\n"
          ]
        }
      ]
    },
    {
      "cell_type": "code",
      "source": [
        "dicts = [{'a': 10, 'b': 20}, {'b': 5, 'c': 15}, {'a': 5, 'c': 10}]\n",
        "combined = {}\n",
        "for d in dicts:\n",
        "    for key, value in d.items():\n",
        "        combined[key] = combined.get(key, 0) + value\n",
        "print(combined)\n"
      ],
      "metadata": {
        "colab": {
          "base_uri": "https://localhost:8080/"
        },
        "id": "51mVgHFSy31I",
        "outputId": "07dc170d-2847-4004-d6d6-a42e12ca7ff6"
      },
      "execution_count": null,
      "outputs": [
        {
          "output_type": "stream",
          "name": "stdout",
          "text": [
            "{'a': 15, 'b': 25, 'c': 25}\n"
          ]
        }
      ]
    },
    {
      "cell_type": "code",
      "source": [
        "data = {'name': ['Alice', 'Bob'], 'age': [25, 30], 'city': ['NY', 'LA']}\n",
        "transposed = [dict(zip(data.keys(), values)) for values in zip(*data.values())]\n",
        "print(transposed)\n"
      ],
      "metadata": {
        "colab": {
          "base_uri": "https://localhost:8080/"
        },
        "id": "a9n5OFdKy3zA",
        "outputId": "24afe6e1-125f-4758-915a-41431dcaa53c"
      },
      "execution_count": null,
      "outputs": [
        {
          "output_type": "stream",
          "name": "stdout",
          "text": [
            "[{'name': 'Alice', 'age': 25, 'city': 'NY'}, {'name': 'Bob', 'age': 30, 'city': 'LA'}]\n"
          ]
        }
      ]
    },
    {
      "cell_type": "code",
      "source": [
        "my_dict = {'a': [1, 2, 3], 'b': [3, 4, 5], 'c': [5, 6]}\n",
        "unique_values = set(value for values in my_dict.values() for value in values)\n",
        "print(len(unique_values))\n"
      ],
      "metadata": {
        "colab": {
          "base_uri": "https://localhost:8080/"
        },
        "id": "Y2p13AXPy3wl",
        "outputId": "f5d37c6d-8cd3-4597-82c6-2a1cd1637534"
      },
      "execution_count": null,
      "outputs": [
        {
          "output_type": "stream",
          "name": "stdout",
          "text": [
            "6\n"
          ]
        }
      ]
    },
    {
      "cell_type": "code",
      "source": [
        "class Account:\n",
        "    def __init__(self, name, balance=0):\n",
        "        self.name = name\n",
        "        self.balance = balance\n",
        "\n",
        "    def deposit(self, amount):\n",
        "        self.balance += amount\n",
        "\n",
        "    def withdraw(self, amount):\n",
        "        if amount > self.balance:\n",
        "            print(\"Insufficient funds\")\n",
        "        else:\n",
        "            self.balance -= amount\n",
        "\n",
        "    def get_balance(self):\n",
        "        return self.balance\n",
        "\n",
        "account = Account(\"John\", 1000)\n",
        "account.deposit(500)\n",
        "account.withdraw(300)\n",
        "print(account.get_balance())\n"
      ],
      "metadata": {
        "colab": {
          "base_uri": "https://localhost:8080/"
        },
        "id": "WGvWzMxdy3t-",
        "outputId": "4dfeed77-4a22-476b-d85d-76ec2ba057aa"
      },
      "execution_count": null,
      "outputs": [
        {
          "output_type": "stream",
          "name": "stdout",
          "text": [
            "1200\n"
          ]
        }
      ]
    },
    {
      "cell_type": "code",
      "source": [
        "import requests\n",
        "from bs4 import BeautifulSoup\n",
        "\n",
        "url = \"https://example.com/articles\"\n",
        "response = requests.get(url)\n",
        "soup = BeautifulSoup(response.text, \"html.parser\")\n",
        "\n",
        "articles = soup.find_all(\"article\")\n",
        "for article in articles:\n",
        "    title = article.find(\"h2\").text\n",
        "    link = article.find(\"a\")[\"href\"]\n",
        "    print(title, link)\n",
        "import time\n",
        "\n",
        "def timing_decorator(func):\n",
        "    def wrapper(*args, **kwargs):\n",
        "        start = time.time()\n",
        "        result = func(*args, **kwargs)\n",
        "        end = time.time()\n",
        "        print(f\"Execution time: {end - start:.2f} seconds\")\n",
        "        return result\n",
        "    return wrapper\n",
        "\n",
        "@timing_decorator\n",
        "def slow_function():\n",
        "    time.sleep(2)\n",
        "    print(\"Function completed\")\n",
        "\n",
        "slow_function()\n"
      ],
      "metadata": {
        "colab": {
          "base_uri": "https://localhost:8080/"
        },
        "id": "yzvr7LsVy3ow",
        "outputId": "b9088f73-ca12-454c-d0d8-e941cc783573"
      },
      "execution_count": null,
      "outputs": [
        {
          "output_type": "stream",
          "name": "stdout",
          "text": [
            "Function completed\n",
            "Execution time: 2.00 seconds\n"
          ]
        }
      ]
    },
    {
      "cell_type": "code",
      "source": [
        "def tower_of_hanoi(n, source, target, auxiliary):\n",
        "    if n == 1:\n",
        "        print(f\"Move disk 1 from {source} to {target}\")\n",
        "        return\n",
        "    tower_of_hanoi(n - 1, source, auxiliary, target)\n",
        "    print(f\"Move disk {n} from {source} to {target}\")\n",
        "    tower_of_hanoi(n - 1, auxiliary, target, source)\n",
        "\n",
        "tower_of_hanoi(3, \"A\", \"C\", \"B\")\n"
      ],
      "metadata": {
        "colab": {
          "base_uri": "https://localhost:8080/"
        },
        "id": "fZByzxc1y3ll",
        "outputId": "61eb22d7-3377-4304-c287-3b5c90b46e82"
      },
      "execution_count": null,
      "outputs": [
        {
          "output_type": "stream",
          "name": "stdout",
          "text": [
            "Move disk 1 from A to C\n",
            "Move disk 2 from A to B\n",
            "Move disk 1 from C to B\n",
            "Move disk 3 from A to C\n",
            "Move disk 1 from B to A\n",
            "Move disk 2 from B to C\n",
            "Move disk 1 from A to C\n"
          ]
        }
      ]
    },
    {
      "cell_type": "code",
      "source": [
        "import heapq\n",
        "\n",
        "class PriorityQueue:\n",
        "    def __init__(self):\n",
        "        self.heap = []\n",
        "\n",
        "    def push(self, item, priority):\n",
        "        heapq.heappush(self.heap, (priority, item))\n",
        "\n",
        "    def pop(self):\n",
        "        return heapq.heappop(self.heap)[1]\n",
        "\n",
        "pq = PriorityQueue()\n",
        "pq.push(\"Task 1\", 2)\n",
        "pq.push(\"Task 2\", 1)\n",
        "pq.push(\"Task 3\", 3)\n",
        "print(pq.pop())\n"
      ],
      "metadata": {
        "colab": {
          "base_uri": "https://localhost:8080/"
        },
        "id": "bGPWG6sa0QwS",
        "outputId": "5d3d531f-53de-459d-b78c-a7965826d62b"
      },
      "execution_count": null,
      "outputs": [
        {
          "output_type": "stream",
          "name": "stdout",
          "text": [
            "Task 2\n"
          ]
        }
      ]
    },
    {
      "cell_type": "code",
      "source": [
        "def binary_search(arr, target):\n",
        "    low, high = 0, len(arr) - 1\n",
        "    while low <= high:\n",
        "        mid = (low + high) // 2\n",
        "        if arr[mid] == target:\n",
        "            return mid\n",
        "        elif arr[mid] < target:\n",
        "            low = mid + 1\n",
        "        else:\n",
        "            high = mid - 1\n",
        "    return -1\n",
        "\n",
        "result = binary_search([1, 3, 5, 7, 9], 7)\n",
        "print(result)\n"
      ],
      "metadata": {
        "colab": {
          "base_uri": "https://localhost:8080/"
        },
        "id": "Ucu_YfGB0SHy",
        "outputId": "4363ef0e-dee5-41b6-b8b4-90fb0023f4bc"
      },
      "execution_count": null,
      "outputs": [
        {
          "output_type": "stream",
          "name": "stdout",
          "text": [
            "3\n"
          ]
        }
      ]
    },
    {
      "cell_type": "code",
      "source": [
        "from collections import deque\n",
        "\n",
        "class Graph:\n",
        "    def __init__(self):\n",
        "        self.adjacency_list = {}\n",
        "\n",
        "    def add_edge(self, u, v):\n",
        "        if u not in self.adjacency_list:\n",
        "            self.adjacency_list[u] = []\n",
        "        self.adjacency_list[u].append(v)\n",
        "\n",
        "    def bfs(self, start):\n",
        "        visited = set()\n",
        "        queue = deque([start])\n",
        "        while queue:\n",
        "            node = queue.popleft()\n",
        "            if node not in visited:\n",
        "                print(node, end=\" \")\n",
        "                visited.add(node)\n",
        "                queue.extend(self.adjacency_list.get(node, []))\n",
        "\n",
        "g = Graph()\n",
        "g.add_edge(1, 2)\n",
        "g.add_edge(1, 3)\n",
        "g.add_edge(2, 4)\n",
        "g.bfs(1)\n"
      ],
      "metadata": {
        "colab": {
          "base_uri": "https://localhost:8080/"
        },
        "id": "pQqrUHJ30T6i",
        "outputId": "0eb5072e-a5eb-4b50-a4aa-efaa7f005704"
      },
      "execution_count": null,
      "outputs": [
        {
          "output_type": "stream",
          "name": "stdout",
          "text": [
            "1 2 3 4 "
          ]
        }
      ]
    },
    {
      "cell_type": "code",
      "source": [],
      "metadata": {
        "id": "_kL0CjMn0XLP"
      },
      "execution_count": null,
      "outputs": []
    }
  ]
}