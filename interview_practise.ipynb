{
  "nbformat": 4,
  "nbformat_minor": 0,
  "metadata": {
    "colab": {
      "provenance": [],
      "authorship_tag": "ABX9TyME2c9b3QlXIFu5/RnhkoeB",
      "include_colab_link": true
    },
    "kernelspec": {
      "name": "python3",
      "display_name": "Python 3"
    },
    "language_info": {
      "name": "python"
    }
  },
  "cells": [
    {
      "cell_type": "markdown",
      "metadata": {
        "id": "view-in-github",
        "colab_type": "text"
      },
      "source": [
        "<a href=\"https://colab.research.google.com/github/rajat459/python/blob/main/interview_practise.ipynb\" target=\"_parent\"><img src=\"https://colab.research.google.com/assets/colab-badge.svg\" alt=\"Open In Colab\"/></a>"
      ]
    },
    {
      "cell_type": "code",
      "execution_count": null,
      "metadata": {
        "colab": {
          "base_uri": "https://localhost:8080/"
        },
        "id": "Gd3Zn7fanWTr",
        "outputId": "e7a9cae2-182f-4c64-a0de-2a849f0794b6"
      },
      "outputs": [
        {
          "output_type": "stream",
          "name": "stdout",
          "text": [
            "rajat\n",
            "rajat\n",
            "rajat\n"
          ]
        }
      ],
      "source": [
        "m=3\n",
        "i=m-1\n",
        "while i>=0:\n",
        "  print(\"rajat\")\n",
        "  i-=1"
      ]
    },
    {
      "cell_type": "code",
      "source": [
        "class Solution:\n",
        "    def isValid(self, s: str) -> bool:\n",
        "        stack=[]\n",
        "        dic={')':'(','}':'{',']':'['}\n",
        "        for i in s:\n",
        "            if i in dic.values():\n",
        "                stack.append(i)\n",
        "            elif i in dic:\n",
        "                if not stack or stack[-1]!=dic[i]:\n",
        "                    return False\n",
        "                stack.pop()\n",
        "        else:\n",
        "            return(not stack)\n"
      ],
      "metadata": {
        "id": "EaoKKQe6nlF_"
      },
      "execution_count": null,
      "outputs": []
    },
    {
      "cell_type": "code",
      "source": [
        "\n",
        "s=\"III\"\n",
        "dic={'I':1,'V':5,'X':10 ,'L':50,'C':100,'D':500,'M':1000}\n",
        "\n",
        "for i in range(len(s)-1):\n",
        "            print([s[i]])\n"
      ],
      "metadata": {
        "colab": {
          "base_uri": "https://localhost:8080/"
        },
        "id": "E4bvwNV_nsr-",
        "outputId": "26dc5457-b98a-4800-90e9-50cf24451474"
      },
      "execution_count": null,
      "outputs": [
        {
          "output_type": "stream",
          "name": "stdout",
          "text": [
            "['I']\n",
            "['I']\n"
          ]
        }
      ]
    },
    {
      "cell_type": "code",
      "source": [
        "def my_decorator(func):  # Decorator function\n",
        "    def wrapper():\n",
        "        print(\"Before the function runs.\")\n",
        "        func()\n",
        "        print(\"After the function runs.\")\n",
        "    return wrapper\n"
      ],
      "metadata": {
        "id": "nta0os7Itv-4"
      },
      "execution_count": null,
      "outputs": []
    },
    {
      "cell_type": "code",
      "source": [
        "def logger(func):\n",
        "    def wrapper(*args, **kwargs):\n",
        "        print(f\"Calling {func.__name__} with arguments: {args}\")\n",
        "        return func(*args, **kwargs)\n",
        "    return wrapper\n",
        "\n",
        "@logger\n",
        "def add(a, b):\n",
        "    return a + b\n",
        "\n",
        "print(add(3, 4))\n"
      ],
      "metadata": {
        "colab": {
          "base_uri": "https://localhost:8080/"
        },
        "id": "1C25fUOkA9e6",
        "outputId": "8e5b49bb-dd41-41c4-8a36-06cb91a5468e"
      },
      "execution_count": null,
      "outputs": [
        {
          "output_type": "stream",
          "name": "stdout",
          "text": [
            "Calling add with arguments: (3, 4)\n",
            "7\n"
          ]
        }
      ]
    },
    {
      "cell_type": "code",
      "source": [
        "class Solution:\n",
        "    def intToRoman(self, num):\n",
        "        roman_map = [\n",
        "            (1000, 'M'),\n",
        "            (900, 'CM'),\n",
        "            (500, 'D'),\n",
        "            (400, 'CD'),\n",
        "            (100, 'C'),\n",
        "            (90, 'XC'),\n",
        "            (50, 'L'),\n",
        "            (40, 'XL'),\n",
        "            (10, 'X'),\n",
        "            (9, 'IX'),\n",
        "            (5, 'V'),\n",
        "            (4, 'IV'),\n",
        "            (1, 'I')\n",
        "        ]\n",
        "\n",
        "        result = \"\"\n",
        "\n",
        "        for value, symbol in roman_map:\n",
        "            while num >= value:\n",
        "                result += symbol\n",
        "                num -= value\n",
        "\n",
        "        return result\n"
      ],
      "metadata": {
        "id": "JvFF07yTA_9r"
      },
      "execution_count": null,
      "outputs": []
    },
    {
      "cell_type": "code",
      "source": [
        "class Solution:\n",
        "    def threeSum(self, nums):\n",
        "        nums.sort()  # Step 1: Sort the array\n",
        "        result = []\n",
        "\n",
        "        for i in range(len(nums) - 2):\n",
        "            # Skip duplicate elements\n",
        "            if i > 0 and nums[i] == nums[i - 1]:\n",
        "                continue\n",
        "\n",
        "            left = i + 1\n",
        "            right = len(nums) - 1\n",
        "\n",
        "            while left < right:\n",
        "                s = nums[i] + nums[left] + nums[right]\n",
        "\n",
        "                if s == 0:\n",
        "                    result.append([nums[i], nums[left], nums[right]])\n",
        "\n",
        "                    # Move left and right to skip duplicates\n",
        "                    while left < right and nums[left] == nums[left + 1]:\n",
        "                        left += 1\n",
        "                    while left < right and nums[right] == nums[right - 1]:\n",
        "                        right -= 1\n",
        "\n",
        "                    left += 1\n",
        "                    right -= 1\n",
        "\n",
        "                elif s < 0:\n",
        "                    left += 1  # Make the sum bigger\n",
        "                else:\n",
        "                    right -= 1  # Make the sum smaller\n",
        "\n",
        "        return result\n"
      ],
      "metadata": {
        "id": "Tsurv6JvBCr-"
      },
      "execution_count": null,
      "outputs": []
    },
    {
      "cell_type": "code",
      "source": [
        "import numpy as np\n",
        "\n",
        "a = np.array([[1, 2], [3, 4]])\n",
        "\n",
        "a.reshape(4)    # Changes shape, returns new array\n",
        "      # Returns a flattened view (if possible), faster\n"
      ],
      "metadata": {
        "colab": {
          "base_uri": "https://localhost:8080/"
        },
        "id": "oUycr5hXBGZd",
        "outputId": "ac67935a-0139-4409-8a76-d551fb335452"
      },
      "execution_count": null,
      "outputs": [
        {
          "output_type": "execute_result",
          "data": {
            "text/plain": [
              "array([1, 2, 3, 4])"
            ]
          },
          "metadata": {},
          "execution_count": 4
        }
      ]
    },
    {
      "cell_type": "code",
      "source": [
        "a.flatten()     # Returns a copy, 1D\n"
      ],
      "metadata": {
        "colab": {
          "base_uri": "https://localhost:8080/"
        },
        "id": "tawVN_IHgjY7",
        "outputId": "eea92ae9-4d26-4597-9a28-c67f5783fae0"
      },
      "execution_count": null,
      "outputs": [
        {
          "output_type": "execute_result",
          "data": {
            "text/plain": [
              "array([1, 2, 3, 4])"
            ]
          },
          "metadata": {},
          "execution_count": 6
        }
      ]
    },
    {
      "cell_type": "code",
      "source": [],
      "metadata": {
        "id": "LeigPuCYgsfv"
      },
      "execution_count": null,
      "outputs": []
    }
  ]
}