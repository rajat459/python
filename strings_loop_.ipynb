{
  "nbformat": 4,
  "nbformat_minor": 0,
  "metadata": {
    "colab": {
      "provenance": [],
      "authorship_tag": "ABX9TyN04enBgNdV4wujAMfuuVw0",
      "include_colab_link": true
    },
    "kernelspec": {
      "name": "python3",
      "display_name": "Python 3"
    },
    "language_info": {
      "name": "python"
    }
  },
  "cells": [
    {
      "cell_type": "markdown",
      "metadata": {
        "id": "view-in-github",
        "colab_type": "text"
      },
      "source": [
        "<a href=\"https://colab.research.google.com/github/rajat459/python/blob/main/strings_loop_.ipynb\" target=\"_parent\"><img src=\"https://colab.research.google.com/assets/colab-badge.svg\" alt=\"Open In Colab\"/></a>"
      ]
    },
    {
      "cell_type": "code",
      "execution_count": null,
      "metadata": {
        "colab": {
          "base_uri": "https://localhost:8080/"
        },
        "id": "6Ml2f79Dsavh",
        "outputId": "9e078063-234a-48b8-db63-598ba2f4d116"
      },
      "outputs": [
        {
          "output_type": "stream",
          "name": "stdout",
          "text": [
            "olleh\n"
          ]
        }
      ],
      "source": [
        "\n",
        "string = \"hello\"\n",
        "reversed_string = string[::-1]\n",
        "print(reversed_string)\n"
      ]
    },
    {
      "cell_type": "code",
      "source": [
        "\n",
        "string = \"hello\"\n",
        "reversed_string = \"\"\n",
        "for i in range(len(string) - 1, -1, -1):\n",
        "  reversed_string += string[i]\n",
        "print(reversed_string)\n"
      ],
      "metadata": {
        "id": "jxwVmzTBury0"
      },
      "execution_count": null,
      "outputs": []
    },
    {
      "cell_type": "code",
      "source": [
        "\n",
        "\n",
        "def reverse_string(s):\n",
        "  new_string = \"\"\n",
        "  for char in s:\n",
        "    new_string = char + new_string\n",
        "  return new_string\n",
        "\n",
        "string = \"hello\"\n",
        "reversed_string = reverse_string(string)\n",
        "print(reversed_string)\n"
      ],
      "metadata": {
        "colab": {
          "base_uri": "https://localhost:8080/"
        },
        "id": "4RA2phwcvvBy",
        "outputId": "4f189efa-b39f-4109-f902-4fbb7d2279c3"
      },
      "execution_count": null,
      "outputs": [
        {
          "output_type": "stream",
          "name": "stdout",
          "text": [
            "olleh\n"
          ]
        }
      ]
    },
    {
      "cell_type": "code",
      "source": [
        "\n",
        "\n",
        "n = int(input(\"Enter a number: \"))\n",
        "temp = n\n",
        "rev = 0\n",
        "\n",
        "while temp > 0:\n",
        "  digit = temp % 10\n",
        "  rev = rev * 10 + digit\n",
        "  temp //= 10\n",
        "\n",
        "if n == rev:\n",
        "  print(n, \"is a palindrome number\")\n",
        "else:\n",
        "  print(n, \"is not a palindrome number\")\n"
      ],
      "metadata": {
        "id": "zGKwn7ieyA1y"
      },
      "execution_count": null,
      "outputs": []
    },
    {
      "cell_type": "code",
      "source": [
        "\n",
        "\n",
        "def getSum(a, b):\n",
        "\n",
        "  while b != 0:\n",
        "    carry = a & b\n",
        "    a = a ^ b\n",
        "    b = carry << 1\n",
        "  return a\n",
        "\n",
        "\n",
        "# Example usage:\n",
        "a = 10\n",
        "b = 5\n",
        "sum_ab = getSum(a, b)\n",
        "print(f\"The sum of {a} and {b} is: {sum_ab}\")\n"
      ],
      "metadata": {
        "id": "521ChyNy2Cvo"
      },
      "execution_count": null,
      "outputs": []
    }
  ]
}