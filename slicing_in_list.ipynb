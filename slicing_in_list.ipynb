{
  "nbformat": 4,
  "nbformat_minor": 0,
  "metadata": {
    "colab": {
      "provenance": [],
      "authorship_tag": "ABX9TyOMZRvj417nIAZ+4DsJZ9UW",
      "include_colab_link": true
    },
    "kernelspec": {
      "name": "python3",
      "display_name": "Python 3"
    },
    "language_info": {
      "name": "python"
    }
  },
  "cells": [
    {
      "cell_type": "markdown",
      "metadata": {
        "id": "view-in-github",
        "colab_type": "text"
      },
      "source": [
        "<a href=\"https://colab.research.google.com/github/rajat459/python/blob/main/slicing_in_list.ipynb\" target=\"_parent\"><img src=\"https://colab.research.google.com/assets/colab-badge.svg\" alt=\"Open In Colab\"/></a>"
      ]
    },
    {
      "cell_type": "code",
      "execution_count": null,
      "metadata": {
        "colab": {
          "base_uri": "https://localhost:8080/"
        },
        "id": "vJlwHmNdAkon",
        "outputId": "7c1603bb-a4f5-4b77-8d28-dce9b2e08a47"
      },
      "outputs": [
        {
          "output_type": "stream",
          "name": "stdout",
          "text": [
            "[2, 4]\n"
          ]
        }
      ],
      "source": [
        "create a new list containing [2, 4] from numbers = [1, 2, 3, 4, 5] using slicing\n",
        "numbers = [1, 2, 3, 4, 5]\n",
        "new_list = numbers[1:4:2]\n",
        "print(new_list)"
      ]
    },
    {
      "cell_type": "code",
      "source": [
        "To create a new tuple from data = (10, 20, 30, 40) containing all elements except the last one:\n",
        "\n",
        "data = (10, 20, 30, 40)\n",
        "new_tuple = data[:-1]\n",
        "print(new_tuple)\n",
        "Output: (10, 20, 30)"
      ],
      "metadata": {
        "id": "zcFrX_WTB3v-"
      },
      "execution_count": null,
      "outputs": []
    },
    {
      "cell_type": "code",
      "source": [
        "To concatenate two lists, list1 = [1, 2] and list2 = [3, 4], and create a new list:\n",
        "list1 = [1, 2]\n",
        "list2 = [3, 4]\n",
        "new_list = list1 + list2\n",
        "print(new_list)\n",
        "Output:\n",
        "[1, 2, 3, 4]"
      ],
      "metadata": {
        "id": "TH58QKxYCMuj"
      },
      "execution_count": null,
      "outputs": []
    },
    {
      "cell_type": "code",
      "source": [
        "If-else statement to check if a variable x is greater than, less than, or equal to 10:\n",
        "\n",
        "x=10\n",
        "if x > 10:\n",
        "    print(\"x is greater than 10\")\n",
        "elif x < 10:\n",
        "    print(\"x is less than 10\")\n",
        "else:\n",
        "    print(\"x is equal to 10\")\n"
      ],
      "metadata": {
        "id": "k1Pdpa2aCsG7"
      },
      "execution_count": null,
      "outputs": []
    },
    {
      "cell_type": "code",
      "source": [
        "To extract \"World\" from s = \"Hello, World!\" using slicing:\n",
        "\n",
        "s = \"Hello, World!\"\n",
        "extracted_word = s[7:12]\n",
        "print(extracted_word)\n",
        "Output:\n",
        "World"
      ],
      "metadata": {
        "id": "n9NwwipxDAqn"
      },
      "execution_count": null,
      "outputs": []
    },
    {
      "cell_type": "code",
      "source": [
        "\n",
        "Using an f-string to print \"The value is 42\" where 42 is stored in a variable named value:\n",
        "\n",
        "value = 42\n",
        "print(f\"The value is {value}\")\n",
        "Using an f-string to print \"The value is 42\" where 42 is stored in a variable named value:\n",
        "\n",
        "python\n",
        "Copy code\n",
        "value = 42\n",
        "print(f\"The value is {value}\")\n"
      ],
      "metadata": {
        "id": "AZejQKKFDAnG"
      },
      "execution_count": null,
      "outputs": []
    },
    {
      "cell_type": "code",
      "source": [
        "To check if 'banana' is present in the tuple fruits = ('apple', 'banana', 'cherry') and print a message:\n",
        "\n",
        "fruits = ('apple', 'banana', 'cherry')\n",
        "if 'banana' in fruits:\n",
        "    print(\"Banana is present in the tuple\")"
      ],
      "metadata": {
        "colab": {
          "base_uri": "https://localhost:8080/",
          "height": 106
        },
        "id": "qY_FaBg4Dztb",
        "outputId": "2d87e545-0249-47aa-c30a-68a4ee227545"
      },
      "execution_count": null,
      "outputs": [
        {
          "output_type": "error",
          "ename": "SyntaxError",
          "evalue": "expected 'else' after 'if' expression (<ipython-input-7-0143aa9f3d2f>, line 1)",
          "traceback": [
            "\u001b[0;36m  File \u001b[0;32m\"<ipython-input-7-0143aa9f3d2f>\"\u001b[0;36m, line \u001b[0;32m1\u001b[0m\n\u001b[0;31m    To check if 'banana' is present in the tuple fruits = ('apple', 'banana', 'cherry') and print a message:\u001b[0m\n\u001b[0m       ^\u001b[0m\n\u001b[0;31mSyntaxError\u001b[0m\u001b[0;31m:\u001b[0m expected 'else' after 'if' expression\n"
          ]
        }
      ]
    },
    {
      "cell_type": "code",
      "source": [
        "To use slicing to get a new list containing the last three elements from data = [10, 20, 30, 40, 50]:\n",
        "\n",
        "data = [10, 20, 30, 40, 50]\n",
        "new_list = data[-3:]\n",
        "print(new_list)"
      ],
      "metadata": {
        "id": "tGzTE_z_DzqK"
      },
      "execution_count": null,
      "outputs": []
    },
    {
      "cell_type": "code",
      "source": [
        "If-else statement to determine if a string text ends with the suffix .txt:\n",
        "\n",
        "text = \"hello.txt\"\n",
        "if text.endswith(\".txt\"):\n",
        "    print(\"The string ends with .txt\")\n",
        "else:\n",
        "    print(\"The string does not end with .txt\")"
      ],
      "metadata": {
        "id": "zb3aM8fADzn8"
      },
      "execution_count": null,
      "outputs": []
    },
    {
      "cell_type": "code",
      "source": [
        "\n",
        "\n",
        "To use slicing to create a new list containing the first three elements from values = [5, 10, 15, 20, 25]:\n",
        "\n",
        "values = [5, 10, 15, 20, 25]\n",
        "new_list = values[:3]\n",
        "print(new_list)"
      ],
      "metadata": {
        "id": "WTOaAE4WDzld"
      },
      "execution_count": null,
      "outputs": []
    },
    {
      "cell_type": "code",
      "source": [
        "\n",
        "To print the first and last elements of the list names = ['Alice', 'Bob', 'Charlie']:\n",
        "\n",
        "names = ['Alice', 'Bob', 'Charlie']\n",
        "print(names[0], names[-1])"
      ],
      "metadata": {
        "id": "Fy_vwh9nDziz"
      },
      "execution_count": null,
      "outputs": []
    },
    {
      "cell_type": "code",
      "source": [
        "To create a new string with every second character from text = \"abcdefgh\":\n",
        "text = \"abcdefgh\"\n",
        "new_string = text[::2]\n",
        "print(new_string)\n",
        "Output will be: \"aceg\""
      ],
      "metadata": {
        "id": "uZeZNEU3DzgN"
      },
      "execution_count": null,
      "outputs": []
    },
    {
      "cell_type": "code",
      "source": [],
      "metadata": {
        "id": "zBT7zvZPDzdF"
      },
      "execution_count": null,
      "outputs": []
    },
    {
      "cell_type": "code",
      "source": [],
      "metadata": {
        "id": "78V_hrNMDzXl"
      },
      "execution_count": null,
      "outputs": []
    },
    {
      "cell_type": "code",
      "source": [],
      "metadata": {
        "id": "CiJJqNv_DzQe"
      },
      "execution_count": null,
      "outputs": []
    },
    {
      "cell_type": "code",
      "source": [],
      "metadata": {
        "id": "z7E1Pi1jDzHo"
      },
      "execution_count": null,
      "outputs": []
    },
    {
      "cell_type": "code",
      "source": [],
      "metadata": {
        "id": "j4rcMHorDy65"
      },
      "execution_count": null,
      "outputs": []
    }
  ]
}