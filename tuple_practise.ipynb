{
  "nbformat": 4,
  "nbformat_minor": 0,
  "metadata": {
    "colab": {
      "provenance": [],
      "authorship_tag": "ABX9TyPRE3KE28q5ffUpSaLDjTNZ",
      "include_colab_link": true
    },
    "kernelspec": {
      "name": "python3",
      "display_name": "Python 3"
    },
    "language_info": {
      "name": "python"
    }
  },
  "cells": [
    {
      "cell_type": "markdown",
      "metadata": {
        "id": "view-in-github",
        "colab_type": "text"
      },
      "source": [
        "<a href=\"https://colab.research.google.com/github/rajat459/python/blob/main/tuple_practise.ipynb\" target=\"_parent\"><img src=\"https://colab.research.google.com/assets/colab-badge.svg\" alt=\"Open In Colab\"/></a>"
      ]
    },
    {
      "cell_type": "code",
      "execution_count": 1,
      "metadata": {
        "colab": {
          "base_uri": "https://localhost:8080/"
        },
        "id": "8qIAwpf1pHaR",
        "outputId": "8cf4aaac-7ca5-4060-9c6d-2eb1cd631e59"
      },
      "outputs": [
        {
          "output_type": "stream",
          "name": "stdout",
          "text": [
            "Employees in IT department: [(102, 'Bob', 'IT', 75000), (104, 'Diana', 'IT', 80000)]\n",
            "Highest paid employee: (104, 'Diana', 'IT', 80000)\n",
            "Average salary: 62000.0\n"
          ]
        }
      ],
      "source": [
        "employees = (\n",
        "    (101, \"Alice\", \"HR\", 60000),\n",
        "    (102, \"Bob\", \"IT\", 75000),\n",
        "    (103, \"Charlie\", \"Finance\", 50000),\n",
        "    (104, \"Diana\", \"IT\", 80000),\n",
        "    (105, \"Eve\", \"HR\", 45000),\n",
        ")\n",
        "\n",
        "# Task 1: Extract employees from the \"IT\" department\n",
        "it_employees = [emp for emp in employees if emp[2] == \"IT\"]\n",
        "print(\"Employees in IT department:\", it_employees)\n",
        "\n",
        "# Task 2: Find the employee with the highest salary\n",
        "highest_paid = max(employees, key=lambda emp: emp[3])\n",
        "print(\"Highest paid employee:\", highest_paid)\n",
        "\n",
        "# Task 3: Calculate the average salary\n",
        "average_salary = sum(emp[3] for emp in employees) / len(employees)\n",
        "print(\"Average salary:\", average_salary)\n"
      ]
    },
    {
      "cell_type": "code",
      "source": [
        "# Given tuple\n",
        "numbers = (10, 20, 30, 40, 50, 60, 70, 80, 90, 100)\n",
        "\n",
        "# Task 1: Find the first and last elements\n",
        "first_element = numbers[0]\n",
        "last_element = numbers[-1]\n",
        "print(\"First element:\", first_element)\n",
        "print(\"Last element:\", last_element)\n",
        "\n",
        "even_numbers = tuple(num for num in numbers if num % 2 == 0)\n",
        "print(\"Even numbers:\", even_numbers)\n",
        "\n",
        "# Task 3: Reverse the tuple\n",
        "reversed_tuple = numbers[::-1]\n",
        "print(\"Reversed tuple:\", reversed_tuple)\n",
        "\n",
        "# Task 4: Find the sum of all elements in the tuple\n",
        "total_sum = sum(numbers)\n",
        "print(\"Sum of all elements:\", total_sum)\n"
      ],
      "metadata": {
        "colab": {
          "base_uri": "https://localhost:8080/"
        },
        "id": "17PtAs2Zpa1-",
        "outputId": "1cfb3baa-94fc-4691-c2aa-8178a0bea7b9"
      },
      "execution_count": 2,
      "outputs": [
        {
          "output_type": "stream",
          "name": "stdout",
          "text": [
            "First element: 10\n",
            "Last element: 100\n",
            "Even numbers: (10, 20, 30, 40, 50, 60, 70, 80, 90, 100)\n",
            "Reversed tuple: (100, 90, 80, 70, 60, 50, 40, 30, 20, 10)\n",
            "Sum of all elements: 550\n"
          ]
        }
      ]
    },
    {
      "cell_type": "code",
      "source": [
        "fruits = (\"apple\", \"banana\", \"cherry\", \"date\", \"elderberry\")\n",
        "print(\"banana\" in fruits)\n",
        "print(fruits.index(\"cherry\"))\n",
        "print(fruits[-3:])\n",
        "print(fruits.count(\"apple\"))\n"
      ],
      "metadata": {
        "colab": {
          "base_uri": "https://localhost:8080/"
        },
        "id": "2bmgTPHKppVb",
        "outputId": "3a2ded33-6a33-4f81-f449-19bac202b3c2"
      },
      "execution_count": 3,
      "outputs": [
        {
          "output_type": "stream",
          "name": "stdout",
          "text": [
            "True\n",
            "2\n",
            "('cherry', 'date', 'elderberry')\n",
            "1\n"
          ]
        }
      ]
    },
    {
      "cell_type": "code",
      "source": [
        "person = (\"John\", 30, \"New York\")\n",
        "name, age, city = person\n",
        "print(name, age, city)\n"
      ],
      "metadata": {
        "colab": {
          "base_uri": "https://localhost:8080/"
        },
        "id": "GsqJRI-Kp35R",
        "outputId": "2a6bd462-2bad-487e-a79f-027c902e231d"
      },
      "execution_count": 4,
      "outputs": [
        {
          "output_type": "stream",
          "name": "stdout",
          "text": [
            "John 30 New York\n"
          ]
        }
      ]
    },
    {
      "cell_type": "code",
      "source": [
        "matrix = ((1, 2, 3), (4, 5, 6), (7, 8, 9))\n",
        "print(matrix[1])\n",
        "print(matrix[2][2])\n",
        "print(sum(sum(row) for row in matrix))\n"
      ],
      "metadata": {
        "colab": {
          "base_uri": "https://localhost:8080/"
        },
        "id": "JOyefzp7p5Xv",
        "outputId": "4a160f85-b22e-405f-97c2-3a4fb5d9da22"
      },
      "execution_count": 5,
      "outputs": [
        {
          "output_type": "stream",
          "name": "stdout",
          "text": [
            "(4, 5, 6)\n",
            "9\n",
            "45\n"
          ]
        }
      ]
    },
    {
      "cell_type": "code",
      "source": [
        "a, b = 5, 10\n",
        "a, b = b, a\n",
        "print(a, b)\n"
      ],
      "metadata": {
        "colab": {
          "base_uri": "https://localhost:8080/"
        },
        "id": "QlNKgYc6p63t",
        "outputId": "afd5b90c-92b1-48a9-9e7a-f91a8afd8da0"
      },
      "execution_count": 6,
      "outputs": [
        {
          "output_type": "stream",
          "name": "stdout",
          "text": [
            "10 5\n"
          ]
        }
      ]
    },
    {
      "cell_type": "code",
      "source": [
        "numbers = [1, 2, 3, 4, 5]\n",
        "numbers_tuple = tuple(numbers)\n",
        "numbers_list = list(numbers_tuple)\n",
        "print(numbers_tuple)\n",
        "print(numbers_list)\n"
      ],
      "metadata": {
        "colab": {
          "base_uri": "https://localhost:8080/"
        },
        "id": "gOH01ZO7p87W",
        "outputId": "3c4c0d57-2395-48eb-b9cf-49524c3b83fa"
      },
      "execution_count": 7,
      "outputs": [
        {
          "output_type": "stream",
          "name": "stdout",
          "text": [
            "(1, 2, 3, 4, 5)\n",
            "[1, 2, 3, 4, 5]\n"
          ]
        }
      ]
    },
    {
      "cell_type": "code",
      "source": [
        "coordinates = [(1, 2), (3, 4), (5, 6)]\n",
        "coord_dict = {coord: sum(coord) for coord in coordinates}\n",
        "print(coord_dict)\n",
        "print(coord_dict[(3, 4)])\n"
      ],
      "metadata": {
        "colab": {
          "base_uri": "https://localhost:8080/"
        },
        "id": "FlWQ8Wt2p-WR",
        "outputId": "8a84b058-eeba-4470-aedb-fb46fb21d4d1"
      },
      "execution_count": 8,
      "outputs": [
        {
          "output_type": "stream",
          "name": "stdout",
          "text": [
            "{(1, 2): 3, (3, 4): 7, (5, 6): 11}\n",
            "7\n"
          ]
        }
      ]
    },
    {
      "cell_type": "code",
      "source": [
        "students = [(\"Alice\", 85), (\"Bob\", 75), (\"Charlie\", 95)]\n",
        "sorted_by_marks = sorted(students, key=lambda x: x[1])\n",
        "sorted_by_name = sorted(students, key=lambda x: x[0])\n",
        "print(sorted_by_marks)\n",
        "print(sorted_by_name)\n"
      ],
      "metadata": {
        "colab": {
          "base_uri": "https://localhost:8080/"
        },
        "id": "JNNyUkqbqAI3",
        "outputId": "d8a38481-090c-412c-85fb-cc05bc69811e"
      },
      "execution_count": 9,
      "outputs": [
        {
          "output_type": "stream",
          "name": "stdout",
          "text": [
            "[('Bob', 75), ('Alice', 85), ('Charlie', 95)]\n",
            "[('Alice', 85), ('Bob', 75), ('Charlie', 95)]\n"
          ]
        }
      ]
    },
    {
      "cell_type": "code",
      "source": [
        "try:\n",
        "    my_tuple = (1, 2, 3)\n",
        "    my_tuple[0] = 10\n",
        "except TypeError as e:\n",
        "    print(\"Error:\", e)\n"
      ],
      "metadata": {
        "colab": {
          "base_uri": "https://localhost:8080/"
        },
        "id": "fBxnUxp3qBm2",
        "outputId": "0713c456-8018-4bd2-cc1b-9e5554dadc44"
      },
      "execution_count": 10,
      "outputs": [
        {
          "output_type": "stream",
          "name": "stdout",
          "text": [
            "Error: 'tuple' object does not support item assignment\n"
          ]
        }
      ]
    },
    {
      "cell_type": "code",
      "source": [
        "nested = ((1, 2), (3, 4), (5, 6))\n",
        "flattened = tuple(item for subtuple in nested for item in subtuple)\n",
        "print(flattened)\n"
      ],
      "metadata": {
        "colab": {
          "base_uri": "https://localhost:8080/"
        },
        "id": "9jpH90QPqDp5",
        "outputId": "cd8f56c2-7a36-4874-c567-7ecacc7a6fed"
      },
      "execution_count": 11,
      "outputs": [
        {
          "output_type": "stream",
          "name": "stdout",
          "text": [
            "(1, 2, 3, 4, 5, 6)\n"
          ]
        }
      ]
    },
    {
      "cell_type": "code",
      "source": [
        "user_input = input(\"Enter numbers separated by commas: \")\n",
        "numbers = tuple(map(int, user_input.split(',')))\n",
        "print(max(numbers))\n",
        "print(min(numbers))\n",
        "specific_num = int(input(\"Enter a number to check: \"))\n",
        "print(specific_num in numbers)\n"
      ],
      "metadata": {
        "colab": {
          "base_uri": "https://localhost:8080/"
        },
        "id": "dbBAv3mMqFSj",
        "outputId": "14d21cc6-c37c-40a4-8915-df0648513346"
      },
      "execution_count": 12,
      "outputs": [
        {
          "output_type": "stream",
          "name": "stdout",
          "text": [
            "Enter numbers separated by commas: 1,2,3,4\n",
            "4\n",
            "1\n",
            "Enter a number to check: 4\n",
            "True\n"
          ]
        }
      ]
    },
    {
      "cell_type": "code",
      "source": [],
      "metadata": {
        "id": "t_JE3W3-qGvE"
      },
      "execution_count": null,
      "outputs": []
    }
  ]
}