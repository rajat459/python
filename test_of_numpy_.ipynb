{
  "nbformat": 4,
  "nbformat_minor": 0,
  "metadata": {
    "colab": {
      "provenance": [],
      "authorship_tag": "ABX9TyMOEPjJ5HMac3gGdf7f7VEG",
      "include_colab_link": true
    },
    "kernelspec": {
      "name": "python3",
      "display_name": "Python 3"
    },
    "language_info": {
      "name": "python"
    }
  },
  "cells": [
    {
      "cell_type": "markdown",
      "metadata": {
        "id": "view-in-github",
        "colab_type": "text"
      },
      "source": [
        "<a href=\"https://colab.research.google.com/github/rajat459/python/blob/main/test_of_numpy_.ipynb\" target=\"_parent\"><img src=\"https://colab.research.google.com/assets/colab-badge.svg\" alt=\"Open In Colab\"/></a>"
      ]
    },
    {
      "cell_type": "code",
      "source": [
        "# Q.1 = Write statement to import numpy ?\n",
        "import numpy as np"
      ],
      "metadata": {
        "id": "aanyy_ndEnLW"
      },
      "execution_count": 2,
      "outputs": []
    },
    {
      "cell_type": "code",
      "source": [
        "#2\n",
        "array=np.random.rand(2,3)\n",
        "array"
      ],
      "metadata": {
        "colab": {
          "base_uri": "https://localhost:8080/"
        },
        "id": "kiT5-ktkQEOs",
        "outputId": "23bcfc2c-55f9-44f2-e4fe-6f08dfced38e"
      },
      "execution_count": 35,
      "outputs": [
        {
          "output_type": "execute_result",
          "data": {
            "text/plain": [
              "array([[0.32898019, 0.29756906, 0.52431821],\n",
              "       [0.55851233, 0.5618299 , 0.76292019]])"
            ]
          },
          "metadata": {},
          "execution_count": 35
        }
      ]
    },
    {
      "cell_type": "code",
      "source": [
        "#3\n",
        "array=np.random.randint(0,3,3)\n",
        "array"
      ],
      "metadata": {
        "colab": {
          "base_uri": "https://localhost:8080/"
        },
        "id": "9FasCd_MU2Ni",
        "outputId": "901d8de3-21d4-4560-ca63-b66be7b240de"
      },
      "execution_count": 21,
      "outputs": [
        {
          "output_type": "execute_result",
          "data": {
            "text/plain": [
              "array([0, 2, 0])"
            ]
          },
          "metadata": {},
          "execution_count": 21
        }
      ]
    },
    {
      "cell_type": "code",
      "source": [
        "#4\n",
        "array = np.arange(10, 21)\n",
        "print(array)\n",
        "\n"
      ],
      "metadata": {
        "id": "zYFLPxzsYR1C",
        "outputId": "d62f5aa8-a235-4283-b3a0-d28f23cd056b",
        "colab": {
          "base_uri": "https://localhost:8080/"
        }
      },
      "execution_count": 29,
      "outputs": [
        {
          "output_type": "stream",
          "name": "stdout",
          "text": [
            "[10 11 12 13 14 15 16 17 18 19 20]\n"
          ]
        }
      ]
    },
    {
      "cell_type": "code",
      "source": [
        "#5\n",
        "a=np.repeat(8,10)\n",
        "a"
      ],
      "metadata": {
        "id": "Muhl4VqNYRFg",
        "outputId": "7d428814-5cdf-43cf-fb83-9a6173b72e27",
        "colab": {
          "base_uri": "https://localhost:8080/"
        }
      },
      "execution_count": 30,
      "outputs": [
        {
          "output_type": "execute_result",
          "data": {
            "text/plain": [
              "array([8, 8, 8, 8, 8, 8, 8, 8, 8, 8])"
            ]
          },
          "metadata": {},
          "execution_count": 30
        }
      ]
    },
    {
      "cell_type": "code",
      "source": [
        "#6\n",
        "matrix = np.arange(0,12).reshape((4,3))\n",
        "matrix\n"
      ],
      "metadata": {
        "id": "bGTkFt3GYQ9Y",
        "outputId": "bb0494aa-76d0-4758-ea93-6e48663b1169",
        "colab": {
          "base_uri": "https://localhost:8080/"
        }
      },
      "execution_count": 33,
      "outputs": [
        {
          "output_type": "execute_result",
          "data": {
            "text/plain": [
              "array([[ 0,  1,  2],\n",
              "       [ 3,  4,  5],\n",
              "       [ 6,  7,  8],\n",
              "       [ 9, 10, 11]])"
            ]
          },
          "metadata": {},
          "execution_count": 33
        }
      ]
    },
    {
      "cell_type": "code",
      "source": [
        "array = np.random.rand(3, 3)\n",
        "print(array)\n"
      ],
      "metadata": {
        "id": "xDw_kiObYQ1Q",
        "outputId": "1bd35793-8d49-4de6-a02d-12feeb10ab17",
        "colab": {
          "base_uri": "https://localhost:8080/"
        }
      },
      "execution_count": 34,
      "outputs": [
        {
          "output_type": "stream",
          "name": "stdout",
          "text": [
            "[[0.1016851  0.61486017 0.44380753]\n",
            " [0.83684995 0.75155674 0.24231639]\n",
            " [0.01324249 0.71402642 0.50290474]]\n"
          ]
        }
      ]
    },
    {
      "cell_type": "code",
      "source": [
        "#8\n",
        "array1 = np.array([[1, 2], [3, 4]])\n",
        "array2 = np.array([[5, 6], [7, 8]])\n",
        "\n",
        "np.concatenate((array1, array2))\n",
        "np.hstack((array1, array2))\n",
        "\n",
        "np.concatenate((array1, array2))\n",
        "np.vstack((array1, array2))"
      ],
      "metadata": {
        "id": "qvat02jCXiCp",
        "outputId": "e7c90411-7533-4b61-b79d-ec6b62c09ff0",
        "colab": {
          "base_uri": "https://localhost:8080/"
        }
      },
      "execution_count": 28,
      "outputs": [
        {
          "output_type": "execute_result",
          "data": {
            "text/plain": [
              "array([[1, 2],\n",
              "       [3, 4],\n",
              "       [5, 6],\n",
              "       [7, 8]])"
            ]
          },
          "metadata": {},
          "execution_count": 28
        }
      ]
    },
    {
      "cell_type": "code",
      "source": [
        "#Q.9 difference between zeros() , ones() , eye() , diag() , linspace() , unique() , random(randint() , rand()) with example.\n",
        "\n",
        "#zeros gives a matrix where all values are 0\n",
        "a=np.zeros((3,3))\n",
        "a\n",
        "#ones--->ones gives a matrix where all values are 1\n",
        "b=np.ones((3,3))\n",
        "b\n",
        "#eye---> it gives an indentital matrix.\n",
        "c=np.eye(3,3)\n",
        "c\n",
        "# diag--> it gives the array in which in diagnol position of any number are given and others are 0\n",
        "d=np.diag((3,3))\n",
        "d\n",
        "# linspcae --> it gives an equal gaps of number in the given range\n",
        "e=np.linspace(0,10,5)\n",
        "e\n",
        "#unique --> it gives an unique vlaue and then it process it count and gives index\n",
        "f=np.unique([2,3,4,5,6])\n",
        "f\n",
        "# random rand ---- it gives random value btw 0 and 1 and float\n",
        "array=np.random.rand(3,3)\n",
        "array\n",
        "# random rand int -- it gives vlaue in range btw given\n",
        "array=np.random.randint(0,3,3)\n",
        "array"
      ],
      "metadata": {
        "colab": {
          "base_uri": "https://localhost:8080/"
        },
        "id": "aVTYCCqmQ3VY",
        "outputId": "a6970477-8481-4e3b-944a-f9c31717fe43"
      },
      "execution_count": 20,
      "outputs": [
        {
          "output_type": "execute_result",
          "data": {
            "text/plain": [
              "array([2, 3, 4, 5, 6])"
            ]
          },
          "metadata": {},
          "execution_count": 20
        }
      ]
    },
    {
      "cell_type": "code",
      "source": [
        "# 10\n",
        "# horizontol stack --- in which it turns the array in horizontol form\n",
        "a=np.array([1,2,3])\n",
        "b=np.array([4,5,6])\n",
        "np.hstack((a,b))\n",
        "# v stcak---> in which it turns the array in vertical form\n",
        "a=np.array([1,2,3])\n",
        "b=np.array([4,5,6])\n",
        "np.vstack((a,b))\n"
      ],
      "metadata": {
        "colab": {
          "base_uri": "https://localhost:8080/"
        },
        "id": "le91gEHDRXqK",
        "outputId": "1bd377dd-076c-4079-d57c-898df3600f2f"
      },
      "execution_count": 25,
      "outputs": [
        {
          "output_type": "execute_result",
          "data": {
            "text/plain": [
              "array([[1, 2, 3],\n",
              "       [4, 5, 6]])"
            ]
          },
          "metadata": {},
          "execution_count": 24
        },
        {
          "output_type": "execute_result",
          "data": {
            "text/plain": [
              "array([[1, 2, 3],\n",
              "       [4, 5, 6]])"
            ]
          },
          "metadata": {},
          "execution_count": 25
        }
      ]
    },
    {
      "cell_type": "code",
      "source": [
        "# 11\n",
        "# view-- when we use view the data we have changed it directly changed in our orginal data.\n",
        "new = np.array([1, 2, 3])\n",
        "\n",
        "view1 = new\n",
        "copy1 = new.copy()\n",
        "\n",
        "new[0] = 10\n",
        "\n",
        "print(new)\n",
        "print( view1)\n",
        "print( copy1)\n"
      ],
      "metadata": {
        "colab": {
          "base_uri": "https://localhost:8080/"
        },
        "id": "cl-ji008VnEo",
        "outputId": "5b535781-f9d0-4362-c661-623b2c02c0fa"
      },
      "execution_count": 36,
      "outputs": [
        {
          "output_type": "stream",
          "name": "stdout",
          "text": [
            "[10  2  3]\n",
            "[10  2  3]\n",
            "[1 2 3]\n"
          ]
        }
      ]
    },
    {
      "cell_type": "code",
      "source": [],
      "metadata": {
        "id": "I0crFjijW_Fr"
      },
      "execution_count": null,
      "outputs": []
    }
  ]
}