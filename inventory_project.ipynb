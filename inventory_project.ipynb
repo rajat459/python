{
  "nbformat": 4,
  "nbformat_minor": 0,
  "metadata": {
    "colab": {
      "provenance": [],
      "authorship_tag": "ABX9TyPX9ZEqsed0QHaZyuoajjIo",
      "include_colab_link": true
    },
    "kernelspec": {
      "name": "python3",
      "display_name": "Python 3"
    },
    "language_info": {
      "name": "python"
    }
  },
  "cells": [
    {
      "cell_type": "markdown",
      "metadata": {
        "id": "view-in-github",
        "colab_type": "text"
      },
      "source": [
        "<a href=\"https://colab.research.google.com/github/rajat459/python/blob/main/inventory_project.ipynb\" target=\"_parent\"><img src=\"https://colab.research.google.com/assets/colab-badge.svg\" alt=\"Open In Colab\"/></a>"
      ]
    },
    {
      "cell_type": "code",
      "execution_count": null,
      "metadata": {
        "colab": {
          "base_uri": "https://localhost:8080/"
        },
        "id": "lMoUiPMOA6td",
        "outputId": "ee6fbbab-5bc0-4267-b316-c9a8453d8d5d"
      },
      "outputs": [
        {
          "output_type": "stream",
          "name": "stdout",
          "text": [
            "1. Add New Product\n",
            "2. Update Quantity\n",
            "3. Search Product\n",
            "4. Delete Product\n",
            "5. Display All Products\n",
            "6. Generate Invoice\n",
            "7. Exit\n"
          ]
        }
      ],
      "source": [
        "import os\n",
        "\n",
        "class InventoryManager:\n",
        "    def __init__(self):\n",
        "        self.inventory = {}\n",
        "\n",
        "    def add_product(self, product_id, name, quantity, price):\n",
        "        if product_id in self.inventory:\n",
        "            return \"Product ID already exists.\"\n",
        "        self.inventory[product_id] = {\"name\": name, \"quantity\": quantity, \"price\": price}\n",
        "        return \"Product added successfully.\"\n",
        "\n",
        "    def update_quantity(self, product_id, quantity_change):\n",
        "        if product_id not in self.inventory:\n",
        "            return \"Product ID not found.\"\n",
        "        self.inventory[product_id][\"quantity\"] += quantity_change\n",
        "        if self.inventory[product_id][\"quantity\"] < 0:\n",
        "            self.inventory[product_id][\"quantity\"] -= quantity_change\n",
        "            return \"Insufficient stock.\"\n",
        "        return \"Quantity updated successfully.\"\n",
        "\n",
        "    def search_product(self, search_term):\n",
        "        result = []\n",
        "        for product_id, details in self.inventory.items():\n",
        "            if search_term.lower() in details[\"name\"].lower() or search_term == product_id:\n",
        "                result.append((product_id, details))\n",
        "        return result if result else \"No matching product found.\"\n",
        "\n",
        "    def delete_product(self, product_id):\n",
        "        if product_id in self.inventory:\n",
        "            del self.inventory[product_id]\n",
        "            return \"Product deleted successfully.\"\n",
        "        return \"Product ID not found.\"\n",
        "\n",
        "    def display_all_products(self):\n",
        "        return sorted(self.inventory.items(), key=lambda x: x[1][\"name\"])\n",
        "\n",
        "    def generate_invoice(self, purchase_list):\n",
        "        total_cost = 0\n",
        "        for product_id, quantity in purchase_list:\n",
        "            if product_id not in self.inventory:\n",
        "                return f\"Product ID {product_id} not found.\"\n",
        "            if self.inventory[product_id][\"quantity\"] < quantity:\n",
        "                return f\"Insufficient stock for Product ID {product_id}.\"\n",
        "            total_cost += self.inventory[product_id][\"price\"] * quantity\n",
        "            self.inventory[product_id][\"quantity\"] -= quantity\n",
        "        return f\"Total cost: {total_cost}\"\n",
        "\n",
        "\n",
        "def main():\n",
        "    manager = InventoryManager()\n",
        "\n",
        "    while True:\n",
        "        print(\"1. Add New Product\")\n",
        "        print(\"2. Update Quantity\")\n",
        "        print(\"3. Search Product\")\n",
        "        print(\"4. Delete Product\")\n",
        "        print(\"5. Display All Products\")\n",
        "        print(\"6. Generate Invoice\")\n",
        "        print(\"7. Exit\")\n",
        "\n",
        "        choice = int(input(\"Enter your choice: \"))\n",
        "\n",
        "        if choice == 1:\n",
        "            product_id = input(\"Enter Product ID: \")\n",
        "            name = input(\"Enter Product Name: \")\n",
        "            quantity = int(input(\"Enter Quantity: \"))\n",
        "            price = float(input(\"Enter Price Per Unit: \"))\n",
        "            print(manager.add_product(product_id, name, quantity, price))\n",
        "\n",
        "        elif choice == 2:\n",
        "            product_id = input(\"Enter Product ID: \")\n",
        "            quantity_change = int(input(\"Enter Quantity Change (+/-): \"))\n",
        "            print(manager.update_quantity(product_id, quantity_change))\n",
        "\n",
        "        elif choice == 3:\n",
        "            search_term = input(\"Enter Product ID or Name: \")\n",
        "            results = manager.search_product(search_term)\n",
        "            if isinstance(results, str):\n",
        "                print(results)\n",
        "            else:\n",
        "                for pid, details in results:\n",
        "                    print(f\"ID: {pid}, Name: {details['name']}, Quantity: {details['quantity']}, Price: {details['price']}\")\n",
        "\n",
        "        elif choice == 4:\n",
        "            product_id = input(\"Enter Product ID: \")\n",
        "            print(manager.delete_product(product_id))\n",
        "\n",
        "        elif choice == 5:\n",
        "            products = manager.display_all_products()\n",
        "            for pid, details in products:\n",
        "                print(f\"ID: {pid}, Name: {details['name']}, Quantity: {details['quantity']}, Price: {details['price']}\")\n",
        "\n",
        "        elif choice == 6:\n",
        "            purchase_list = []\n",
        "            while True:\n",
        "                product_id = input(\"Enter Product ID (or 'done' to finish): \")\n",
        "                if product_id.lower() == 'done':\n",
        "                    break\n",
        "                quantity = int(input(\"Enter Quantity: \"))\n",
        "                purchase_list.append((product_id, quantity))\n",
        "            print(manager.generate_invoice(purchase_list))\n",
        "\n",
        "        elif choice == 7:\n",
        "            break\n",
        "\n",
        "        else:\n",
        "            print(\"Invalid choice. Please try again.\")\n",
        "\n",
        "if __name__ == \"__main__\":\n",
        "    main()\n"
      ]
    }
  ]
}