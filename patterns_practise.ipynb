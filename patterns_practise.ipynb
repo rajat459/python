{
  "nbformat": 4,
  "nbformat_minor": 0,
  "metadata": {
    "colab": {
      "provenance": [],
      "authorship_tag": "ABX9TyPOEcqL5vyvo8LebZFE+/Sh",
      "include_colab_link": true
    },
    "kernelspec": {
      "name": "python3",
      "display_name": "Python 3"
    },
    "language_info": {
      "name": "python"
    }
  },
  "cells": [
    {
      "cell_type": "markdown",
      "metadata": {
        "id": "view-in-github",
        "colab_type": "text"
      },
      "source": [
        "<a href=\"https://colab.research.google.com/github/rajat459/python/blob/main/patterns_practise.ipynb\" target=\"_parent\"><img src=\"https://colab.research.google.com/assets/colab-badge.svg\" alt=\"Open In Colab\"/></a>"
      ]
    },
    {
      "cell_type": "code",
      "execution_count": 6,
      "metadata": {
        "colab": {
          "base_uri": "https://localhost:8080/"
        },
        "id": "pxOP0ShwYRiJ",
        "outputId": "4fc9f691-14ae-4025-f676-23efb7c2b283"
      },
      "outputs": [
        {
          "output_type": "stream",
          "name": "stdout",
          "text": [
            "*\n",
            "**\n",
            "***\n",
            "****\n",
            "*****\n",
            "******\n"
          ]
        }
      ],
      "source": [
        "n=6\n",
        "for i in range(1,n+1):\n",
        "  for j in range(i):\n",
        "    print(\"*\",end=\"\")\n",
        "  print()"
      ]
    },
    {
      "cell_type": "code",
      "source": [
        "n=6\n",
        "for i in range(n+1,0,-1):\n",
        "  for j in range(i):\n",
        "    print(\"*\",end=\"\")\n",
        "  print()"
      ],
      "metadata": {
        "colab": {
          "base_uri": "https://localhost:8080/"
        },
        "id": "1iUqfEJ_YZUC",
        "outputId": "0f772cc9-e3ad-4afe-f11a-6786b58cf06d"
      },
      "execution_count": 8,
      "outputs": [
        {
          "output_type": "stream",
          "name": "stdout",
          "text": [
            "*******\n",
            "******\n",
            "*****\n",
            "****\n",
            "***\n",
            "**\n",
            "*\n"
          ]
        }
      ]
    },
    {
      "cell_type": "code",
      "source": [
        "n=6\n",
        "for i in range(1,n+1):\n",
        "  for j in range(n-i):\n",
        "    print(\"-\",end=\"\")\n",
        "  for k in range(2*i-1):\n",
        "      print(\"*\",end=\"\")\n",
        "  print()"
      ],
      "metadata": {
        "colab": {
          "base_uri": "https://localhost:8080/"
        },
        "id": "3v6Zfgb0ZtiD",
        "outputId": "8d47d47e-36bf-4798-f146-12d301b3bd24"
      },
      "execution_count": 18,
      "outputs": [
        {
          "output_type": "stream",
          "name": "stdout",
          "text": [
            "-----*\n",
            "----***\n",
            "---*****\n",
            "--*******\n",
            "-*********\n",
            "***********\n"
          ]
        }
      ]
    },
    {
      "cell_type": "code",
      "source": [
        "n = 5\n",
        "for i in range(1, n + 1):\n",
        "    # Print leading spaces\n",
        "    for j in range(n - i):\n",
        "        print(\" \", end=\"\")\n",
        "\n",
        "    # Print stars\n",
        "    for j in range(i):\n",
        "        print(\"*\", end=\"\")\n",
        "\n",
        "    # Move to the next line\n",
        "    print()\n"
      ],
      "metadata": {
        "colab": {
          "base_uri": "https://localhost:8080/"
        },
        "id": "aI6lOE8saye3",
        "outputId": "bec4f3d4-4e3b-43ec-a2b8-35771ceb4376"
      },
      "execution_count": 13,
      "outputs": [
        {
          "output_type": "stream",
          "name": "stdout",
          "text": [
            "    *\n",
            "   **\n",
            "  ***\n",
            " ****\n",
            "*****\n"
          ]
        }
      ]
    },
    {
      "cell_type": "code",
      "source": [
        "n = 5\n",
        "\n",
        "# Upper half of the diamond (pyramid)\n",
        "for i in range(1, n + 1):\n",
        "    # Print leading spaces\n",
        "    for j in range(n - i):\n",
        "        print(\" \", end=\"\")\n",
        "\n",
        "    # Print stars\n",
        "    for j in range(2 * i - 1):\n",
        "        print(\"*\", end=\"\")\n",
        "\n",
        "    # Move to the next line\n",
        "    print()\n",
        "\n",
        "# Lower half of the diamond (inverted pyramid)\n",
        "for i in range(n - 1, 0, -1):\n",
        "    # Print leading spaces\n",
        "    for j in range(n - i):\n",
        "        print(\" \", end=\"\")\n",
        "\n",
        "    # Print stars\n",
        "    for j in range(2 * i - 1):\n",
        "        print(\"*\", end=\"\")\n",
        "\n",
        "    # Move to the next line\n",
        "    print()\n"
      ],
      "metadata": {
        "colab": {
          "base_uri": "https://localhost:8080/"
        },
        "id": "Xbt4ffpzbWkb",
        "outputId": "943e0194-4ec2-457f-f0fb-2c724c083307"
      },
      "execution_count": 17,
      "outputs": [
        {
          "output_type": "stream",
          "name": "stdout",
          "text": [
            "    *\n",
            "   ***\n",
            "  *****\n",
            " *******\n",
            "*********\n",
            " *******\n",
            "  *****\n",
            "   ***\n",
            "    *\n"
          ]
        }
      ]
    },
    {
      "cell_type": "code",
      "source": [
        "n=6\n",
        "for i in range(1,n+1):\n",
        "  for j in range(n-i):\n",
        "    print(\"-\",end=\"\")\n",
        "  for k in range(2*i-1):\n",
        "      print(\"*\",end=\"\")\n",
        "  print()\n",
        "for i in range(n-1,0,-1):\n",
        "  for j in range(n-i):\n",
        "    print(\"-\",end=\"\")\n",
        "  for k in range(2*i-1):\n",
        "      print(\"*\",end=\"\")\n",
        "  print()"
      ],
      "metadata": {
        "colab": {
          "base_uri": "https://localhost:8080/"
        },
        "id": "Kk8bJ53-cWNF",
        "outputId": "206fdd22-a388-42c4-dfc2-05ae159101d3"
      },
      "execution_count": 22,
      "outputs": [
        {
          "output_type": "stream",
          "name": "stdout",
          "text": [
            "-----*\n",
            "----***\n",
            "---*****\n",
            "--*******\n",
            "-*********\n",
            "***********\n",
            "-*********\n",
            "--*******\n",
            "---*****\n",
            "----***\n",
            "-----*\n"
          ]
        }
      ]
    },
    {
      "cell_type": "code",
      "source": [
        "n = 5\n",
        "for i in range(1, n + 1):\n",
        "    for j in range(i):\n",
        "        print(chr(65 + j), end=\"\")  # 65 is ASCII value of 'A'\n",
        "    print()\n"
      ],
      "metadata": {
        "colab": {
          "base_uri": "https://localhost:8080/"
        },
        "id": "mCat3vNEdCJZ",
        "outputId": "5d41219d-3e8a-435c-c7ec-2ae3f8353145"
      },
      "execution_count": 23,
      "outputs": [
        {
          "output_type": "stream",
          "name": "stdout",
          "text": [
            "A\n",
            "AB\n",
            "ABC\n",
            "ABCD\n",
            "ABCDE\n"
          ]
        }
      ]
    },
    {
      "cell_type": "code",
      "source": [
        "n = 5\n",
        "for i in range(n, 0, -1):\n",
        "    for j in range(i):\n",
        "        print(chr(65 + j), end=\"\")\n",
        "    print()\n"
      ],
      "metadata": {
        "colab": {
          "base_uri": "https://localhost:8080/"
        },
        "id": "Hl-h8USZg9wV",
        "outputId": "18e9fc94-ea1c-4fb5-832f-42eae2c2c572"
      },
      "execution_count": 24,
      "outputs": [
        {
          "output_type": "stream",
          "name": "stdout",
          "text": [
            "ABCDE\n",
            "ABCD\n",
            "ABC\n",
            "AB\n",
            "A\n"
          ]
        }
      ]
    },
    {
      "cell_type": "code",
      "source": [
        "n = 5\n",
        "for i in range(1, n + 1):\n",
        "    # Print leading spaces\n",
        "    for j in range(n - i):\n",
        "        print(\" \", end=\"\")\n",
        "\n",
        "    # Print increasing part of the alphabet\n",
        "    for j in range(i):\n",
        "        print(chr(65 + j), end=\"\")\n",
        "\n",
        "    # Print decreasing part of the alphabet\n",
        "    for j in range(i - 1):\n",
        "        print(chr(65 + i - j - 2), end=\"\")\n",
        "\n",
        "    print()\n"
      ],
      "metadata": {
        "colab": {
          "base_uri": "https://localhost:8080/"
        },
        "id": "SbUW9ToXhANl",
        "outputId": "c1802a85-cb30-4329-e5f6-b53c8e2775b1"
      },
      "execution_count": 25,
      "outputs": [
        {
          "output_type": "stream",
          "name": "stdout",
          "text": [
            "    A\n",
            "   ABA\n",
            "  ABCBA\n",
            " ABCDCBA\n",
            "ABCDEDCBA\n"
          ]
        }
      ]
    },
    {
      "cell_type": "code",
      "source": [
        "n = 5\n",
        "\n",
        "# Upper half of the diamond\n",
        "for i in range(1, n + 1):\n",
        "    for j in range(n - i):\n",
        "        print(\" \", end=\"\")\n",
        "    for j in range(i):\n",
        "        print(chr(65 + j), end=\"\")\n",
        "    for j in range(i - 1):\n",
        "        print(chr(65 + i - j - 2), end=\"\")\n",
        "    print()\n",
        "\n",
        "# Lower half of the diamond\n",
        "for i in range(n - 1, 0, -1):\n",
        "    for j in range(n - i):\n",
        "        print(\" \", end=\"\")\n",
        "    for j in range(i):\n",
        "        print(chr(65 + j), end=\"\")\n",
        "    for j in range(i - 1):\n",
        "        print(chr(65 + i - j - 2), end=\"\")\n",
        "    print()\n"
      ],
      "metadata": {
        "colab": {
          "base_uri": "https://localhost:8080/"
        },
        "id": "91kamlJ5hCg6",
        "outputId": "b7a0370c-f52c-4b4f-aa40-ba579d091067"
      },
      "execution_count": 26,
      "outputs": [
        {
          "output_type": "stream",
          "name": "stdout",
          "text": [
            "    A\n",
            "   ABA\n",
            "  ABCBA\n",
            " ABCDCBA\n",
            "ABCDEDCBA\n",
            " ABCDCBA\n",
            "  ABCBA\n",
            "   ABA\n",
            "    A\n"
          ]
        }
      ]
    },
    {
      "cell_type": "code",
      "source": [
        "n = 5\n",
        "for i in range(n):\n",
        "    for j in range(i):\n",
        "        print(\" \", end=\"\")\n",
        "    for j in range(n - i):\n",
        "        print(chr(65 + i), end=\" \")\n",
        "    print()\n"
      ],
      "metadata": {
        "colab": {
          "base_uri": "https://localhost:8080/"
        },
        "id": "1qeXCIr_hFh1",
        "outputId": "df741dc1-4e1e-4ed8-c5db-d9cda39b3c2d"
      },
      "execution_count": 27,
      "outputs": [
        {
          "output_type": "stream",
          "name": "stdout",
          "text": [
            "A A A A A \n",
            " B B B B \n",
            "  C C C \n",
            "   D D \n",
            "    E \n"
          ]
        }
      ]
    },
    {
      "cell_type": "code",
      "source": [
        "n = 5\n",
        "for i in range(1, n + 1):\n",
        "    # Print leading spaces\n",
        "    for j in range(n - i):\n",
        "        print(\" \", end=\"\")\n",
        "\n",
        "    # Print increasing part of the alphabet\n",
        "    for j in range(i):\n",
        "        print(chr(97 + j), end=\"\")\n",
        "\n",
        "    # Print decreasing part of the alphabet\n",
        "    for j in range(i - 1):\n",
        "        print(chr(97 + i - j - 2), end=\"\")\n",
        "\n",
        "    print()\n"
      ],
      "metadata": {
        "colab": {
          "base_uri": "https://localhost:8080/"
        },
        "id": "N5H6dHR_hHpF",
        "outputId": "b4a3a078-58d1-45f9-f7f4-fcf7b6776b2e"
      },
      "execution_count": 28,
      "outputs": [
        {
          "output_type": "stream",
          "name": "stdout",
          "text": [
            "    a\n",
            "   aba\n",
            "  abcba\n",
            " abcdcba\n",
            "abcdedcba\n"
          ]
        }
      ]
    },
    {
      "cell_type": "code",
      "source": [
        "n = 5\n",
        "\n",
        "# Upper half of the diamond\n",
        "for i in range(1, n + 1):\n",
        "    for j in range(n - i):\n",
        "        print(\" \", end=\"\")\n",
        "    for j in range(i):\n",
        "        print(chr(97 + j), end=\"\")\n",
        "    for j in range(i - 1):\n",
        "        print(chr(97 + i - j - 2), end=\"\")\n",
        "    print()\n",
        "\n",
        "# Lower half of the diamond\n",
        "for i in range(n - 1, 0, -1):\n",
        "    for j in range(n - i):\n",
        "        print(\" \", end=\"\")\n",
        "    for j in range(i):\n",
        "        print(chr(97 + j), end=\"\")\n",
        "    for j in range(i - 1):\n",
        "        print(chr(97 + i - j - 2), end=\"\")\n",
        "    print()\n"
      ],
      "metadata": {
        "colab": {
          "base_uri": "https://localhost:8080/"
        },
        "id": "dwNVYslxhKmE",
        "outputId": "810de995-ba1e-41bd-a72e-8445c5265b17"
      },
      "execution_count": 29,
      "outputs": [
        {
          "output_type": "stream",
          "name": "stdout",
          "text": [
            "    a\n",
            "   aba\n",
            "  abcba\n",
            " abcdcba\n",
            "abcdedcba\n",
            " abcdcba\n",
            "  abcba\n",
            "   aba\n",
            "    a\n"
          ]
        }
      ]
    },
    {
      "cell_type": "code",
      "source": [],
      "metadata": {
        "id": "C9nbTtRGhMxh"
      },
      "execution_count": null,
      "outputs": []
    }
  ]
}