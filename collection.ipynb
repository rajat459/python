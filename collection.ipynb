{
 "cells": [
  {
   "cell_type": "code",
   "execution_count": 1,
   "id": "b3c5a9ed-de82-4013-b9a0-4bca918c3a5b",
   "metadata": {},
   "outputs": [],
   "source": [
    "# collections \n",
    "# module :-package- functionality"
   ]
  },
  {
   "cell_type": "code",
   "execution_count": 10,
   "id": "1bf2dce7-4815-4c2f-aeab-605aaba982f9",
   "metadata": {},
   "outputs": [
    {
     "data": {
      "text/plain": [
       "Counter()"
      ]
     },
     "execution_count": 10,
     "metadata": {},
     "output_type": "execute_result"
    }
   ],
   "source": [
    "import collections\n",
    "collections.Counter()"
   ]
  },
  {
   "cell_type": "code",
   "execution_count": 8,
   "id": "3edd8548-9b8a-4308-8863-1685453a9453",
   "metadata": {},
   "outputs": [
    {
     "data": {
      "text/plain": [
       "[(20, 3)]"
      ]
     },
     "execution_count": 8,
     "metadata": {},
     "output_type": "execute_result"
    }
   ],
   "source": [
    "from collections import Counter\n",
    "mylist=[10,20,30,20,40,50,60,\"A\"]\n",
    "a=Counter(mylist)\n",
    "a.update([20,70])\n",
    "a.most_common(1)"
   ]
  },
  {
   "cell_type": "code",
   "execution_count": 12,
   "id": "f4bad249-bc35-4f17-adbf-3899ac0c80fe",
   "metadata": {},
   "outputs": [
    {
     "name": "stdout",
     "output_type": "stream",
     "text": [
      "Counter({20: 3, 10: 1, 30: 1, 40: 1, 50: 1, 60: 1, 'A': 1, 70: 1})\n"
     ]
    },
    {
     "data": {
      "text/plain": [
       "[10, 20, 20, 20, 30, 40, 50, 60, 'A', 70]"
      ]
     },
     "execution_count": 12,
     "metadata": {},
     "output_type": "execute_result"
    }
   ],
   "source": [
    "print(a)\n",
    "list(a.elements())"
   ]
  },
  {
   "cell_type": "code",
   "execution_count": 16,
   "id": "9eb36e07-6a55-496e-b679-1d982656fa52",
   "metadata": {},
   "outputs": [],
   "source": [
    "from collections import defaultdict"
   ]
  },
  {
   "cell_type": "code",
   "execution_count": 18,
   "id": "4f97ba4e-67ba-4082-b044-ae276df1bd65",
   "metadata": {},
   "outputs": [],
   "source": [
    "def func():\n",
    "    return \"Not a value:"
   ]
  },
  {
   "cell_type": "code",
   "execution_count": 20,
   "id": "a35c365e-c75f-4cd5-8430-fc2259d00d98",
   "metadata": {},
   "outputs": [
    {
     "name": "stdout",
     "output_type": "stream",
     "text": [
      "dict_items([('a', 10), ('b', 'Not a value')])\n"
     ]
    }
   ],
   "source": [
    "d=defaultdict(func)\n",
    "# list(). int()\n",
    "d[\"a\"]=10\n",
    "d[\"b\"]\n",
    "print(d.items())"
   ]
  },
  {
   "cell_type": "code",
   "execution_count": 33,
   "id": "34d6548a-0ea4-465e-9c55-813062cf0953",
   "metadata": {},
   "outputs": [
    {
     "name": "stdout",
     "output_type": "stream",
     "text": [
      "defaultdict(<function func at 0x0000024CB058BF60>, {'a': 10, 'b': 'Not a value'})\n"
     ]
    }
   ],
   "source": []
  },
  {
   "cell_type": "code",
   "execution_count": 61,
   "id": "6991fc3d-18e3-4ac8-9f98-3bed7d5874dd",
   "metadata": {},
   "outputs": [
    {
     "name": "stdout",
     "output_type": "stream",
     "text": [
      "[]\n",
      "defaultdict(<class 'list'>, {10: ['Pranav'], 20: ['aman'], 30: ['abc'], 31: []})\n"
     ]
    }
   ],
   "source": [
    "mylist=[(10,\"Pranav\"),(20,\"aman\"),(30,\"abc\")]\n",
    "s=defaultdict(list)\n",
    "for roll,name in mylist:\n",
    "    s[roll].append(name)\n",
    "print(s[31])\n",
    "print(s)"
   ]
  },
  {
   "cell_type": "code",
   "execution_count": 71,
   "id": "32343f98-1e9d-4afd-8d11-737481943420",
   "metadata": {},
   "outputs": [],
   "source": [
    "from collections import OrderedDict"
   ]
  },
  {
   "cell_type": "code",
   "execution_count": 75,
   "id": "d33a1fbd-18d2-46ac-98ff-d8352f1932ad",
   "metadata": {},
   "outputs": [
    {
     "name": "stdout",
     "output_type": "stream",
     "text": [
      "OrderedDict({'b': 99, 'a': 1, 'aa': 1991})\n"
     ]
    }
   ],
   "source": [
    "o=OrderedDict()\n",
    "o[\"a\"]=1\n",
    "o[\"b\"]=99\n",
    "o[\"aa\"]=1991\n",
    "o.move_to_end(\"b\", last= False)\n",
    "print(o)\n"
   ]
  },
  {
   "cell_type": "code",
   "execution_count": 77,
   "id": "402cf903-9dba-4b8d-8891-6723caa2cf27",
   "metadata": {},
   "outputs": [],
   "source": [
    "#named tuple\n"
   ]
  },
  {
   "cell_type": "code",
   "execution_count": 79,
   "id": "6a607f8a-447d-411e-be15-c1b041172165",
   "metadata": {},
   "outputs": [],
   "source": [
    "from collections import namedtuple"
   ]
  },
  {
   "cell_type": "code",
   "execution_count": 89,
   "id": "87ffd76a-787d-493d-8b79-a284fd901b80",
   "metadata": {},
   "outputs": [
    {
     "name": "stdout",
     "output_type": "stream",
     "text": [
      "11\n",
      "11\n"
     ]
    }
   ],
   "source": [
    "Point123 = namedtuple('point',['x','y'])\n",
    "p=Point123(11,y=22)\n",
    "print(p.x)\n",
    "print(p[0])"
   ]
  },
  {
   "cell_type": "code",
   "execution_count": 99,
   "id": "77a3c389-9d48-43d8-8330-0d698b53e226",
   "metadata": {},
   "outputs": [
    {
     "data": {
      "text/plain": [
       "{'x': 11, 'y': 22}"
      ]
     },
     "execution_count": 99,
     "metadata": {},
     "output_type": "execute_result"
    }
   ],
   "source": [
    "p._asdict()"
   ]
  },
  {
   "cell_type": "code",
   "execution_count": 101,
   "id": "b0592cf5-ce63-4dc7-9e93-c52786dc525e",
   "metadata": {},
   "outputs": [
    {
     "name": "stdout",
     "output_type": "stream",
     "text": [
      "point(x=199, y=22)\n"
     ]
    }
   ],
   "source": [
    "p=p._replace(x=199)\n",
    "print(p)"
   ]
  },
  {
   "cell_type": "code",
   "execution_count": 116,
   "id": "2b032e5b-91ec-41b4-93c6-53202110ed20",
   "metadata": {},
   "outputs": [
    {
     "name": "stdout",
     "output_type": "stream",
     "text": [
      "{'x': 199, 'y': 25}\n"
     ]
    },
    {
     "data": {
      "text/plain": [
       "point(x=199, y=25)"
      ]
     },
     "execution_count": 116,
     "metadata": {},
     "output_type": "execute_result"
    }
   ],
   "source": [
    "x={\"x\":199,\"y\":25}\n",
    "Point123 = namedtuple('point',['x','y'])\n",
    "print(x)\n",
    "Point123(**x)"
   ]
  },
  {
   "cell_type": "code",
   "execution_count": 120,
   "id": "c0a69c9a-d691-4f7e-91b2-847e77de96f6",
   "metadata": {},
   "outputs": [],
   "source": [
    "# list => Stack\n",
    "from collections import deque\n"
   ]
  },
  {
   "cell_type": "code",
   "execution_count": 126,
   "id": "8f99adc9-ce6b-4c14-b244-a570da55b359",
   "metadata": {},
   "outputs": [],
   "source": [
    "dq= deque([\"tushar\",\"abc\",\"xyz\",20])"
   ]
  },
  {
   "cell_type": "code",
   "execution_count": 124,
   "id": "9867d7c9-6754-44b6-9845-81252473f05a",
   "metadata": {},
   "outputs": [
    {
     "name": "stdout",
     "output_type": "stream",
     "text": [
      "deque([1234, 'tushar', 'abc', 'xyz', 20])\n"
     ]
    }
   ],
   "source": [
    "dq.appendleft(1234)\n",
    "print(dq)"
   ]
  },
  {
   "cell_type": "code",
   "execution_count": null,
   "id": "0d81cb8a-4a8e-494b-abe6-1991d2f49d10",
   "metadata": {},
   "outputs": [],
   "source": [
    "nums1=[1,2,0,0"
   ]
  },
  {
   "cell_type": "code",
   "execution_count": null,
   "id": "3b4eead9-3114-4eea-8b2f-b538165c603b",
   "metadata": {},
   "outputs": [],
   "source": []
  }
 ],
 "metadata": {
  "kernelspec": {
   "display_name": "Python 3 (ipykernel)",
   "language": "python",
   "name": "python3"
  },
  "language_info": {
   "codemirror_mode": {
    "name": "ipython",
    "version": 3
   },
   "file_extension": ".py",
   "mimetype": "text/x-python",
   "name": "python",
   "nbconvert_exporter": "python",
   "pygments_lexer": "ipython3",
   "version": "3.12.4"
  }
 },
 "nbformat": 4,
 "nbformat_minor": 5
}
