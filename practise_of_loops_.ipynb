{
  "nbformat": 4,
  "nbformat_minor": 0,
  "metadata": {
    "colab": {
      "provenance": [],
      "authorship_tag": "ABX9TyNZ2d65ihMdBPD8sOnvADl+",
      "include_colab_link": true
    },
    "kernelspec": {
      "name": "python3",
      "display_name": "Python 3"
    },
    "language_info": {
      "name": "python"
    }
  },
  "cells": [
    {
      "cell_type": "markdown",
      "metadata": {
        "id": "view-in-github",
        "colab_type": "text"
      },
      "source": [
        "<a href=\"https://colab.research.google.com/github/rajat459/python/blob/main/practise_of_loops_.ipynb\" target=\"_parent\"><img src=\"https://colab.research.google.com/assets/colab-badge.svg\" alt=\"Open In Colab\"/></a>"
      ]
    },
    {
      "cell_type": "code",
      "execution_count": null,
      "metadata": {
        "colab": {
          "base_uri": "https://localhost:8080/"
        },
        "id": "QQ2i1wczJ61j",
        "outputId": "56eaab70-1525-46fb-f787-cc8edb39f378"
      },
      "outputs": [
        {
          "output_type": "stream",
          "name": "stdout",
          "text": [
            "\n",
            "Inventory Management System\n",
            "1. View Inventory\n",
            "2. Add Item\n",
            "3. Update Item\n",
            "4. Remove Item\n",
            "5. Buy Items\n",
            "6. Exit\n",
            "Choose an option: 2\n",
            "Enter the name of the item to add: banana\n",
            "Item already exists in the inventory.\n",
            "\n",
            "Inventory Management System\n",
            "1. View Inventory\n",
            "2. Add Item\n",
            "3. Update Item\n",
            "4. Remove Item\n",
            "5. Buy Items\n",
            "6. Exit\n",
            "Choose an option: 2\n",
            "Enter the name of the item to add: grapes\n",
            "Enter the quantity: 50\n",
            "Enter the price: 30\n",
            "Grapes added to inventory.\n",
            "\n",
            "Inventory Management System\n",
            "1. View Inventory\n",
            "2. Add Item\n",
            "3. Update Item\n",
            "4. Remove Item\n",
            "5. Buy Items\n",
            "6. Exit\n"
          ]
        }
      ],
      "source": [
        "inventory = {\n",
        "    \"Apple\": {\"quantity\": 50, \"price\": 1.20},\n",
        "    \"Banana\": {\"quantity\": 30, \"price\": 0.50},\n",
        "    \"Orange\": {\"quantity\": 20, \"price\": 0.80}\n",
        "}\n",
        "\n",
        "while True:\n",
        "    print(\"\\nInventory Management System\")\n",
        "    print(\"1. View Inventory\")\n",
        "    print(\"2. Add Item\")\n",
        "    print(\"3. Update Item\")\n",
        "    print(\"4. Remove Item\")\n",
        "    print(\"5. Buy Items\")\n",
        "    print(\"6. Exit\")\n",
        "    choice = input(\"Choose an option: \")\n",
        "\n",
        "    if choice == \"1\":\n",
        "        print(\"\\nInventory:\")\n",
        "        for item, details in inventory.items():\n",
        "            print(f\"{item} - Quantity: {details['quantity']}, Price: ${details['price']:.2f}\")\n",
        "\n",
        "    elif choice == \"2\":\n",
        "        item_name = input(\"Enter the name of the item to add: \").capitalize()\n",
        "        if item_name in inventory:\n",
        "            print(\"Item already exists in the inventory.\")\n",
        "        else:\n",
        "            quantity = int(input(\"Enter the quantity: \"))\n",
        "            price = float(input(\"Enter the price: \"))\n",
        "            inventory[item_name] = {\"quantity\": quantity, \"price\": price}\n",
        "            print(f\"{item_name} added to inventory.\")\n",
        "\n",
        "    elif choice == \"3\":\n",
        "        item_name = input(\"Enter the name of the item to update: \").capitalize()\n",
        "        if item_name in inventory:\n",
        "            quantity = int(input(\"Enter the new quantity: \"))\n",
        "            price = float(input(\"Enter the new price: \"))\n",
        "            inventory[item_name] = {\"quantity\": quantity, \"price\": price}\n",
        "            print(f\"{item_name} updated.\")\n",
        "        else:\n",
        "            print(\"Item not found in the inventory.\")\n",
        "\n",
        "    elif choice == \"4\":\n",
        "        item_name = input(\"Enter the name of the item to remove: \").capitalize()\n",
        "        if item_name in inventory:\n",
        "            del inventory[item_name]\n",
        "            print(f\"{item_name} removed from inventory.\")\n",
        "        else:\n",
        "            print(\"Item not found in the inventory.\")\n",
        "\n",
        "    elif choice == \"5\":\n",
        "        total_cost = 0\n",
        "        while True:\n",
        "            item_name = input(\"Enter the item name to buy (or type 'done' to finish): \").capitalize()\n",
        "            if item_name.lower() == \"done\":\n",
        "                break\n",
        "            if item_name in inventory:\n",
        "                quantity = int(input(\"Enter the quantity to buy: \"))\n",
        "                if quantity <= inventory[item_name][\"quantity\"]:\n",
        "                    cost = quantity * inventory[item_name][\"price\"]\n",
        "                    total_cost += cost\n",
        "                    inventory[item_name][\"quantity\"] -= quantity\n",
        "                    print(f\"{quantity} {item_name}(s) purchased for ${cost:.2f}.\")\n",
        "                else:\n",
        "                    print(\"Insufficient quantity available.\")\n",
        "            else:\n",
        "                print(\"Item not found in the inventory.\")\n",
        "        print(f\"Total cost of purchase: ${total_cost:.2f}\")\n",
        "\n",
        "    elif choice == \"6\":\n",
        "        print(\"Exiting the Inventory Management System. Goodbye!\")\n",
        "        break\n",
        "\n",
        "    else:\n",
        "        print(\"Invalid choice. Please try again.\")\n"
      ]
    }
  ]
}