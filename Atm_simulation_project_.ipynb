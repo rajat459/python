{
  "cells": [
    {
      "cell_type": "markdown",
      "metadata": {
        "id": "view-in-github",
        "colab_type": "text"
      },
      "source": [
        "<a href=\"https://colab.research.google.com/github/rajat459/python/blob/main/Atm_simulation_project_.ipynb\" target=\"_parent\"><img src=\"https://colab.research.google.com/assets/colab-badge.svg\" alt=\"Open In Colab\"/></a>"
      ]
    },
    {
      "cell_type": "code",
      "execution_count": null,
      "metadata": {
        "colab": {
          "background_save": true,
          "base_uri": "https://localhost:8080/"
        },
        "id": "b30c40_utJxi",
        "outputId": "5d748516-23f7-453b-f483-1ed58e75be30"
      },
      "outputs": [
        {
          "name": "stdout",
          "output_type": "stream",
          "text": [
            "\n",
            "Welcome to the ATM!\n",
            "1. Log In\n",
            "2. Check Balance\n",
            "3. Withdraw Money\n",
            "4. Deposit Money\n",
            "5. Log Out\n",
            "6. Exit\n",
            "Please log in first.\n",
            "\n",
            "Welcome to the ATM!\n",
            "1. Log In\n",
            "2. Check Balance\n",
            "3. Withdraw Money\n",
            "4. Deposit Money\n",
            "5. Log Out\n",
            "6. Exit\n"
          ]
        }
      ],
      "source": [
        "# ATM Simulation Project\n",
        "\n",
        "class ATM:\n",
        "    def __init__(self):\n",
        "        self.accounts = {\n",
        "            '1234': {'pin': '1111', 'balance': 1000},\n",
        "            '5678': {'pin': '2222', 'balance': 5000},\n",
        "            '9101': {'pin': '3333', 'balance': 2000}\n",
        "        }\n",
        "        self.logged_in_account = None\n",
        "\n",
        "    def authenticate(self, account_number, pin):\n",
        "        if account_number in self.accounts and self.accounts[account_number]['pin'] == pin:\n",
        "            self.logged_in_account = account_number\n",
        "            print(f\"Login successful for account {account_number}.\")\n",
        "        else:\n",
        "            print(\"Invalid account number or PIN. Please try again.\")\n",
        "\n",
        "    def check_balance(self):\n",
        "        if self.logged_in_account:\n",
        "            balance = self.accounts[self.logged_in_account]['balance']\n",
        "            print(f\"Your current balance is: ${balance}\")\n",
        "        else:\n",
        "            print(\"Please log in first.\")\n",
        "\n",
        "    def withdraw(self, amount):\n",
        "        if self.logged_in_account:\n",
        "            if self.accounts[self.logged_in_account]['balance'] >= amount:\n",
        "                self.accounts[self.logged_in_account]['balance'] -= amount\n",
        "                print(f\"Successfully withdrew ${amount}.\")\n",
        "            else:\n",
        "                print(\"Insufficient funds.\")\n",
        "        else:\n",
        "            print(\"Please log in first.\")\n",
        "\n",
        "    def deposit(self, amount):\n",
        "        if self.logged_in_account:\n",
        "            self.accounts[self.logged_in_account]['balance'] += amount\n",
        "            print(f\"Successfully deposited ${amount}.\")\n",
        "        else:\n",
        "            print(\"Please log in first.\")\n",
        "\n",
        "    def logout(self):\n",
        "        self.logged_in_account = None\n",
        "        print(\"You have been logged out.\")\n",
        "\n",
        "def main():\n",
        "    atm = ATM()\n",
        "\n",
        "    while True:\n",
        "        print(\"\\nWelcome to the ATM!\")\n",
        "        print(\"1. Log In\")\n",
        "        print(\"2. Check Balance\")\n",
        "        print(\"3. Withdraw Money\")\n",
        "        print(\"4. Deposit Money\")\n",
        "        print(\"5. Log Out\")\n",
        "        print(\"6. Exit\")\n",
        "\n",
        "        choice = input(\"Enter your choice: \")\n",
        "\n",
        "        if choice == '1':\n",
        "            account_number = input(\"Enter account number: \")\n",
        "            pin = input(\"Enter PIN: \")\n",
        "            atm.authenticate(account_number, pin)\n",
        "\n",
        "        elif choice == '2':\n",
        "            atm.check_balance()\n",
        "\n",
        "        elif choice == '3':\n",
        "            amount = float(input(\"Enter amount to withdraw: \"))\n",
        "            atm.withdraw(amount)\n",
        "\n",
        "        elif choice == '4':\n",
        "            amount = float(input(\"Enter amount to deposit: \"))\n",
        "            atm.deposit(amount)\n",
        "\n",
        "        elif choice == '5':\n",
        "            atm.logout()\n",
        "\n",
        "        elif choice == '6':\n",
        "            print(\"Thank you for using the ATM. Goodbye!\")\n",
        "            break\n",
        "\n",
        "        else:\n",
        "            print(\"Invalid choice, please try again.\")\n",
        "\n",
        "if __name__ == \"__main__\":\n",
        "    main()\n"
      ]
    }
  ],
  "metadata": {
    "colab": {
      "provenance": [],
      "authorship_tag": "ABX9TyNfr8dbs9Fq1oMpOgPYpu0t",
      "include_colab_link": true
    },
    "kernelspec": {
      "display_name": "Python 3",
      "name": "python3"
    },
    "language_info": {
      "name": "python"
    }
  },
  "nbformat": 4,
  "nbformat_minor": 0
}