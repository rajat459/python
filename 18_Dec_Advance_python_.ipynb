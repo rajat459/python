{
  "nbformat": 4,
  "nbformat_minor": 0,
  "metadata": {
    "colab": {
      "provenance": [],
      "include_colab_link": true
    },
    "kernelspec": {
      "name": "python3",
      "display_name": "Python 3"
    },
    "language_info": {
      "name": "python"
    }
  },
  "cells": [
    {
      "cell_type": "markdown",
      "metadata": {
        "id": "view-in-github",
        "colab_type": "text"
      },
      "source": [
        "<a href=\"https://colab.research.google.com/github/rajat459/python/blob/main/18_Dec_Advance_python_.ipynb\" target=\"_parent\"><img src=\"https://colab.research.google.com/assets/colab-badge.svg\" alt=\"Open In Colab\"/></a>"
      ]
    },
    {
      "cell_type": "code",
      "execution_count": null,
      "metadata": {
        "id": "H86WNEmPS8_8"
      },
      "outputs": [],
      "source": [
        ".# Numpy --->\n",
        "        # Numpy is an open source library that is used for scintific calculation"
      ]
    },
    {
      "cell_type": "code",
      "source": [
        "# Why we use numpy whenever we have list ?\n",
        "#  1> homogenous data type\n",
        "#  2> memory less  consume\n",
        "#  3> less time consume"
      ],
      "metadata": {
        "id": "ZSAKAJXvT0z0"
      },
      "execution_count": null,
      "outputs": []
    },
    {
      "cell_type": "code",
      "source": [
        "#  !pip install numpy"
      ],
      "metadata": {
        "id": "0ThkX02EZb0m"
      },
      "execution_count": null,
      "outputs": []
    },
    {
      "cell_type": "code",
      "source": [
        "import numpy as np"
      ],
      "metadata": {
        "id": "ByMHjlD1ZexH"
      },
      "execution_count": null,
      "outputs": []
    },
    {
      "cell_type": "code",
      "source": [
        "a=[1,34,67,90]\n",
        "type(a)"
      ],
      "metadata": {
        "colab": {
          "base_uri": "https://localhost:8080/"
        },
        "id": "e1nhxisEZiGR",
        "outputId": "52e7b78d-e4aa-4d1e-d6a3-e6651f34c236"
      },
      "execution_count": null,
      "outputs": [
        {
          "output_type": "execute_result",
          "data": {
            "text/plain": [
              "list"
            ]
          },
          "metadata": {},
          "execution_count": 2
        }
      ]
    },
    {
      "cell_type": "code",
      "source": [
        "b=np.array(a)\n",
        "print(b)"
      ],
      "metadata": {
        "colab": {
          "base_uri": "https://localhost:8080/"
        },
        "id": "uRk_63w1ZoPR",
        "outputId": "a42bec52-0aab-4491-b611-082b60a983e5"
      },
      "execution_count": null,
      "outputs": [
        {
          "output_type": "stream",
          "name": "stdout",
          "text": [
            "[ 1 34 67 90]\n"
          ]
        }
      ]
    },
    {
      "cell_type": "code",
      "source": [
        "type(b)"
      ],
      "metadata": {
        "colab": {
          "base_uri": "https://localhost:8080/"
        },
        "id": "jLgRY9ewZtMN",
        "outputId": "9bca6206-ae9c-4af9-a68d-bfd5f0846851"
      },
      "execution_count": null,
      "outputs": [
        {
          "output_type": "execute_result",
          "data": {
            "text/plain": [
              "numpy.ndarray"
            ]
          },
          "metadata": {},
          "execution_count": 4
        }
      ]
    },
    {
      "cell_type": "code",
      "source": [
        "# Dimension\n",
        "#  1-D ==> element exist in x- direction\n",
        "# 2-D ==> element exist in x and y direction\n",
        "# 3-D ==> element exists in x,y,z direction"
      ],
      "metadata": {
        "id": "VrbcZJAnZvXq"
      },
      "execution_count": null,
      "outputs": []
    },
    {
      "cell_type": "code",
      "source": [
        "print(\"Total Shape :\",b.shape)   # shape = n(row),n(col)"
      ],
      "metadata": {
        "colab": {
          "base_uri": "https://localhost:8080/"
        },
        "id": "5TQiJNGyach2",
        "outputId": "d5153172-4dd2-4a0d-bb92-19c459c68d38"
      },
      "execution_count": null,
      "outputs": [
        {
          "output_type": "stream",
          "name": "stdout",
          "text": [
            "Total Shape : (4,)\n"
          ]
        }
      ]
    },
    {
      "cell_type": "code",
      "source": [
        "print(\"Total Elements :\",b.size)  # size = n(row)*n(col)"
      ],
      "metadata": {
        "colab": {
          "base_uri": "https://localhost:8080/"
        },
        "id": "o2OlB2Yaaifs",
        "outputId": "20969e21-d744-4002-81cd-3391010d8487"
      },
      "execution_count": null,
      "outputs": [
        {
          "output_type": "stream",
          "name": "stdout",
          "text": [
            "Total Elements : 4\n"
          ]
        }
      ]
    },
    {
      "cell_type": "code",
      "source": [
        "print(\"Total Dimension :\",b.ndim)  # ndim=== dimension"
      ],
      "metadata": {
        "colab": {
          "base_uri": "https://localhost:8080/"
        },
        "id": "jlia0_Y1aov6",
        "outputId": "42744f0c-2fc6-4821-9b72-37005b9e4318"
      },
      "execution_count": null,
      "outputs": [
        {
          "output_type": "stream",
          "name": "stdout",
          "text": [
            "Total Dimension : 1\n"
          ]
        }
      ]
    },
    {
      "cell_type": "code",
      "source": [
        "a=[[1,2,3],[4,5,6],[7,8,9]]\n",
        "print(a)"
      ],
      "metadata": {
        "colab": {
          "base_uri": "https://localhost:8080/"
        },
        "id": "mtS24n51a5Q0",
        "outputId": "9fe8868e-7c47-4768-fb71-b8e0dc004348"
      },
      "execution_count": null,
      "outputs": [
        {
          "output_type": "stream",
          "name": "stdout",
          "text": [
            "[[1, 2, 3], [4, 5, 6], [7, 8, 9]]\n"
          ]
        }
      ]
    },
    {
      "cell_type": "code",
      "source": [
        "b=np.array(a)\n",
        "print(b)"
      ],
      "metadata": {
        "colab": {
          "base_uri": "https://localhost:8080/"
        },
        "id": "0NF20kLVa-K8",
        "outputId": "f75e45c9-16fa-43ca-b56b-d8378d5d5849"
      },
      "execution_count": null,
      "outputs": [
        {
          "output_type": "stream",
          "name": "stdout",
          "text": [
            "[[1 2 3]\n",
            " [4 5 6]\n",
            " [7 8 9]]\n"
          ]
        }
      ]
    },
    {
      "cell_type": "code",
      "source": [
        "type(b)"
      ],
      "metadata": {
        "colab": {
          "base_uri": "https://localhost:8080/"
        },
        "id": "Q869L24RbCNU",
        "outputId": "e9195d9a-e393-4556-f910-0890b230cbf8"
      },
      "execution_count": null,
      "outputs": [
        {
          "output_type": "execute_result",
          "data": {
            "text/plain": [
              "numpy.ndarray"
            ]
          },
          "metadata": {},
          "execution_count": 11
        }
      ]
    },
    {
      "cell_type": "code",
      "source": [
        "print(\"Total Shape :\",b.shape)   # shape = n(row),n(col)\n",
        "print(\"Total Elements :\",b.size)  # size = n(row)*n(col)\n",
        "print(\"Total Dimension :\",b.ndim)"
      ],
      "metadata": {
        "colab": {
          "base_uri": "https://localhost:8080/"
        },
        "id": "_TwJeXRebHKO",
        "outputId": "87b2fc70-1171-4158-f613-653bd89b9626"
      },
      "execution_count": null,
      "outputs": [
        {
          "output_type": "stream",
          "name": "stdout",
          "text": [
            "Total Shape : (3, 3)\n",
            "Total Elements : 9\n",
            "Total Dimension : 2\n"
          ]
        }
      ]
    },
    {
      "cell_type": "code",
      "source": [
        "# How can we create a user defined Array ?\n",
        "a=[]\n",
        "size=int(input(\"Enter size :\"))\n",
        "for i in range(size):\n",
        "  val=int(input(\"Enter number: \"))\n",
        "  a.append(val)\n",
        "\n",
        "b=np.array(a)\n",
        "b"
      ],
      "metadata": {
        "colab": {
          "base_uri": "https://localhost:8080/"
        },
        "id": "OFFmLheSbRvT",
        "outputId": "79efbb93-f146-4d57-9066-8f64edcf181e"
      },
      "execution_count": null,
      "outputs": [
        {
          "name": "stdout",
          "output_type": "stream",
          "text": [
            "Enter size :4\n",
            "Enter number: 12\n",
            "Enter number: 56\n",
            "Enter number: 78\n",
            "Enter number: 2345\n"
          ]
        },
        {
          "output_type": "execute_result",
          "data": {
            "text/plain": [
              "array([  12,   56,   78, 2345])"
            ]
          },
          "metadata": {},
          "execution_count": 40
        }
      ]
    },
    {
      "cell_type": "code",
      "source": [
        "# Numpy function -->\n",
        "#               Images ==>pixels(0-255)px --> 0px(black) , 255px(white)--->normalize ==> (0-1)px\n",
        "\n",
        "#  (A) . black&white image -- height , width\n",
        "#  (B) . Colorfull Image -- height , width clor_channel((red,green , blue))\n",
        "# Matrix -- n(rows) =  n(col) -- syymetric matrix\n",
        "#  n(rows)!=n(col) -- asyymetric matrix\n",
        "# random number genration ==> random module\n",
        "# data science ==> simple line equation\n",
        "#  y = mx + b  (x,y) - cordinates  m- weights  , b-- intercept\n",
        "# Matrix  -- row,col\n",
        "# Matrix ==> diagonal positional element --[(1,1),(2,2),(3,3)--(n,n)]"
      ],
      "metadata": {
        "id": "fHUyMtmDdgIP"
      },
      "execution_count": null,
      "outputs": []
    },
    {
      "cell_type": "code",
      "source": [
        "# zeros() -- It will create an array in which all the values are zero\n"
      ],
      "metadata": {
        "id": "WU97gF38jk3i"
      },
      "execution_count": null,
      "outputs": []
    },
    {
      "cell_type": "code",
      "source": [
        "a=np.zeros(3)\n",
        "a"
      ],
      "metadata": {
        "colab": {
          "base_uri": "https://localhost:8080/"
        },
        "id": "8RQb3Jd3kSOM",
        "outputId": "11bb4212-0d56-421b-8f01-2fa6ac223d42"
      },
      "execution_count": null,
      "outputs": [
        {
          "output_type": "execute_result",
          "data": {
            "text/plain": [
              "array([0., 0., 0.])"
            ]
          },
          "metadata": {},
          "execution_count": 20
        }
      ]
    },
    {
      "cell_type": "code",
      "source": [
        "a=np.zeros((2,3))\n",
        "a"
      ],
      "metadata": {
        "colab": {
          "base_uri": "https://localhost:8080/"
        },
        "id": "xj5x1HlEkWbJ",
        "outputId": "1d23368d-199d-414c-f18a-ea1a3546deb7"
      },
      "execution_count": null,
      "outputs": [
        {
          "output_type": "execute_result",
          "data": {
            "text/plain": [
              "array([[0., 0., 0.],\n",
              "       [0., 0., 0.]])"
            ]
          },
          "metadata": {},
          "execution_count": 19
        }
      ]
    },
    {
      "cell_type": "code",
      "source": [
        "# 2> ones()==> It will create an array in which all the values are 1"
      ],
      "metadata": {
        "id": "4BDJlXR2kdwi"
      },
      "execution_count": null,
      "outputs": []
    },
    {
      "cell_type": "code",
      "source": [
        "a=np.ones(3)\n",
        "a"
      ],
      "metadata": {
        "colab": {
          "base_uri": "https://localhost:8080/"
        },
        "id": "ZU93TEjCkmAp",
        "outputId": "aa1ee5cc-1c24-402d-9a38-9f9a578eb6af"
      },
      "execution_count": null,
      "outputs": [
        {
          "output_type": "execute_result",
          "data": {
            "text/plain": [
              "array([1., 1., 1.])"
            ]
          },
          "metadata": {},
          "execution_count": 21
        }
      ]
    },
    {
      "cell_type": "code",
      "source": [
        "a=np.ones((3,4))\n",
        "a"
      ],
      "metadata": {
        "colab": {
          "base_uri": "https://localhost:8080/"
        },
        "id": "fS7DLc3-kujm",
        "outputId": "301ef5d2-761d-46ca-f5e0-fd47b3156f14"
      },
      "execution_count": null,
      "outputs": [
        {
          "output_type": "execute_result",
          "data": {
            "text/plain": [
              "array([[1., 1., 1., 1.],\n",
              "       [1., 1., 1., 1.],\n",
              "       [1., 1., 1., 1.]])"
            ]
          },
          "metadata": {},
          "execution_count": 22
        }
      ]
    },
    {
      "cell_type": "code",
      "source": [
        "a.shape"
      ],
      "metadata": {
        "colab": {
          "base_uri": "https://localhost:8080/"
        },
        "id": "VgSECVNGk3uV",
        "outputId": "525b10c1-7b7c-47e9-9002-d9bce4ca24fb"
      },
      "execution_count": null,
      "outputs": [
        {
          "output_type": "execute_result",
          "data": {
            "text/plain": [
              "(3, 4)"
            ]
          },
          "metadata": {},
          "execution_count": 23
        }
      ]
    },
    {
      "cell_type": "code",
      "source": [
        "# 3>  eye() -- > it will create an array in which diagonal positional elements are 1 and\n",
        "#  rest all are 0."
      ],
      "metadata": {
        "id": "n5J8zjPGk50z"
      },
      "execution_count": null,
      "outputs": []
    },
    {
      "cell_type": "code",
      "source": [
        "a= np.eye(3)  # syymetric matrix\n",
        "a"
      ],
      "metadata": {
        "colab": {
          "base_uri": "https://localhost:8080/"
        },
        "id": "vGWapFY9lImM",
        "outputId": "411d8cd8-659c-4a06-a030-68abd78c7bca"
      },
      "execution_count": null,
      "outputs": [
        {
          "output_type": "execute_result",
          "data": {
            "text/plain": [
              "array([[1., 0., 0.],\n",
              "       [0., 1., 0.],\n",
              "       [0., 0., 1.]])"
            ]
          },
          "metadata": {},
          "execution_count": 24
        }
      ]
    },
    {
      "cell_type": "code",
      "source": [
        "a=np.eye(3,4)   # assymtric\n",
        "a"
      ],
      "metadata": {
        "colab": {
          "base_uri": "https://localhost:8080/"
        },
        "id": "xzHX7e_VlMJT",
        "outputId": "ced679ee-e261-43c1-b8dd-80209b88cf58"
      },
      "execution_count": null,
      "outputs": [
        {
          "output_type": "execute_result",
          "data": {
            "text/plain": [
              "array([[1., 0., 0., 0.],\n",
              "       [0., 1., 0., 0.],\n",
              "       [0., 0., 1., 0.]])"
            ]
          },
          "metadata": {},
          "execution_count": 26
        }
      ]
    },
    {
      "cell_type": "code",
      "source": [
        "# 4> diag() --> It will create an array in which we can customize our diagonal positional\n",
        "#  elements"
      ],
      "metadata": {
        "id": "HDS3VMbzlZCw"
      },
      "execution_count": null,
      "outputs": []
    },
    {
      "cell_type": "code",
      "source": [
        "a = np.diag([1,2,33,456])\n",
        "a"
      ],
      "metadata": {
        "colab": {
          "base_uri": "https://localhost:8080/"
        },
        "id": "PfPOvi0olmao",
        "outputId": "a6c06d3b-cba9-4f9d-fba9-7f28bf0659ed"
      },
      "execution_count": null,
      "outputs": [
        {
          "output_type": "execute_result",
          "data": {
            "text/plain": [
              "array([[  1,   0,   0,   0],\n",
              "       [  0,   2,   0,   0],\n",
              "       [  0,   0,  33,   0],\n",
              "       [  0,   0,   0, 456]])"
            ]
          },
          "metadata": {},
          "execution_count": 27
        }
      ]
    },
    {
      "cell_type": "code",
      "source": [
        "# 5> Random module ->\n",
        "# a>  Otp genration\n",
        "# b> Data set ==> 1 dummy column add\n",
        "# c> randomly weights initialize"
      ],
      "metadata": {
        "id": "Yo9Iu1DRlrlI"
      },
      "execution_count": null,
      "outputs": []
    },
    {
      "cell_type": "code",
      "source": [
        "# A> Randint(min_number,max_number,total_number)\n"
      ],
      "metadata": {
        "id": "RUb4BBfwl8wv"
      },
      "execution_count": null,
      "outputs": []
    },
    {
      "cell_type": "code",
      "source": [
        "a=np.random.randint(1,10,3)\n",
        "a"
      ],
      "metadata": {
        "colab": {
          "base_uri": "https://localhost:8080/"
        },
        "id": "nWNJfopEmF9P",
        "outputId": "8e83b6ae-5c71-46e1-e568-43522897cbc6"
      },
      "execution_count": null,
      "outputs": [
        {
          "output_type": "execute_result",
          "data": {
            "text/plain": [
              "array([6, 4, 2])"
            ]
          },
          "metadata": {},
          "execution_count": 30
        }
      ]
    },
    {
      "cell_type": "code",
      "source": [
        "# B> Rand(total_number) --> it will return number from 0 to 1\n"
      ],
      "metadata": {
        "id": "ihUSwEQmmM-W"
      },
      "execution_count": null,
      "outputs": []
    },
    {
      "cell_type": "code",
      "source": [
        "a = np.random.rand(5)\n",
        "a"
      ],
      "metadata": {
        "colab": {
          "base_uri": "https://localhost:8080/"
        },
        "id": "RqVHGhD0mVgt",
        "outputId": "cbdf85bd-3e4b-42d4-cae1-e1789e8fc5f2"
      },
      "execution_count": null,
      "outputs": [
        {
          "output_type": "execute_result",
          "data": {
            "text/plain": [
              "array([0.53387126, 0.39282918, 0.76776692, 0.35884808, 0.19104772])"
            ]
          },
          "metadata": {},
          "execution_count": 31
        }
      ]
    },
    {
      "cell_type": "code",
      "source": [
        "# C> randn() == -3 to +3"
      ],
      "metadata": {
        "id": "1R5YnrxUmbIW"
      },
      "execution_count": null,
      "outputs": []
    },
    {
      "cell_type": "code",
      "source": [
        "a=np.random.randn(5)\n",
        "a"
      ],
      "metadata": {
        "colab": {
          "base_uri": "https://localhost:8080/"
        },
        "id": "8uDX9C8rmhrv",
        "outputId": "de5f0a5f-7588-4fde-ca8d-7edda8c6e11c"
      },
      "execution_count": null,
      "outputs": [
        {
          "output_type": "execute_result",
          "data": {
            "text/plain": [
              "array([-1.58144425, -0.06914896,  0.42493759, -1.28981172, -0.22786928])"
            ]
          },
          "metadata": {},
          "execution_count": 33
        }
      ]
    },
    {
      "cell_type": "code",
      "source": [
        "# Seed() --> It will fix our data once the data has been genrated"
      ],
      "metadata": {
        "id": "VE-Imt_RmooX"
      },
      "execution_count": null,
      "outputs": []
    },
    {
      "cell_type": "code",
      "source": [
        "np.random.seed(20)\n",
        "a=np.random.randint(1,10,3)\n",
        "a"
      ],
      "metadata": {
        "colab": {
          "base_uri": "https://localhost:8080/"
        },
        "id": "F04dNJ-jmwO-",
        "outputId": "2ec021c1-9933-47ba-d24b-41d039206d0b"
      },
      "execution_count": null,
      "outputs": [
        {
          "output_type": "execute_result",
          "data": {
            "text/plain": [
              "array([4, 5, 7])"
            ]
          },
          "metadata": {},
          "execution_count": 39
        }
      ]
    },
    {
      "cell_type": "code",
      "source": [],
      "metadata": {
        "id": "piIymca9m9HW"
      },
      "execution_count": null,
      "outputs": []
    }
  ]
}