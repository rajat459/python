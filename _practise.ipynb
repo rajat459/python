{
  "nbformat": 4,
  "nbformat_minor": 0,
  "metadata": {
    "colab": {
      "provenance": [],
      "authorship_tag": "ABX9TyPuURz+ilmAGH0VNHtO/j9z",
      "include_colab_link": true
    },
    "kernelspec": {
      "name": "python3",
      "display_name": "Python 3"
    },
    "language_info": {
      "name": "python"
    }
  },
  "cells": [
    {
      "cell_type": "markdown",
      "metadata": {
        "id": "view-in-github",
        "colab_type": "text"
      },
      "source": [
        "<a href=\"https://colab.research.google.com/github/rajat459/python/blob/main/_practise.ipynb\" target=\"_parent\"><img src=\"https://colab.research.google.com/assets/colab-badge.svg\" alt=\"Open In Colab\"/></a>"
      ]
    },
    {
      "cell_type": "code",
      "execution_count": null,
      "metadata": {
        "colab": {
          "base_uri": "https://localhost:8080/"
        },
        "id": "l45F8eTicNmY",
        "outputId": "81cbfa23-3bfa-46a1-b116-f7dded37fa92"
      },
      "outputs": [
        {
          "output_type": "stream",
          "name": "stdout",
          "text": [
            "* * * * * \n",
            "* * * * * \n",
            "* * * * * \n",
            "* * * * * \n",
            "* * * * * \n"
          ]
        }
      ],
      "source": [
        "n=5\n",
        "for i in range(n):\n",
        "  for j in range(n):\n",
        "    print(\"*\",end=\" \")\n",
        "  print()"
      ]
    },
    {
      "cell_type": "code",
      "source": [
        "num=8\n",
        "for i in range(num):\n",
        "  for j in range(0,i+1):\n",
        "    print(\"*\",end=\"\")\n",
        "  print()"
      ],
      "metadata": {
        "colab": {
          "base_uri": "https://localhost:8080/"
        },
        "id": "odhyroSIcaRM",
        "outputId": "63b69731-f4e3-45a1-e9f7-c15f8479c068"
      },
      "execution_count": null,
      "outputs": [
        {
          "output_type": "stream",
          "name": "stdout",
          "text": [
            "*\n",
            "**\n",
            "***\n",
            "****\n",
            "*****\n",
            "******\n",
            "*******\n",
            "********\n"
          ]
        }
      ]
    },
    {
      "cell_type": "code",
      "source": [
        "num=8\n",
        "for i in range(num):\n",
        "  for j in range(0,i+1):\n",
        "    print(j,end=\"\")\n",
        "  print()"
      ],
      "metadata": {
        "colab": {
          "base_uri": "https://localhost:8080/"
        },
        "id": "5OLIrx6teV5z",
        "outputId": "0098aea4-044c-4ca4-ce9a-1bf6f35de77c"
      },
      "execution_count": null,
      "outputs": [
        {
          "output_type": "stream",
          "name": "stdout",
          "text": [
            "0\n",
            "01\n",
            "012\n",
            "0123\n",
            "01234\n",
            "012345\n",
            "0123456\n",
            "01234567\n"
          ]
        }
      ]
    },
    {
      "cell_type": "code",
      "source": [
        "num=8\n",
        "for i in range(num):\n",
        "  x=2\n",
        "  for j in range(0,i+1):\n",
        "    x+=1\n",
        "    print(x,end=\"\")\n",
        "  print()"
      ],
      "metadata": {
        "colab": {
          "base_uri": "https://localhost:8080/"
        },
        "id": "MMqK-J7Nesdq",
        "outputId": "3546fe1a-674f-43ba-d56d-725662f34a70"
      },
      "execution_count": null,
      "outputs": [
        {
          "output_type": "stream",
          "name": "stdout",
          "text": [
            "3\n",
            "34\n",
            "345\n",
            "3456\n",
            "34567\n",
            "345678\n",
            "3456789\n",
            "345678910\n"
          ]
        }
      ]
    },
    {
      "cell_type": "code",
      "source": [
        "num=5\n",
        "x=65\n",
        "for i in range(num):\n",
        "  for j in range(0,i+1):\n",
        "\n",
        "    print(chr(x),end=\"  \")\n",
        "    x+=1\n",
        "  print()"
      ],
      "metadata": {
        "colab": {
          "base_uri": "https://localhost:8080/"
        },
        "id": "IuAZP8a_fxCA",
        "outputId": "fad0e0d7-e989-44c0-9195-7f6075b7b74e"
      },
      "execution_count": null,
      "outputs": [
        {
          "output_type": "stream",
          "name": "stdout",
          "text": [
            "A  \n",
            "B  C  \n",
            "D  E  F  \n",
            "G  H  I  J  \n",
            "K  L  M  N  O  \n"
          ]
        }
      ]
    },
    {
      "cell_type": "code",
      "source": [
        "n=5\n",
        "for i in range(n):\n",
        "  for j in range(i,n):\n",
        "    print(\"*\",end=\" \")\n",
        "  print()"
      ],
      "metadata": {
        "colab": {
          "base_uri": "https://localhost:8080/"
        },
        "id": "I8htOv9-gFVQ",
        "outputId": "9d7cad54-6ccc-4ac5-a958-524d58db4fce"
      },
      "execution_count": null,
      "outputs": [
        {
          "output_type": "stream",
          "name": "stdout",
          "text": [
            "* * * * * \n",
            "* * * * \n",
            "* * * \n",
            "* * \n",
            "* \n"
          ]
        }
      ]
    },
    {
      "cell_type": "code",
      "source": [
        "n=5\n",
        "x=10\n",
        "for i in range(n):\n",
        "  for j in range(i,n):\n",
        "    print(x,end=\" \")\n",
        "    x+=1\n",
        "  print()"
      ],
      "metadata": {
        "colab": {
          "base_uri": "https://localhost:8080/"
        },
        "id": "kX-XW-ImhWkl",
        "outputId": "652117ba-9d33-4fb7-9971-e37837a64879"
      },
      "execution_count": null,
      "outputs": [
        {
          "output_type": "stream",
          "name": "stdout",
          "text": [
            "10 11 12 13 14 \n",
            "15 16 17 18 \n",
            "19 20 21 \n",
            "22 23 \n",
            "24 \n"
          ]
        }
      ]
    },
    {
      "cell_type": "code",
      "source": [
        "n=5\n",
        "for i in range(n):\n",
        "  for j in range(i,num):\n",
        "    print(j+1,end=\" \")\n",
        "  print()"
      ],
      "metadata": {
        "colab": {
          "base_uri": "https://localhost:8080/"
        },
        "id": "Npy6VjLjiq8z",
        "outputId": "5049d9a1-056c-4991-d95e-178ebd6bd701"
      },
      "execution_count": null,
      "outputs": [
        {
          "output_type": "stream",
          "name": "stdout",
          "text": [
            "1 2 3 4 5 \n",
            "2 3 4 5 \n",
            "3 4 5 \n",
            "4 5 \n",
            "5 \n"
          ]
        }
      ]
    },
    {
      "cell_type": "code",
      "source": [
        "n=5\n",
        "for i in range(0,n):\n",
        "  for j in range(0,n-i):\n",
        "    if(j%2==0):\n",
        "      print(i+1,end=\" \")\n",
        "    else:\n",
        "      print(0,end=\" \")\n",
        "  print()\n"
      ],
      "metadata": {
        "colab": {
          "base_uri": "https://localhost:8080/"
        },
        "id": "0zQCRqdLiuT6",
        "outputId": "ca376157-08ac-4df3-9ac2-45221206ca2b"
      },
      "execution_count": null,
      "outputs": [
        {
          "output_type": "stream",
          "name": "stdout",
          "text": [
            "1 0 1 0 1 \n",
            "2 0 2 0 \n",
            "3 0 3 \n",
            "4 0 \n",
            "5 \n"
          ]
        }
      ]
    },
    {
      "cell_type": "code",
      "source": [
        "n=6\n",
        "for i in range(n):\n",
        "  print(\"*\" * (n-i))"
      ],
      "metadata": {
        "colab": {
          "base_uri": "https://localhost:8080/"
        },
        "id": "brkOZBN7lJbi",
        "outputId": "306c8e34-f03f-4b70-a751-753546cdca14"
      },
      "execution_count": null,
      "outputs": [
        {
          "output_type": "stream",
          "name": "stdout",
          "text": [
            "******\n",
            "*****\n",
            "****\n",
            "***\n",
            "**\n",
            "*\n"
          ]
        }
      ]
    },
    {
      "cell_type": "code",
      "source": [
        "n=6\n",
        "for i in range(n):\n",
        "  for j in range(n-i):\n",
        "    print(\"-\",end=\"\")\n",
        "  for s in range(i+1):\n",
        "    print(\"*\",end=\"\")\n",
        "  print()"
      ],
      "metadata": {
        "colab": {
          "base_uri": "https://localhost:8080/"
        },
        "id": "gsaagY6QmxmB",
        "outputId": "d6ab39c8-c18d-4e45-9073-5f7c45555f10"
      },
      "execution_count": null,
      "outputs": [
        {
          "output_type": "stream",
          "name": "stdout",
          "text": [
            "------*\n",
            "-----**\n",
            "----***\n",
            "---****\n",
            "--*****\n",
            "-******\n"
          ]
        }
      ]
    },
    {
      "cell_type": "code",
      "source": [
        "n=6\n",
        "for i in range(n):\n",
        "  for j in range(i):\n",
        "    print(\"-\",end=\"\")\n",
        "  for s in range(i,n):\n",
        "    print(\"*\",end=\"\")\n",
        "  print()"
      ],
      "metadata": {
        "colab": {
          "base_uri": "https://localhost:8080/"
        },
        "id": "pRaIZfQRohlN",
        "outputId": "1963568a-3cb7-43f1-e400-9c162f381a33"
      },
      "execution_count": null,
      "outputs": [
        {
          "output_type": "stream",
          "name": "stdout",
          "text": [
            "******\n",
            "-*****\n",
            "--****\n",
            "---***\n",
            "----**\n",
            "-----*\n"
          ]
        }
      ]
    },
    {
      "cell_type": "code",
      "source": [
        "n=6\n",
        "for i in range(0,n):\n",
        "  for s in range(0,n):\n",
        "    if i==0 or s==5 or i==s:\n",
        "      print(\"*\",end=\" \")\n",
        "    else:\n",
        "      print(\" \",end=\" \")\n",
        "\n",
        "  print()"
      ],
      "metadata": {
        "colab": {
          "base_uri": "https://localhost:8080/"
        },
        "id": "rho8ldsIp7T-",
        "outputId": "f29bde83-ab31-41cc-b499-1ab599e70680"
      },
      "execution_count": null,
      "outputs": [
        {
          "output_type": "stream",
          "name": "stdout",
          "text": [
            "* * * * * * \n",
            "  *       * \n",
            "    *     * \n",
            "      *   * \n",
            "        * * \n",
            "          * \n"
          ]
        }
      ]
    },
    {
      "cell_type": "code",
      "source": [
        "n = 6\n",
        "for i in range(n):\n",
        "    # Print leading dashes\n",
        "    for j in range(i):\n",
        "        print(\"-\", end=\" \")\n",
        "\n",
        "    # Print star pattern\n",
        "    for s in range(n):\n",
        "        if i == 0 or i == s or s == n - 1:\n",
        "            print(\"*\", end=\" \")\n",
        "        else:\n",
        "            print(\" \", end=\" \")\n",
        "\n",
        "    print()\n"
      ],
      "metadata": {
        "colab": {
          "base_uri": "https://localhost:8080/"
        },
        "id": "_WBcymS-roYg",
        "outputId": "010c5dd0-fc11-4236-dcd8-3eb6ee353221"
      },
      "execution_count": null,
      "outputs": [
        {
          "output_type": "stream",
          "name": "stdout",
          "text": [
            "* * * * * * \n",
            "-   *       * \n",
            "- -     *     * \n",
            "- - -       *   * \n",
            "- - - -         * * \n",
            "- - - - -           * \n"
          ]
        }
      ]
    },
    {
      "cell_type": "code",
      "source": [
        "n=6\n",
        "count=1\n",
        "for i in range(0,n):\n",
        "  for s in range(0,n-i):\n",
        "    if i==0 or s==0 or s==n-i-1:\n",
        "      print(count,end=\" \")\n",
        "    else:\n",
        "      print(\" \",end=\" \")\n",
        "    count+=1\n",
        "\n",
        "  print()"
      ],
      "metadata": {
        "colab": {
          "base_uri": "https://localhost:8080/"
        },
        "id": "8NxF1Y2tsxQ-",
        "outputId": "f842af28-3034-40af-bcfe-351bee31addc"
      },
      "execution_count": null,
      "outputs": [
        {
          "output_type": "stream",
          "name": "stdout",
          "text": [
            "1 2 3 4 5 6 \n",
            "7       11 \n",
            "12     15 \n",
            "16   18 \n",
            "19 20 \n",
            "21 \n"
          ]
        }
      ]
    },
    {
      "cell_type": "code",
      "source": [],
      "metadata": {
        "id": "LbvFEKxewnG7"
      },
      "execution_count": null,
      "outputs": []
    }
  ]
}