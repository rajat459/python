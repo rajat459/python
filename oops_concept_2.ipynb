{
  "nbformat": 4,
  "nbformat_minor": 0,
  "metadata": {
    "colab": {
      "provenance": [],
      "authorship_tag": "ABX9TyPLUNAPNwsrJ2v7rUi8BVkF",
      "include_colab_link": true
    },
    "kernelspec": {
      "name": "python3",
      "display_name": "Python 3"
    },
    "language_info": {
      "name": "python"
    }
  },
  "cells": [
    {
      "cell_type": "markdown",
      "metadata": {
        "id": "view-in-github",
        "colab_type": "text"
      },
      "source": [
        "<a href=\"https://colab.research.google.com/github/rajat459/python/blob/main/oops_concept_2.ipynb\" target=\"_parent\"><img src=\"https://colab.research.google.com/assets/colab-badge.svg\" alt=\"Open In Colab\"/></a>"
      ]
    },
    {
      "cell_type": "code",
      "execution_count": 1,
      "metadata": {
        "colab": {
          "base_uri": "https://localhost:8080/"
        },
        "id": "WHEC7L408uZE",
        "outputId": "d39acb57-6f67-4480-bdf7-2a81d9284573"
      },
      "outputs": [
        {
          "output_type": "stream",
          "name": "stdout",
          "text": [
            "50\n",
            "60\n"
          ]
        }
      ],
      "source": [
        "class Rectangle:\n",
        "    def __init__(self, length, width):\n",
        "        self.__length = length\n",
        "        self.__width = width\n",
        "\n",
        "    def get_length(self):\n",
        "        return self.__length\n",
        "\n",
        "    def set_length(self, length):\n",
        "        self.__length = length\n",
        "\n",
        "    def get_width(self):\n",
        "        return self.__width\n",
        "\n",
        "    def set_width(self, width):\n",
        "        self.__width = width\n",
        "\n",
        "    def calculate_area(self):\n",
        "        return self.__length * self.__width\n",
        "\n",
        "rect = Rectangle(10, 5)\n",
        "print(rect.calculate_area())\n",
        "rect.set_length(12)\n",
        "print(rect.calculate_area())\n"
      ]
    },
    {
      "cell_type": "code",
      "source": [
        "class Employee:\n",
        "    def __init__(self, name, salary):\n",
        "        self.name = name\n",
        "        self.salary = salary\n",
        "\n",
        "    def display_details(self):\n",
        "        return f\"Name: {self.name}, Salary: {self.salary}\"\n",
        "\n",
        "class Manager(Employee):\n",
        "    def __init__(self, name, salary, team_size):\n",
        "        super().__init__(name, salary)\n",
        "        self.team_size = team_size\n",
        "\n",
        "    def display_details(self):\n",
        "        return f\"{super().display_details()}, Team Size: {self.team_size}\"\n",
        "\n",
        "emp = Employee(\"Alice\", 50000)\n",
        "print(emp.display_details())\n",
        "\n",
        "mgr = Manager(\"Bob\", 80000, 10)\n",
        "print(mgr.display_details())\n"
      ],
      "metadata": {
        "colab": {
          "base_uri": "https://localhost:8080/"
        },
        "id": "7Loz1Bz69PCA",
        "outputId": "38f79877-19f3-41ca-8464-6275390050fd"
      },
      "execution_count": 2,
      "outputs": [
        {
          "output_type": "stream",
          "name": "stdout",
          "text": [
            "Name: Alice, Salary: 50000\n",
            "Name: Bob, Salary: 80000, Team Size: 10\n"
          ]
        }
      ]
    },
    {
      "cell_type": "code",
      "source": [
        "class Animal:\n",
        "    def sound(self):\n",
        "        return \"Some sound\"\n",
        "\n",
        "class Dog(Animal):\n",
        "    def sound(self):\n",
        "        return \"Bark\"\n",
        "\n",
        "class Cat(Animal):\n",
        "    def sound(self):\n",
        "        return \"Meow\"\n",
        "\n",
        "dog = Dog()\n",
        "cat = Cat()\n",
        "print(dog.sound())\n",
        "print(cat.sound())\n"
      ],
      "metadata": {
        "colab": {
          "base_uri": "https://localhost:8080/"
        },
        "id": "11MTmFOW9RGz",
        "outputId": "8540e710-ad33-4a41-8e68-d38bf9e51652"
      },
      "execution_count": 3,
      "outputs": [
        {
          "output_type": "stream",
          "name": "stdout",
          "text": [
            "Bark\n",
            "Meow\n"
          ]
        }
      ]
    },
    {
      "cell_type": "code",
      "source": [
        "from abc import ABC, abstractmethod\n",
        "\n",
        "class Shape(ABC):\n",
        "    @abstractmethod\n",
        "    def calculate_area(self):\n",
        "        pass\n",
        "\n",
        "class Circle(Shape):\n",
        "    def __init__(self, radius):\n",
        "        self.radius = radius\n",
        "\n",
        "    def calculate_area(self):\n",
        "        return 3.14 * self.radius * self.radius\n",
        "\n",
        "class Square(Shape):\n",
        "    def __init__(self, side):\n",
        "        self.side = side\n",
        "\n",
        "    def calculate_area(self):\n",
        "        return self.side * self.side\n",
        "\n",
        "circle = Circle(5)\n",
        "print(circle.calculate_area())\n",
        "\n",
        "square = Square(4)\n",
        "print(square.calculate_area())\n"
      ],
      "metadata": {
        "colab": {
          "base_uri": "https://localhost:8080/"
        },
        "id": "pd4seyGv9USf",
        "outputId": "e40d3b96-db22-43f0-bc7b-01a94720e6fc"
      },
      "execution_count": 4,
      "outputs": [
        {
          "output_type": "stream",
          "name": "stdout",
          "text": [
            "78.5\n",
            "16\n"
          ]
        }
      ]
    },
    {
      "cell_type": "code",
      "source": [
        "class ShoppingCart:\n",
        "    def __init__(self):\n",
        "        self.items = {}\n",
        "\n",
        "    def add_item(self, name, price):\n",
        "        self.items[name] = price\n",
        "\n",
        "    def remove_item(self, name):\n",
        "        if name in self.items:\n",
        "            del self.items[name]\n",
        "\n",
        "    def total_price(self):\n",
        "        return sum(self.items.values())\n",
        "\n",
        "cart = ShoppingCart()\n",
        "cart.add_item(\"Apple\", 1.2)\n",
        "cart.add_item(\"Banana\", 0.8)\n",
        "cart.remove_item(\"Banana\")\n",
        "print(cart.total_price())\n"
      ],
      "metadata": {
        "colab": {
          "base_uri": "https://localhost:8080/"
        },
        "id": "qgRkHid59WAr",
        "outputId": "6baab798-d9b5-4d2a-ce4a-a779b5c47955"
      },
      "execution_count": 5,
      "outputs": [
        {
          "output_type": "stream",
          "name": "stdout",
          "text": [
            "1.2\n"
          ]
        }
      ]
    },
    {
      "cell_type": "code",
      "source": [
        "class Person:\n",
        "    def __init__(self, name, age):\n",
        "        self.name = name\n",
        "        self.age = age\n",
        "\n",
        "class Employee:\n",
        "    def __init__(self, employee_id, department):\n",
        "        self.employee_id = employee_id\n",
        "        self.department = department\n",
        "\n",
        "class Manager(Person, Employee):\n",
        "    def __init__(self, name, age, employee_id, department):\n",
        "        Person.__init__(self, name, age)\n",
        "        Employee.__init__(self, employee_id, department)\n",
        "\n",
        "    def display_details(self):\n",
        "        return f\"Name: {self.name}, Age: {self.age}, ID: {self.employee_id}, Department: {self.department}\"\n",
        "\n",
        "mgr = Manager(\"Alice\", 35, \"M123\", \"HR\")\n",
        "print(mgr.display_details())\n"
      ],
      "metadata": {
        "colab": {
          "base_uri": "https://localhost:8080/"
        },
        "id": "XM4GHr8o9aSH",
        "outputId": "6deaa9c6-ebdb-412e-a8fe-ce12611d87f7"
      },
      "execution_count": 6,
      "outputs": [
        {
          "output_type": "stream",
          "name": "stdout",
          "text": [
            "Name: Alice, Age: 35, ID: M123, Department: HR\n"
          ]
        }
      ]
    },
    {
      "cell_type": "code",
      "source": [
        "class Calculator:\n",
        "    def add(self, a, b, c=0):\n",
        "        return a + b + c\n",
        "\n",
        "calc = Calculator()\n",
        "print(calc.add(5, 10))  # Two arguments\n",
        "print(calc.add(5, 10, 15))  # Three arguments\n"
      ],
      "metadata": {
        "colab": {
          "base_uri": "https://localhost:8080/"
        },
        "id": "SGuOiQg99ibQ",
        "outputId": "25b385af-5bcb-43b4-f583-f03aa2515683"
      },
      "execution_count": 7,
      "outputs": [
        {
          "output_type": "stream",
          "name": "stdout",
          "text": [
            "15\n",
            "30\n"
          ]
        }
      ]
    },
    {
      "cell_type": "code",
      "source": [
        "class Shape:\n",
        "    def draw(self):\n",
        "        return \"Drawing a shape\"\n",
        "\n",
        "class Circle(Shape):\n",
        "    def draw(self):\n",
        "        return \"Drawing a circle\"\n",
        "\n",
        "class Square(Shape):\n",
        "    def draw(self):\n",
        "        return \"Drawing a square\"\n",
        "\n",
        "circle = Circle()\n",
        "square = Square()\n",
        "print(circle.draw())\n",
        "print(square.draw())\n"
      ],
      "metadata": {
        "colab": {
          "base_uri": "https://localhost:8080/"
        },
        "id": "YE2eQdUS9kIO",
        "outputId": "f92478e9-222a-4337-f2bf-dfb608034fa0"
      },
      "execution_count": 8,
      "outputs": [
        {
          "output_type": "stream",
          "name": "stdout",
          "text": [
            "Drawing a circle\n",
            "Drawing a square\n"
          ]
        }
      ]
    },
    {
      "cell_type": "code",
      "source": [
        "class MathUtils:\n",
        "    @staticmethod\n",
        "    def square(number):\n",
        "        return number * number\n",
        "\n",
        "print(MathUtils.square(5))\n"
      ],
      "metadata": {
        "colab": {
          "base_uri": "https://localhost:8080/"
        },
        "id": "F8dQ4baZ9m4r",
        "outputId": "34bac312-8e67-4d46-eb0d-4dd4717a98d1"
      },
      "execution_count": 9,
      "outputs": [
        {
          "output_type": "stream",
          "name": "stdout",
          "text": [
            "25\n"
          ]
        }
      ]
    },
    {
      "cell_type": "code",
      "source": [
        "class InsufficientBalanceException(Exception):\n",
        "    pass\n",
        "\n",
        "class BankAccount:\n",
        "    def __init__(self, balance):\n",
        "        self.balance = balance\n",
        "\n",
        "    def withdraw(self, amount):\n",
        "        if amount > self.balance:\n",
        "            raise InsufficientBalanceException(\"Insufficient balance for the withdrawal.\")\n",
        "        self.balance -= amount\n",
        "        return self.balance\n",
        "\n",
        "account = BankAccount(100)\n",
        "try:\n",
        "    account.withdraw(150)\n",
        "except InsufficientBalanceException as e:\n",
        "    print(e)\n"
      ],
      "metadata": {
        "colab": {
          "base_uri": "https://localhost:8080/"
        },
        "id": "T5pZAFzw9or5",
        "outputId": "75097b69-bc38-41a3-94ce-8dc16881a248"
      },
      "execution_count": 10,
      "outputs": [
        {
          "output_type": "stream",
          "name": "stdout",
          "text": [
            "Insufficient balance for the withdrawal.\n"
          ]
        }
      ]
    },
    {
      "cell_type": "code",
      "source": [
        "class Point:\n",
        "    def __init__(self, x, y):\n",
        "        self.x = x\n",
        "        self.y = y\n",
        "\n",
        "    def __add__(self, other):\n",
        "        return Point(self.x + other.x, self.y + other.y)\n",
        "\n",
        "    def __str__(self):\n",
        "        return f\"({self.x}, {self.y})\"\n",
        "\n",
        "p1 = Point(2, 3)\n",
        "p2 = Point(4, 5)\n",
        "p3 = p1 + p2\n",
        "print(p3)\n"
      ],
      "metadata": {
        "colab": {
          "base_uri": "https://localhost:8080/"
        },
        "id": "-ATMRp-19rR7",
        "outputId": "7f542adc-fe0e-4abb-dc8b-fb616ab01277"
      },
      "execution_count": 11,
      "outputs": [
        {
          "output_type": "stream",
          "name": "stdout",
          "text": [
            "(6, 8)\n"
          ]
        }
      ]
    },
    {
      "cell_type": "code",
      "source": [
        "class Engine:\n",
        "    def start(self):\n",
        "        return \"Engine started\"\n",
        "\n",
        "class Car:\n",
        "    def __init__(self):\n",
        "        self.engine = Engine()\n",
        "\n",
        "    def start(self):\n",
        "        return self.engine.start()\n",
        "\n",
        "car = Car()\n",
        "print(car.start())\n"
      ],
      "metadata": {
        "colab": {
          "base_uri": "https://localhost:8080/"
        },
        "id": "pI7tgspX9s3D",
        "outputId": "c818fe69-43de-40b3-8c0b-cea41966aec7"
      },
      "execution_count": 12,
      "outputs": [
        {
          "output_type": "stream",
          "name": "stdout",
          "text": [
            "Engine started\n"
          ]
        }
      ]
    },
    {
      "cell_type": "code",
      "source": [],
      "metadata": {
        "id": "cSAP2pMm9uSW"
      },
      "execution_count": null,
      "outputs": []
    }
  ]
}