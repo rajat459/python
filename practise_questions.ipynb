{
  "nbformat": 4,
  "nbformat_minor": 0,
  "metadata": {
    "colab": {
      "provenance": [],
      "authorship_tag": "ABX9TyOaVD/u7/2RbP9rKR9MC9X3",
      "include_colab_link": true
    },
    "kernelspec": {
      "name": "python3",
      "display_name": "Python 3"
    },
    "language_info": {
      "name": "python"
    }
  },
  "cells": [
    {
      "cell_type": "markdown",
      "metadata": {
        "id": "view-in-github",
        "colab_type": "text"
      },
      "source": [
        "<a href=\"https://colab.research.google.com/github/rajat459/python/blob/main/practise_questions.ipynb\" target=\"_parent\"><img src=\"https://colab.research.google.com/assets/colab-badge.svg\" alt=\"Open In Colab\"/></a>"
      ]
    },
    {
      "cell_type": "code",
      "execution_count": null,
      "metadata": {
        "colab": {
          "base_uri": "https://localhost:8080/"
        },
        "id": "QoCsteUzDgwg",
        "outputId": "a538d0c4-779f-42d4-d1cc-7c72985d3bc3"
      },
      "outputs": [
        {
          "output_type": "stream",
          "name": "stdout",
          "text": [
            "True\n"
          ]
        }
      ],
      "source": [
        "def is_palindrome(s):\n",
        "    s = s.lower().replace(\" \", \"\")  # Normalize the string\n",
        "    return s == s[::-1]  # Check if the string is equal to its reverse\n",
        "\n",
        "print(is_palindrome(\"A man a plan a canal Panama\"))  # True\n"
      ]
    },
    {
      "cell_type": "code",
      "source": [
        "def fibonacci(n):\n",
        "    if n <= 1:  # Base cases\n",
        "        return n\n",
        "    return fibonacci(n - 1) + fibonacci(n - 2)  # Recursive case\n",
        "\n",
        "print([fibonacci(i) for i in range(10)])  # First 10 Fibonacci numbers\n"
      ],
      "metadata": {
        "colab": {
          "base_uri": "https://localhost:8080/"
        },
        "id": "zedHmsrTD802",
        "outputId": "471bd408-d11d-45e3-fd3c-3ed7bd955b4e"
      },
      "execution_count": null,
      "outputs": [
        {
          "output_type": "stream",
          "name": "stdout",
          "text": [
            "[0, 1, 1, 2, 3, 5, 8, 13, 21, 34]\n"
          ]
        }
      ]
    },
    {
      "cell_type": "code",
      "source": [
        "def is_prime(num):\n",
        "    if num <= 1:\n",
        "        return False\n",
        "    for i in range(2, int(num**0.5) + 1):  # Check divisors up to √num\n",
        "        if num % i == 0:\n",
        "            return False\n",
        "    return True\n",
        "\n",
        "print(is_prime(29))  # True\n"
      ],
      "metadata": {
        "colab": {
          "base_uri": "https://localhost:8080/"
        },
        "id": "bZpvPeWHD-_T",
        "outputId": "792f5553-c5ea-4fab-a699-7233541f6556"
      },
      "execution_count": null,
      "outputs": [
        {
          "output_type": "stream",
          "name": "stdout",
          "text": [
            "True\n"
          ]
        }
      ]
    },
    {
      "cell_type": "code",
      "source": [
        "def longest_word(sentence):\n",
        "    words = sentence.split()  # Split into words\n",
        "    return max(words, key=len)  # Find the word with maximum length\n",
        "\n",
        "print(longest_word(\"Write a Python program to find the longest word.\"))  # \"longest\"\n"
      ],
      "metadata": {
        "colab": {
          "base_uri": "https://localhost:8080/"
        },
        "id": "d6JR8yY2EAOw",
        "outputId": "12b4fd27-4934-45c7-829c-31be337fcbc3"
      },
      "execution_count": null,
      "outputs": [
        {
          "output_type": "stream",
          "name": "stdout",
          "text": [
            "program\n"
          ]
        }
      ]
    },
    {
      "cell_type": "code",
      "source": [
        "def bubble_sort(arr):\n",
        "    n = len(arr)\n",
        "    for i in range(n):\n",
        "        for j in range(0, n - i - 1):  # Last i elements are already sorted\n",
        "            if arr[j] > arr[j + 1]:  # Swap if out of order\n",
        "                arr[j], arr[j + 1] = arr[j + 1], arr[j]\n",
        "    return arr\n",
        "\n",
        "print(bubble_sort([64, 34, 25, 12, 22, 11, 90]))\n",
        "\n"
      ],
      "metadata": {
        "colab": {
          "base_uri": "https://localhost:8080/"
        },
        "id": "Y7xm71mOEB_I",
        "outputId": "6644e60b-58bd-4032-ae82-cd406a95fa53"
      },
      "execution_count": null,
      "outputs": [
        {
          "output_type": "stream",
          "name": "stdout",
          "text": [
            "[11, 12, 22, 25, 34, 64, 90]\n"
          ]
        }
      ]
    },
    {
      "cell_type": "code",
      "source": [
        "def second_largest(nums):\n",
        "    unique_nums = list(set(nums))  # Remove duplicates\n",
        "    unique_nums.sort()  # Sort the list\n",
        "    return unique_nums[-2]  # Second largest\n",
        "\n",
        "print(second_largest([4, 1, 2, 4, 5, 2, 5]))  # 4\n"
      ],
      "metadata": {
        "colab": {
          "base_uri": "https://localhost:8080/"
        },
        "id": "FwNgXBkfEDwm",
        "outputId": "add7e1ee-2760-428f-8825-ff2c58b7e16d"
      },
      "execution_count": null,
      "outputs": [
        {
          "output_type": "stream",
          "name": "stdout",
          "text": [
            "4\n"
          ]
        }
      ]
    },
    {
      "cell_type": "code",
      "source": [
        "def factorial(n):\n",
        "    if n == 0:  # Base case: 0! = 1\n",
        "        return 1\n",
        "    return n * factorial(n - 1)  # Recursive case\n",
        "\n",
        "print(factorial(5))  # 120\n"
      ],
      "metadata": {
        "colab": {
          "base_uri": "https://localhost:8080/"
        },
        "id": "hWWZ2hlTEFo0",
        "outputId": "d65fccae-c246-4e32-d086-c372358d27cd"
      },
      "execution_count": null,
      "outputs": [
        {
          "output_type": "stream",
          "name": "stdout",
          "text": [
            "120\n"
          ]
        }
      ]
    },
    {
      "cell_type": "code",
      "source": [
        "def reverse_string(s):\n",
        "    reversed_s = \"\"\n",
        "    for char in s:\n",
        "        reversed_s = char + reversed_s  # Add each character at the beginning\n",
        "    return reversed_s\n",
        "\n",
        "print(reverse_string(\"Python\"))  # \"nohtyP\"\n"
      ],
      "metadata": {
        "colab": {
          "base_uri": "https://localhost:8080/"
        },
        "id": "pUp3YrR2EHKy",
        "outputId": "dcb117c6-8c2b-4383-ed07-b1065e9f7c4e"
      },
      "execution_count": null,
      "outputs": [
        {
          "output_type": "stream",
          "name": "stdout",
          "text": [
            "nohtyP\n"
          ]
        }
      ]
    },
    {
      "cell_type": "code",
      "source": [
        "def are_anagrams(str1, str2):\n",
        "    return sorted(str1) == sorted(str2)  # Compare sorted characters\n",
        "\n",
        "print(are_anagrams(\"listen\", \"silent\"))  # True\n"
      ],
      "metadata": {
        "colab": {
          "base_uri": "https://localhost:8080/"
        },
        "id": "Ki6qZVBGEMXk",
        "outputId": "f0ef08b8-e7af-4372-b417-ff706a25f158"
      },
      "execution_count": null,
      "outputs": [
        {
          "output_type": "stream",
          "name": "stdout",
          "text": [
            "True\n"
          ]
        }
      ]
    },
    {
      "cell_type": "code",
      "source": [
        "def gcd(a, b):\n",
        "    if b == 0:  # Base case\n",
        "        return a\n",
        "    return gcd(b, a % b)  # Recursive case\n",
        "\n",
        "print(gcd(48, 18))  # 6\n"
      ],
      "metadata": {
        "colab": {
          "base_uri": "https://localhost:8080/"
        },
        "id": "ek7EGDceEN9g",
        "outputId": "2d83ca7b-cd84-4cd7-a59a-81e2d9bd75f5"
      },
      "execution_count": null,
      "outputs": [
        {
          "output_type": "stream",
          "name": "stdout",
          "text": [
            "6\n"
          ]
        }
      ]
    },
    {
      "cell_type": "code",
      "source": [
        "def flatten_list(nested_list):\n",
        "    flat_list = []\n",
        "    for item in nested_list:\n",
        "        if isinstance(item, list):  # Check if the item is a list\n",
        "            flat_list.extend(flatten_list(item))  # Recursive flatten\n",
        "        else:\n",
        "            flat_list.append(item)\n",
        "    return flat_list\n",
        "\n",
        "print(flatten_list([1, [2, [3, 4], 5], 6]))  # [1, 2, 3, 4, 5, 6]\n"
      ],
      "metadata": {
        "colab": {
          "base_uri": "https://localhost:8080/"
        },
        "id": "SMW5gsr3EPcQ",
        "outputId": "e05fddb7-e8ab-4b89-bc64-05bed10ec1a5"
      },
      "execution_count": null,
      "outputs": [
        {
          "output_type": "stream",
          "name": "stdout",
          "text": [
            "[1, 2, 3, 4, 5, 6]\n"
          ]
        }
      ]
    },
    {
      "cell_type": "code",
      "source": [
        "def prime_numbers(n):\n",
        "    primes = []\n",
        "    for i in range(2, n + 1):\n",
        "        if all(i % p != 0 for p in primes):  # Check divisibility\n",
        "            primes.append(i)\n",
        "    return primes\n",
        "\n",
        "print(prime_numbers(20))  # [2, 3, 5, 7, 11, 13, 17, 19]\n"
      ],
      "metadata": {
        "colab": {
          "base_uri": "https://localhost:8080/"
        },
        "id": "VG2xNPJdEQ6V",
        "outputId": "acf1095d-b3c3-445f-eab2-0eb371b7dcd9"
      },
      "execution_count": null,
      "outputs": [
        {
          "output_type": "stream",
          "name": "stdout",
          "text": [
            "[2, 3, 5, 7, 11, 13, 17, 19]\n"
          ]
        }
      ]
    },
    {
      "cell_type": "code",
      "source": [
        "from itertools import permutations\n",
        "\n",
        "def unique_permutations(s):\n",
        "    return set(\"\".join(p) for p in permutations(s))\n",
        "\n",
        "print(unique_permutations(\"abc\"))  # {'abc', 'acb', 'bac', 'bca', 'cab', 'cba'}\n"
      ],
      "metadata": {
        "colab": {
          "base_uri": "https://localhost:8080/"
        },
        "id": "hCdi7c91ESWI",
        "outputId": "9669b510-2241-4ada-bcae-e3c84b0ba81b"
      },
      "execution_count": null,
      "outputs": [
        {
          "output_type": "stream",
          "name": "stdout",
          "text": [
            "{'acb', 'bca', 'abc', 'cba', 'bac', 'cab'}\n"
          ]
        }
      ]
    },
    {
      "cell_type": "code",
      "source": [
        "def sum_of_digits(num):\n",
        "    if num == 0:  # Base case\n",
        "        return 0\n",
        "    return num % 10 + sum_of_digits(num // 10)  # Recursive case\n",
        "\n",
        "print(sum_of_digits(1234))  # 10\n"
      ],
      "metadata": {
        "colab": {
          "base_uri": "https://localhost:8080/"
        },
        "id": "LoNXrN7xETva",
        "outputId": "8c51f60c-c0d8-4c91-a972-d3c43c794c40"
      },
      "execution_count": null,
      "outputs": [
        {
          "output_type": "stream",
          "name": "stdout",
          "text": [
            "10\n"
          ]
        }
      ]
    },
    {
      "cell_type": "code",
      "source": [
        "def transpose_matrix(matrix):\n",
        "    return [[row[i] for row in matrix] for i in range(len(matrix[0]))]\n",
        "\n",
        "matrix = [[1, 2, 3], [4, 5, 6], [7, 8, 9]]\n",
        "print(transpose_matrix(matrix))\n"
      ],
      "metadata": {
        "colab": {
          "base_uri": "https://localhost:8080/"
        },
        "id": "3LJmk1E9Ef48",
        "outputId": "309944a4-a9a2-4b3f-d3a3-1079fea8f202"
      },
      "execution_count": null,
      "outputs": [
        {
          "output_type": "stream",
          "name": "stdout",
          "text": [
            "[[1, 4, 7], [2, 5, 8], [3, 6, 9]]\n"
          ]
        }
      ]
    },
    {
      "cell_type": "code",
      "source": [
        "def first_non_repeating(s):\n",
        "    for char in s:\n",
        "        if s.count(char) == 1:\n",
        "            return char\n",
        "    return None\n",
        "\n",
        "print(first_non_repeating(\"swiss\"))  # \"w\"\n"
      ],
      "metadata": {
        "colab": {
          "base_uri": "https://localhost:8080/"
        },
        "id": "ayKG2lQIEhG1",
        "outputId": "76cc9624-9778-451a-fca2-200b0314f751"
      },
      "execution_count": null,
      "outputs": [
        {
          "output_type": "stream",
          "name": "stdout",
          "text": [
            "w\n"
          ]
        }
      ]
    },
    {
      "cell_type": "code",
      "source": [
        "def word_frequency(sentence):\n",
        "    words = sentence.split()\n",
        "    return {word: words.count(word) for word in set(words)}\n",
        "\n",
        "print(word_frequency(\"this is a test this is only a test\"))\n"
      ],
      "metadata": {
        "colab": {
          "base_uri": "https://localhost:8080/"
        },
        "id": "0HATuHQXEily",
        "outputId": "b529059b-4726-4211-d262-886e6ae40a88"
      },
      "execution_count": null,
      "outputs": [
        {
          "output_type": "stream",
          "name": "stdout",
          "text": [
            "{'this': 2, 'is': 2, 'a': 2, 'test': 2, 'only': 1}\n"
          ]
        }
      ]
    },
    {
      "cell_type": "code",
      "source": [
        "def sort_by_second_element(tuples):\n",
        "    return sorted(tuples, key=lambda x: x[1])\n",
        "\n",
        "print(sort_by_second_element([(1, 3), (2, 1), (4, 2)]))  # [(2, 1), (4, 2), (1, 3)]\n"
      ],
      "metadata": {
        "colab": {
          "base_uri": "https://localhost:8080/"
        },
        "id": "SRwdhJkUEj_r",
        "outputId": "975effe5-98a9-4b24-e9ce-5d02a942cba6"
      },
      "execution_count": null,
      "outputs": [
        {
          "output_type": "stream",
          "name": "stdout",
          "text": [
            "[(2, 1), (4, 2), (1, 3)]\n"
          ]
        }
      ]
    },
    {
      "cell_type": "code",
      "source": [
        "def binary_search(arr, target):\n",
        "    low, high = 0, len(arr) - 1\n",
        "    while low <= high:\n",
        "        mid = (low + high) // 2\n",
        "        if arr[mid] == target:\n",
        "            return mid\n",
        "        elif arr[mid] < target:\n",
        "            low = mid + 1\n",
        "        else:\n",
        "            high = mid - 1\n",
        "    return -1\n",
        "\n",
        "print(binary_search([1, 2, 3, 4, 5], 3))  # 2\n"
      ],
      "metadata": {
        "colab": {
          "base_uri": "https://localhost:8080/"
        },
        "id": "qd25mNYFElX7",
        "outputId": "b58dc450-958f-414c-8ef4-9bcefec11fb4"
      },
      "execution_count": null,
      "outputs": [
        {
          "output_type": "stream",
          "name": "stdout",
          "text": [
            "2\n"
          ]
        }
      ]
    },
    {
      "cell_type": "code",
      "source": [
        "def max_subarray_sum(arr):\n",
        "    max_sum = current_sum = arr[0]\n",
        "    for num in arr[1:]:\n",
        "        current_sum = max(num, current_sum + num)  # Extend or start new subarray\n",
        "        max_sum = max(max_sum, current_sum)  # Track maximum sum\n",
        "    return max_sum\n",
        "\n",
        "print(max_subarray_sum([-2, 1, -3, 4, -1, 2, 1, -5, 4]))  # 6\n"
      ],
      "metadata": {
        "colab": {
          "base_uri": "https://localhost:8080/"
        },
        "id": "36d9FJLMEm_7",
        "outputId": "96365a46-4cd3-4327-d830-85a55e771bdf"
      },
      "execution_count": null,
      "outputs": [
        {
          "output_type": "stream",
          "name": "stdout",
          "text": [
            "6\n"
          ]
        }
      ]
    },
    {
      "cell_type": "code",
      "source": [],
      "metadata": {
        "id": "ZCSxV1fBEodP"
      },
      "execution_count": null,
      "outputs": []
    }
  ]
}