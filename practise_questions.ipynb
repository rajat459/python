{
  "nbformat": 4,
  "nbformat_minor": 0,
  "metadata": {
    "colab": {
      "provenance": [],
      "authorship_tag": "ABX9TyOVQ21X1sh4yOOnlq5gJQbC",
      "include_colab_link": true
    },
    "kernelspec": {
      "name": "python3",
      "display_name": "Python 3"
    },
    "language_info": {
      "name": "python"
    }
  },
  "cells": [
    {
      "cell_type": "markdown",
      "metadata": {
        "id": "view-in-github",
        "colab_type": "text"
      },
      "source": [
        "<a href=\"https://colab.research.google.com/github/rajat459/python/blob/main/practise_questions.ipynb\" target=\"_parent\"><img src=\"https://colab.research.google.com/assets/colab-badge.svg\" alt=\"Open In Colab\"/></a>"
      ]
    },
    {
      "cell_type": "code",
      "source": [
        "nums=[1,2,3]\n",
        "result=[[]]\n",
        "for num in nums:\n",
        "  new=[]\n",
        "  for current in result:\n",
        "        news=current+[num]\n",
        "        new.append(news)\n",
        "  result.extend(new)\n",
        "print( result)"
      ],
      "metadata": {
        "colab": {
          "base_uri": "https://localhost:8080/"
        },
        "id": "HmZSB5Gvzp1I",
        "outputId": "be3ff996-6b2d-468c-b71d-598e97d2aef6"
      },
      "execution_count": null,
      "outputs": [
        {
          "output_type": "stream",
          "name": "stdout",
          "text": [
            "[[], [1], [2], [1, 2], [3], [1, 3], [2, 3], [1, 2, 3]]\n"
          ]
        }
      ]
    },
    {
      "cell_type": "code",
      "source": [
        "from collections import Counter\n",
        "list1=[1,2,34,5,6,1]\n",
        "\n",
        "count=Counter(list1)\n",
        "print(count)"
      ],
      "metadata": {
        "colab": {
          "base_uri": "https://localhost:8080/"
        },
        "id": "SUFxklRgcmb6",
        "outputId": "9166a41c-61bc-46aa-ee76-f6e912f95501"
      },
      "execution_count": null,
      "outputs": [
        {
          "output_type": "stream",
          "name": "stdout",
          "text": [
            "Counter({1: 2, 2: 1, 34: 1, 5: 1, 6: 1})\n"
          ]
        }
      ]
    },
    {
      "cell_type": "code",
      "source": [
        "from collections import Counter\n",
        "list1=[1,2,34,5,6,1,2,1,1]\n",
        "max=0\n",
        "most=None\n",
        "count=Counter(list1)\n",
        "for i ,j in count.items():\n",
        "  if j>max:\n",
        "    max=j\n",
        "    most=i\n",
        "print(max,j)\n",
        "\n"
      ],
      "metadata": {
        "colab": {
          "base_uri": "https://localhost:8080/"
        },
        "id": "H6Pywh2MdQdq",
        "outputId": "abac90e4-a519-48d1-f536-bd7fe22bac62"
      },
      "execution_count": null,
      "outputs": [
        {
          "output_type": "stream",
          "name": "stdout",
          "text": [
            "4 1\n"
          ]
        }
      ]
    },
    {
      "cell_type": "code",
      "source": [
        "from collections import Counter\n",
        "\n",
        "list1 = [1, 2, 34, 5, 6, 1, 2, 1, 1]\n",
        "count = Counter(list1)\n",
        "\n",
        "max_count = 0\n",
        "most_frequent_element = None\n",
        "\n",
        "for element, freq in count.items():\n",
        "    if freq > max_count:\n",
        "        max_count = freq\n",
        "        most_frequent_element = element\n",
        "\n",
        "print(f\"The most frequent element is {most_frequent_element} with a count of {max_count}.\")\n"
      ],
      "metadata": {
        "colab": {
          "base_uri": "https://localhost:8080/"
        },
        "id": "73IqSqUleKnT",
        "outputId": "1f3da2c3-ab7e-444f-b809-bcaa8e39b0ac"
      },
      "execution_count": null,
      "outputs": [
        {
          "output_type": "stream",
          "name": "stdout",
          "text": [
            "The most frequent element is 1 with a count of 4.\n"
          ]
        }
      ]
    },
    {
      "cell_type": "code",
      "source": [
        "from collections import Counter\n",
        "a=\"rajat\"\n",
        "b=\"taja\"\n",
        "count=Counter(a)\n",
        "num=Counter(b)\n",
        "if len(a)!=len(b):\n",
        "  print(\"not a  anagram\")\n",
        "elif Counter(a)==Counter(b):\n",
        "  print(\"yes it is anagram\")\n",
        "else:\n",
        "  print(\"not a anagram\")\n"
      ],
      "metadata": {
        "colab": {
          "base_uri": "https://localhost:8080/"
        },
        "id": "-1pLCF_2fMZK",
        "outputId": "272bb77b-e4b0-47f1-ab44-b7efde1efa1c"
      },
      "execution_count": null,
      "outputs": [
        {
          "output_type": "stream",
          "name": "stdout",
          "text": [
            "not a  anagram\n"
          ]
        }
      ]
    },
    {
      "cell_type": "code",
      "source": [
        "a=\"rajat\"\n",
        "b=\"tajar\"\n",
        "if len(a)!=len(b):\n",
        "  print(\"not a  anagram\")\n",
        "elif sorted(a)==sorted(b):\n",
        "  print(\"yes it is anagram\")\n",
        "\n"
      ],
      "metadata": {
        "colab": {
          "base_uri": "https://localhost:8080/"
        },
        "id": "ZeVnAZZSgKvC",
        "outputId": "03745691-02f7-4bcf-87a6-a98d5bae21fa"
      },
      "execution_count": null,
      "outputs": [
        {
          "output_type": "stream",
          "name": "stdout",
          "text": [
            "yes it is anagram\n"
          ]
        }
      ]
    },
    {
      "cell_type": "code",
      "source": [
        "from re import A\n",
        "n=int(input(\"enter\"))\n",
        "a=0\n",
        "b=1\n",
        "list1=[]\n",
        "for i in range(n):\n",
        "  list1.append(a)\n",
        "  temp=a\n",
        "  a=b\n",
        "  b+=temp\n",
        "\n",
        "\n",
        "print(list1)\n",
        "\n"
      ],
      "metadata": {
        "colab": {
          "base_uri": "https://localhost:8080/"
        },
        "id": "Inij_voQhU9B",
        "outputId": "3a24520d-2322-4b6f-c602-740e795d5b80"
      },
      "execution_count": null,
      "outputs": [
        {
          "output_type": "stream",
          "name": "stdout",
          "text": [
            "enter10\n",
            "[0, 1, 1, 2, 3, 5, 8, 13, 21, 34]\n"
          ]
        }
      ]
    },
    {
      "cell_type": "code",
      "source": [
        "list1=[1,2,3,4,5,6,7,8]\n",
        "largest=second=float('-inf')\n",
        "for num in list1:\n",
        "  if num>largest:\n",
        "    second=largest\n",
        "    largest=num\n",
        "  elif num>second:\n",
        "    second=num\n",
        "print(second)\n",
        "\n",
        "\n"
      ],
      "metadata": {
        "colab": {
          "base_uri": "https://localhost:8080/"
        },
        "id": "yWYbZL_eiPl5",
        "outputId": "d1d072e7-351f-4dfd-c523-54168bf068ac"
      },
      "execution_count": null,
      "outputs": [
        {
          "output_type": "stream",
          "name": "stdout",
          "text": [
            "7\n"
          ]
        }
      ]
    },
    {
      "cell_type": "code",
      "source": [
        "list2=[1,2,3,4,5,3,2,1,]\n",
        "list1=[]\n",
        "for i in list2:\n",
        "  if i not in list1:\n",
        "    list1.append(i)\n",
        "list1.sort()\n",
        "print(list1)"
      ],
      "metadata": {
        "colab": {
          "base_uri": "https://localhost:8080/"
        },
        "id": "pUUf8r7AkbRB",
        "outputId": "1a14da15-9455-454a-f612-a9f0f93985fc"
      },
      "execution_count": null,
      "outputs": [
        {
          "output_type": "stream",
          "name": "stdout",
          "text": [
            "[1, 2, 3, 4, 5]\n"
          ]
        }
      ]
    },
    {
      "cell_type": "code",
      "source": [
        "nested_list = [1, [2, [3, 4], 5], 6]\n",
        "flat=[]\n",
        "while nested_list:\n",
        "  items=nested_list.pop(0)\n",
        "  if isinstance(items,list):\n",
        "    nested_list=items+nested_list\n",
        "  else:\n",
        "    flat.append(items)\n",
        "print(flat)"
      ],
      "metadata": {
        "colab": {
          "base_uri": "https://localhost:8080/"
        },
        "id": "g4P-7myRr-Yb",
        "outputId": "9e91dd08-2a8d-4810-9412-462e12938491"
      },
      "execution_count": null,
      "outputs": [
        {
          "output_type": "stream",
          "name": "stdout",
          "text": [
            "[1, 2, 3, 4, 5, 6]\n"
          ]
        }
      ]
    },
    {
      "cell_type": "code",
      "source": [
        "nums = [1, 2, 34, 5, 6]\n",
        "max=0\n",
        "min=nums[0]\n",
        "for i in nums:\n",
        "  if i>max:\n",
        "    max=i\n",
        "  elif i<min:\n",
        "    min=i\n",
        "print(max,min)"
      ],
      "metadata": {
        "colab": {
          "base_uri": "https://localhost:8080/"
        },
        "id": "7EX0qw8Fs417",
        "outputId": "e3fe4321-4c33-4f8a-ce8b-7b1bac8bf301"
      },
      "execution_count": null,
      "outputs": [
        {
          "output_type": "stream",
          "name": "stdout",
          "text": [
            "34 1\n"
          ]
        }
      ]
    },
    {
      "cell_type": "code",
      "source": [
        "from collections import Counter\n",
        "list1=[1,2,3,4,5,2,3,1]\n",
        "count=Counter(list1)\n",
        "new=[]\n",
        "for key,value in count.items():\n",
        "  if value>=2 and  key not in new:\n",
        "    new.append(key)\n",
        "print(new)\n",
        "\n",
        "\n",
        "\n"
      ],
      "metadata": {
        "colab": {
          "base_uri": "https://localhost:8080/"
        },
        "id": "XS5rXKcJvxaW",
        "outputId": "f388dec8-0215-4969-ea6d-3e359f5241df"
      },
      "execution_count": null,
      "outputs": [
        {
          "output_type": "stream",
          "name": "stdout",
          "text": [
            "[1, 2, 3]\n"
          ]
        }
      ]
    },
    {
      "cell_type": "code",
      "source": [
        "a='yooy0'\n",
        "i=0\n",
        "j=len(a)-1\n",
        "while i<j:\n",
        "  if a[i]!=a[j]:\n",
        "    print(\"not\")\n",
        "    break\n",
        "  i+=1\n",
        "  j-=1\n",
        "else:\n",
        "    print(\"yes\")\n",
        "\n"
      ],
      "metadata": {
        "colab": {
          "base_uri": "https://localhost:8080/"
        },
        "id": "LhyZ9LDOxh2t",
        "outputId": "6f87f9ce-eb49-4011-e5c5-acd2270dc888"
      },
      "execution_count": null,
      "outputs": [
        {
          "output_type": "stream",
          "name": "stdout",
          "text": [
            "not\n"
          ]
        }
      ]
    },
    {
      "cell_type": "code",
      "source": [
        "def merge_sorted_lists(list1, list2):\n",
        "    merged_list = []\n",
        "    i, j = 0, 0\n",
        "\n",
        "    while i < len(list1) and j < len(list2):\n",
        "        if list1[i] < list2[j]:\n",
        "            merged_list.append(list1[i])\n",
        "            i += 1\n",
        "        else:\n",
        "            merged_list.append(list2[j])\n",
        "            j += 1\n",
        "\n",
        "    # Append remaining elements\n",
        "    merged_list.extend(list1[i:])\n",
        "    merged_list.extend(list2[j:])\n",
        "\n",
        "    return merged_list\n",
        "\n",
        "# Test the function\n",
        "list1 = [1, 3, 5]\n",
        "list2 = [2, 4, 6]\n",
        "result = merge_sorted_lists(list1, list2)\n",
        "print(\"Merged List:\", result)\n"
      ],
      "metadata": {
        "colab": {
          "base_uri": "https://localhost:8080/"
        },
        "id": "IC9GkYIrzv3o",
        "outputId": "76c5ea58-06bb-498a-b2cf-112c0ba39100"
      },
      "execution_count": null,
      "outputs": [
        {
          "output_type": "stream",
          "name": "stdout",
          "text": [
            "Merged List: [1, 2, 3, 4, 5, 6]\n"
          ]
        }
      ]
    },
    {
      "cell_type": "code",
      "source": [
        "class ListNode:\n",
        "    def __init__(self, value=0, next=None):\n",
        "        self.value = value\n",
        "        self.next = next\n",
        "\n",
        "def reverse_linked_list(head):\n",
        "    prev = None\n",
        "    current = head\n",
        "    while current:\n",
        "        next_node = current.next  # Save next node\n",
        "        current.next = prev  # Reverse the link\n",
        "        prev = current  # Move prev and current one step forward\n",
        "        current = next_node\n",
        "    return prev\n",
        "\n",
        "# Example to test\n",
        "head = ListNode(1)\n",
        "head.next = ListNode(2)\n",
        "head.next.next = ListNode(3)\n",
        "\n",
        "reversed_head = reverse_linked_list(head)\n",
        "\n",
        "# To print reversed linked list\n",
        "current = reversed_head\n",
        "while current:\n",
        "    print(current.value, end=\" \")\n",
        "    current = current.next\n"
      ],
      "metadata": {
        "colab": {
          "base_uri": "https://localhost:8080/"
        },
        "id": "j1p1xDeQ1hnX",
        "outputId": "ec8e7b3f-ae95-4e84-99e2-89e2e325dabe"
      },
      "execution_count": null,
      "outputs": [
        {
          "output_type": "stream",
          "name": "stdout",
          "text": [
            "3 2 1 "
          ]
        }
      ]
    },
    {
      "cell_type": "code",
      "source": [
        "def find_duplicates(nums):\n",
        "    seen = set()\n",
        "    duplicates = set()\n",
        "    for num in nums:\n",
        "        if num in seen:\n",
        "            duplicates.add(num)\n",
        "        else:\n",
        "            seen.add(num)\n",
        "    return list(duplicates)\n",
        "\n",
        "nums = [1, 2, 3, 4, 5, 3, 2, 1]\n",
        "duplicates = find_duplicates(nums)\n",
        "print(\"Duplicates:\", duplicates)\n"
      ],
      "metadata": {
        "colab": {
          "base_uri": "https://localhost:8080/"
        },
        "id": "xSVTHRB-1iJ9",
        "outputId": "61c5a448-7d4a-4aa4-8b5e-356acfbf632d"
      },
      "execution_count": null,
      "outputs": [
        {
          "output_type": "stream",
          "name": "stdout",
          "text": [
            "Duplicates: [1, 2, 3]\n"
          ]
        }
      ]
    },
    {
      "cell_type": "code",
      "source": [
        "nested_list = [1, [2, [3, 4], 5], 6]\n",
        "\n",
        "flat_list = []\n",
        "\n",
        "# Iterate until there are no nested lists\n",
        "while nested_list:\n",
        "    item = nested_list.pop(0)  # Take the first item\n",
        "    if isinstance(item, list):\n",
        "        nested_list = item + nested_list  # If it's a list, expand it at the front\n",
        "    else:\n",
        "        flat_list.append(item)  # If it's a number, just add it to the result\n",
        "\n",
        "print(flat_list)\n"
      ],
      "metadata": {
        "colab": {
          "base_uri": "https://localhost:8080/"
        },
        "id": "q4Xd4e7F1mAq",
        "outputId": "e6dd8c41-a2bd-4088-f80c-ea4a03b93344"
      },
      "execution_count": null,
      "outputs": [
        {
          "output_type": "stream",
          "name": "stdout",
          "text": [
            "[1, 2, 3, 4, 5, 6]\n"
          ]
        }
      ]
    },
    {
      "cell_type": "code",
      "source": [
        "# Example list\n",
        "nums = [1, 5, 3, 9, 7]\n",
        "\n",
        "# Initialize the largest and second largest numbers\n",
        "largest = second_largest = float('-inf')\n",
        "\n",
        "# Iterate through the list\n",
        "for num in nums:\n",
        "    if num > largest:\n",
        "        second_largest = largest  # Update second largest before largest\n",
        "        largest = num\n",
        "    elif num > second_largest and num != largest:\n",
        "        second_largest = num\n",
        "\n",
        "# Check if there is a second largest\n",
        "print(second_largest if second_largest != float('-inf') else None)\n"
      ],
      "metadata": {
        "colab": {
          "base_uri": "https://localhost:8080/"
        },
        "id": "IRx50_1T1vCz",
        "outputId": "4a763d3c-8d39-415d-df92-d9166a0bfb20"
      },
      "execution_count": null,
      "outputs": [
        {
          "output_type": "stream",
          "name": "stdout",
          "text": [
            "7\n"
          ]
        }
      ]
    },
    {
      "cell_type": "code",
      "source": [],
      "metadata": {
        "id": "kvTagzJB1yve"
      },
      "execution_count": null,
      "outputs": []
    }
  ]
}