{
  "nbformat": 4,
  "nbformat_minor": 0,
  "metadata": {
    "colab": {
      "provenance": [],
      "authorship_tag": "ABX9TyMaf9GnWgrdvFLRJ/evmZN5",
      "include_colab_link": true
    },
    "kernelspec": {
      "name": "python3",
      "display_name": "Python 3"
    },
    "language_info": {
      "name": "python"
    }
  },
  "cells": [
    {
      "cell_type": "markdown",
      "metadata": {
        "id": "view-in-github",
        "colab_type": "text"
      },
      "source": [
        "<a href=\"https://colab.research.google.com/github/rajat459/python/blob/main/practise_questions.ipynb\" target=\"_parent\"><img src=\"https://colab.research.google.com/assets/colab-badge.svg\" alt=\"Open In Colab\"/></a>"
      ]
    },
    {
      "cell_type": "code",
      "execution_count": null,
      "metadata": {
        "id": "V_3eXPTpWi1R",
        "colab": {
          "base_uri": "https://localhost:8080/"
        },
        "outputId": "a87b6598-1853-47c1-84d2-dee3a50368d7"
      },
      "outputs": [
        {
          "output_type": "stream",
          "name": "stdout",
          "text": [
            "True\n",
            "False\n",
            "True\n"
          ]
        }
      ],
      "source": [
        "def check_occurrences(lst):\n",
        "    return lst.count(19) == 2 and lst.count(5) >= 3\n",
        "\n",
        "print(check_occurrences([19, 19, 15, 5, 3, 5, 5, 2]))\n",
        "print(check_occurrences([19, 15, 15, 5, 3, 3, 5, 2]))\n",
        "print(check_occurrences([19, 19, 5, 5, 5, 5, 5]))\n"
      ]
    },
    {
      "cell_type": "code",
      "source": [
        "def check_list(lst):\n",
        "    return len(lst) == 8 and lst.count(lst[4]) == 3\n",
        "\n",
        "print(check_list([19, 19, 15, 5, 5, 5, 1, 2]))\n",
        "print(check_list([19, 15, 5, 7, 5, 5, 2]))\n",
        "print(check_list([11, 12, 14, 13, 14, 13, 15, 14]))\n",
        "print(check_list([19, 15, 11, 7, 5, 6, 2]))\n"
      ],
      "metadata": {
        "colab": {
          "base_uri": "https://localhost:8080/"
        },
        "id": "sREKUGmvW8Gb",
        "outputId": "7a8f43d5-20bd-4d12-d924-1680698bab28"
      },
      "execution_count": null,
      "outputs": [
        {
          "output_type": "stream",
          "name": "stdout",
          "text": [
            "True\n",
            "False\n",
            "True\n",
            "False\n"
          ]
        }
      ]
    },
    {
      "cell_type": "code",
      "source": [
        "def check_integer(n):\n",
        "    return n > 4**4 and n % 34 == 4\n",
        "\n",
        "print(check_integer(922))\n",
        "print(check_integer(914))\n",
        "print(check_integer(854))\n"
      ],
      "metadata": {
        "colab": {
          "base_uri": "https://localhost:8080/"
        },
        "id": "BDdcoNw_W90i",
        "outputId": "cb5ae565-dd4f-4853-ced6-ba7b79127748"
      },
      "execution_count": null,
      "outputs": [
        {
          "output_type": "stream",
          "name": "stdout",
          "text": [
            "True\n",
            "False\n",
            "True\n"
          ]
        }
      ]
    },
    {
      "cell_type": "code",
      "source": [
        "def stone_piles(n):\n",
        "    return [n + 2 * i for i in range(n)]\n",
        "\n",
        "print(stone_piles(2))\n",
        "print(stone_piles(10))\n",
        "print(stone_piles(3))\n",
        "print(stone_piles(17))\n"
      ],
      "metadata": {
        "colab": {
          "base_uri": "https://localhost:8080/"
        },
        "id": "FoiXxafdXBJa",
        "outputId": "03da67e0-f1bf-4ba6-c72d-f8b888aceb6b"
      },
      "execution_count": null,
      "outputs": [
        {
          "output_type": "stream",
          "name": "stdout",
          "text": [
            "[2, 4]\n",
            "[10, 12, 14, 16, 18, 20, 22, 24, 26, 28]\n",
            "[3, 5, 7]\n",
            "[17, 19, 21, 23, 25, 27, 29, 31, 33, 35, 37, 39, 41, 43, 45, 47, 49]\n"
          ]
        }
      ]
    },
    {
      "cell_type": "code",
      "source": [
        "def is_proper_substring(lst):\n",
        "    return lst[-2] in lst[-1]\n",
        "\n",
        "print(is_proper_substring(['a', 'abb', 'sfs', 'oo', 'de', 'sfde']))\n",
        "print(is_proper_substring(['a', 'abb', 'sfs', 'oo', 'ee', 'sfde']))\n",
        "print(is_proper_substring(['a', 'abb', 'sad', 'ooaaesdfe', 'sfsdfde', 'sfsd', 'sfsdf', 'qwrew']))\n",
        "print(is_proper_substring(['a', 'abb', 'sad', 'ooaaesdfe', 'sfsdfde', 'sfsd', 'sfsdf', 'qwsfsdfrew']))\n"
      ],
      "metadata": {
        "colab": {
          "base_uri": "https://localhost:8080/"
        },
        "id": "NQJ5VCLFXHHA",
        "outputId": "59979953-a20f-4bdc-f95d-8894dd42e673"
      },
      "execution_count": null,
      "outputs": [
        {
          "output_type": "stream",
          "name": "stdout",
          "text": [
            "True\n",
            "False\n",
            "False\n",
            "True\n"
          ]
        }
      ]
    },
    {
      "cell_type": "code",
      "source": [
        "def test_difference(lst):\n",
        "    return all(lst[i + 1] - lst[i] == 10 for i in range(len(lst) - 1))\n",
        "\n",
        "print(test_difference([0, 10, 20, 30, 40, 50, 60, 70, 80, 90, 100]))\n",
        "print(test_difference([0, 20, 40, 60, 80, 100]))\n"
      ],
      "metadata": {
        "colab": {
          "base_uri": "https://localhost:8080/"
        },
        "id": "I4vdrz_tXJLI",
        "outputId": "13a16819-8f48-4ce6-efa0-8929c0fc0592"
      },
      "execution_count": null,
      "outputs": [
        {
          "output_type": "stream",
          "name": "stdout",
          "text": [
            "True\n",
            "False\n"
          ]
        }
      ]
    },
    {
      "cell_type": "code",
      "source": [
        "def check_sum(lst):\n",
        "    return all(sum(lst[:i]) == i for i in range(1, len(lst) + 1))\n",
        "\n",
        "print(check_sum([1, 1, 1, 1, 1]))\n",
        "print(check_sum([0, 1, 2, 3, 4, 5]))\n",
        "print(check_sum([2, 2, 2, 2, 2]))\n"
      ],
      "metadata": {
        "colab": {
          "base_uri": "https://localhost:8080/"
        },
        "id": "CShjeQzhXK0i",
        "outputId": "0257f9bd-078d-443b-b9c9-d0948022a8bd"
      },
      "execution_count": null,
      "outputs": [
        {
          "output_type": "stream",
          "name": "stdout",
          "text": [
            "True\n",
            "False\n",
            "False\n"
          ]
        }
      ]
    },
    {
      "cell_type": "code",
      "source": [
        "import re\n",
        "def split_string(s):\n",
        "    words = re.findall(r'\\w+', s)\n",
        "    separators = re.findall(r'[^\\w]+', s)\n",
        "    return [words, separators]\n",
        "\n",
        "print(split_string(\"W3resource Python, Exercises.\"))\n",
        "print(split_string(\"The dance, held in the school gym, ended at midnight.\"))\n"
      ],
      "metadata": {
        "colab": {
          "base_uri": "https://localhost:8080/"
        },
        "id": "OMvn0D_EXMYA",
        "outputId": "fa97f72b-2757-49ac-a941-81e6fd2f3f9e"
      },
      "execution_count": null,
      "outputs": [
        {
          "output_type": "stream",
          "name": "stdout",
          "text": [
            "[['W3resource', 'Python', 'Exercises'], [' ', ', ', '.']]\n",
            "[['The', 'dance', 'held', 'in', 'the', 'school', 'gym', 'ended', 'at', 'midnight'], [' ', ', ', ' ', ' ', ' ', ' ', ', ', ' ', ' ', '.']]\n"
          ]
        }
      ]
    },
    {
      "cell_type": "code",
      "source": [
        "def check_distinct(lst):\n",
        "    return len(set(lst[:20])) == 4 and all(lst[i] != lst[i + 1] for i in range(len(lst) - 1))\n",
        "\n",
        "print(check_distinct([1, 2, 3, 4, 1, 2, 3, 4, 1, 2, 3, 4, 1, 2, 3, 4]))\n",
        "print(check_distinct([1, 2, 3, 3, 1, 2, 3, 3, 1, 2, 3, 3]))\n",
        "print(check_distinct([1, 2, 3, 1, 2, 3, 1, 2, 3, 1]))\n"
      ],
      "metadata": {
        "colab": {
          "base_uri": "https://localhost:8080/"
        },
        "id": "BU6dBOfGXOA3",
        "outputId": "f1b93c95-f5bb-4f34-f636-737c337553a3"
      },
      "execution_count": null,
      "outputs": [
        {
          "output_type": "stream",
          "name": "stdout",
          "text": [
            "True\n",
            "False\n",
            "False\n"
          ]
        }
      ]
    },
    {
      "cell_type": "code",
      "source": [
        "def split_parentheses(s):\n",
        "    stack = []\n",
        "    result = []\n",
        "    current = \"\"\n",
        "    for char in s.replace(\" \", \"\"):\n",
        "        current += char\n",
        "        if char == '(':\n",
        "            stack.append(char)\n",
        "        elif char == ')':\n",
        "            stack.pop()\n",
        "        if not stack:\n",
        "            result.append(current)\n",
        "            current = \"\"\n",
        "    return result\n",
        "\n",
        "print(split_parentheses(\"( ()) ((()()())) (()) ()\"))\n",
        "print(split_parentheses(\"() (( ( )() ( )) ) ( (()))\"))\n"
      ],
      "metadata": {
        "colab": {
          "base_uri": "https://localhost:8080/"
        },
        "id": "-jC6disUXP3s",
        "outputId": "bc572dae-e253-492e-a39f-fadac933e360"
      },
      "execution_count": null,
      "outputs": [
        {
          "output_type": "stream",
          "name": "stdout",
          "text": [
            "['(())', '((()()()))', '(())', '()']\n",
            "['()', '((()()()))', '((()))']\n"
          ]
        }
      ]
    },
    {
      "cell_type": "code",
      "source": [
        "def indexes_below_threshold(lst, threshold):\n",
        "    return [i for i, value in enumerate(lst) if value < threshold]\n",
        "\n",
        "print(indexes_below_threshold([0, 12, 45, 3, 4923, 322, 105, 29, 15, 39, 55], 100))\n",
        "print(indexes_below_threshold([0, 12, 4, 3, 49, 9, 1, 5, 3], 10))\n"
      ],
      "metadata": {
        "colab": {
          "base_uri": "https://localhost:8080/"
        },
        "id": "HpgJMgSCXRmi",
        "outputId": "a3ff83ad-f1d5-41cb-99bd-e866b2ce79a3"
      },
      "execution_count": null,
      "outputs": [
        {
          "output_type": "stream",
          "name": "stdout",
          "text": [
            "[0, 1, 2, 3, 7, 8, 9, 10]\n",
            "[0, 2, 3, 5, 6, 7, 8]\n"
          ]
        }
      ]
    },
    {
      "cell_type": "code",
      "source": [
        "def check_palindromes(lst):\n",
        "    return [s == s[::-1] for s in lst]\n",
        "\n",
        "print(check_palindromes(['palindrome', 'madamimadam', '', 'foo', 'eyes']))\n"
      ],
      "metadata": {
        "colab": {
          "base_uri": "https://localhost:8080/"
        },
        "id": "m7IcuAMDXU3a",
        "outputId": "6189b2c1-d793-42e3-e66e-d9c3e16ac221"
      },
      "execution_count": null,
      "outputs": [
        {
          "output_type": "stream",
          "name": "stdout",
          "text": [
            "[False, True, True, False, False]\n"
          ]
        }
      ]
    },
    {
      "cell_type": "code",
      "source": [
        "def find_with_prefix(prefix, words):\n",
        "    return [word for word in words if word.startswith(prefix)]\n",
        "\n",
        "print(find_with_prefix(\"ca\", ['cat', 'car', 'fear', 'center']))\n",
        "print(find_with_prefix(\"do\", ['cat', 'dog', 'shatter', 'donut', 'at', 'todo']))\n"
      ],
      "metadata": {
        "colab": {
          "base_uri": "https://localhost:8080/"
        },
        "id": "a3ms21zfXWww",
        "outputId": "61221e7e-c90c-4d74-c3ba-c0c2cd72a2b0"
      },
      "execution_count": null,
      "outputs": [
        {
          "output_type": "stream",
          "name": "stdout",
          "text": [
            "['cat', 'car']\n",
            "['dog', 'donut']\n"
          ]
        }
      ]
    },
    {
      "cell_type": "code",
      "source": [
        "def string_lengths(lst):\n",
        "    return [len(s) for s in lst]\n",
        "\n",
        "print(string_lengths(['cat', 'car', 'fear', 'center']))\n",
        "print(string_lengths(['cat', 'dog', 'shatter', 'donut', 'at', 'todo', '']))\n"
      ],
      "metadata": {
        "colab": {
          "base_uri": "https://localhost:8080/"
        },
        "id": "eT5hyl86XYmT",
        "outputId": "6f122f42-6598-4f27-ec40-3fee383a5869"
      },
      "execution_count": null,
      "outputs": [
        {
          "output_type": "stream",
          "name": "stdout",
          "text": [
            "[3, 3, 4, 6]\n",
            "[3, 3, 7, 5, 2, 4, 0]\n"
          ]
        }
      ]
    },
    {
      "cell_type": "code",
      "source": [
        "def find_longest(lst):\n",
        "    return max(lst, key=len)\n",
        "\n",
        "print(find_longest(['cat', 'car', 'fear', 'center']))\n",
        "print(find_longest(['cat', 'dog', 'shatter', 'donut', 'at', 'todo', '']))\n"
      ],
      "metadata": {
        "colab": {
          "base_uri": "https://localhost:8080/"
        },
        "id": "XLxarKDhXaEk",
        "outputId": "c8bd5a33-abcd-4e70-d413-18c578658abc"
      },
      "execution_count": null,
      "outputs": [
        {
          "output_type": "stream",
          "name": "stdout",
          "text": [
            "center\n",
            "shatter\n"
          ]
        }
      ]
    },
    {
      "cell_type": "code",
      "source": [],
      "metadata": {
        "id": "5NKskU0rXbn-"
      },
      "execution_count": null,
      "outputs": []
    }
  ]
}