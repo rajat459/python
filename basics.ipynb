{
  "nbformat": 4,
  "nbformat_minor": 0,
  "metadata": {
    "colab": {
      "provenance": [],
      "authorship_tag": "ABX9TyO8RuwCku0GouPsDf+Q2oAC",
      "include_colab_link": true
    },
    "kernelspec": {
      "name": "python3",
      "display_name": "Python 3"
    },
    "language_info": {
      "name": "python"
    }
  },
  "cells": [
    {
      "cell_type": "markdown",
      "metadata": {
        "id": "view-in-github",
        "colab_type": "text"
      },
      "source": [
        "<a href=\"https://colab.research.google.com/github/rajat459/python/blob/main/basics.ipynb\" target=\"_parent\"><img src=\"https://colab.research.google.com/assets/colab-badge.svg\" alt=\"Open In Colab\"/></a>"
      ]
    },
    {
      "cell_type": "code",
      "execution_count": null,
      "metadata": {
        "colab": {
          "base_uri": "https://localhost:8080/"
        },
        "id": "cz9vxy-VOfOM",
        "outputId": "49de9647-f0da-4197-9c37-0588ab349307"
      },
      "outputs": [
        {
          "output_type": "stream",
          "name": "stdout",
          "text": [
            "3.10.12 (main, Sep 11 2024, 15:47:36) [GCC 11.4.0]\n",
            "sys.version_info(major=3, minor=10, micro=12, releaselevel='final', serial=0)\n"
          ]
        }
      ],
      "source": [
        "#Write a Python program to find out what version of Python you are using.\n",
        "import sys\n",
        "print(sys.version)\n",
        "print(sys.version_info)"
      ]
    },
    {
      "cell_type": "code",
      "source": [
        "#Write a Python program that accepts the user's first and last name and prints them in reverse order with a space between them.\n",
        "first=input(\"enter your first name\")\n",
        "second=input(\"enter your last name\")\n",
        "print(second+' '+first)\n",
        "\n"
      ],
      "metadata": {
        "colab": {
          "base_uri": "https://localhost:8080/"
        },
        "id": "wNBb6GaeOm2h",
        "outputId": "7174b2d4-02fb-402d-95ca-0529f58f4789"
      },
      "execution_count": null,
      "outputs": [
        {
          "output_type": "stream",
          "name": "stdout",
          "text": [
            "enter your first namerajat\n",
            "enter your last namenandi\n",
            "nandi rajat\n"
          ]
        }
      ]
    },
    {
      "cell_type": "code",
      "source": [
        " #Write a Python program that accepts a sequence of comma-separated numbers from the user and generates a list and a tuple of those numbers.\n",
        "numbers=input('enter the numbers using commas')\n",
        "num_list=numbers.split(',')\n",
        "num_tupple=tuple(num_list)\n",
        "print(num_list)\n",
        "print(num_tupple)\n",
        "\n",
        "\n",
        "\n",
        "\n",
        "\n"
      ],
      "metadata": {
        "colab": {
          "base_uri": "https://localhost:8080/"
        },
        "id": "aW1m4qavQqro",
        "outputId": "8479c7b8-92f6-4238-d583-26dc955541d4"
      },
      "execution_count": null,
      "outputs": [
        {
          "output_type": "stream",
          "name": "stdout",
          "text": [
            "enter the numbers using commas1,2,3,4\n",
            "['1', '2', '3', '4']\n",
            "('1', '2', '3', '4')\n"
          ]
        }
      ]
    },
    {
      "cell_type": "code",
      "source": [
        "#Write a Python program to display the first and last colors from the following list.\n",
        "color_list = [\"Red\",\"Green\",\"White\" ,\"Black\"]\n",
        "print(color_list[0])\n",
        "print(color_list[-1])"
      ],
      "metadata": {
        "colab": {
          "base_uri": "https://localhost:8080/"
        },
        "id": "TT3piFs9SiuB",
        "outputId": "c47bb4eb-f930-4c71-e54e-622e62666c5e"
      },
      "execution_count": null,
      "outputs": [
        {
          "output_type": "stream",
          "name": "stdout",
          "text": [
            "Red\n",
            "Black\n"
          ]
        }
      ]
    },
    {
      "cell_type": "code",
      "source": [
        "#Write a Python program to display the first and last colors from the following list.using loop\n",
        "color_list = [\"Red\",\"Green\",\"White\" ,\"Black\"]\n",
        "new_list=[]\n",
        "for i in range(len(color_list)):\n",
        "  if i==0 or i==len(color_list)-1:\n",
        "    new_list.append(color_list[i])\n",
        "for color in new_list:\n",
        "  print(color)"
      ],
      "metadata": {
        "colab": {
          "base_uri": "https://localhost:8080/"
        },
        "id": "PReU4oZwV5ML",
        "outputId": "34e63e1a-a773-4d6e-cbc0-394fdcc64180"
      },
      "execution_count": null,
      "outputs": [
        {
          "output_type": "stream",
          "name": "stdout",
          "text": [
            "Red\n",
            "Black\n"
          ]
        }
      ]
    },
    {
      "cell_type": "code",
      "source": [
        "#Write a Python program that accepts an integer (n) and computes the value of n+nn+nnn.\n",
        "n=int(input('enter a number'))\n",
        "sum=n+n*2+n*3\n",
        "print(sum)"
      ],
      "metadata": {
        "colab": {
          "base_uri": "https://localhost:8080/"
        },
        "id": "XGNW7BY8X5bJ",
        "outputId": "46f22b6f-be31-4e65-dc5c-83b847aa6aff"
      },
      "execution_count": null,
      "outputs": [
        {
          "output_type": "stream",
          "name": "stdout",
          "text": [
            "enter a number5\n",
            "30\n"
          ]
        }
      ]
    },
    {
      "cell_type": "code",
      "source": [
        "def fibonacci(n):\n",
        "\n",
        "    fib_series = []\n",
        "    a, b = 0, 1\n",
        "\n",
        "\n",
        "    for i in range(n):\n",
        "        fib_series.append(a)\n",
        "        a, b = b, a + b\n",
        "\n",
        "    return fib_series\n",
        "\n",
        "\n"
      ],
      "metadata": {
        "id": "cx9X0jxRhtMx"
      },
      "execution_count": null,
      "outputs": []
    },
    {
      "cell_type": "code",
      "source": [
        "fibonacci(5)"
      ],
      "metadata": {
        "colab": {
          "base_uri": "https://localhost:8080/"
        },
        "id": "qzeVjbG1oIh8",
        "outputId": "f1e5d965-94a0-4be2-efb1-c3d65ad23f86"
      },
      "execution_count": null,
      "outputs": [
        {
          "output_type": "execute_result",
          "data": {
            "text/plain": [
              "[0, 1, 1, 2, 3]"
            ]
          },
          "metadata": {},
          "execution_count": 18
        }
      ]
    },
    {
      "cell_type": "code",
      "source": [
        "def hcf(a,b):\n",
        "  if a>b:\n",
        "    small=b\n",
        "  else:\n",
        "    small=a\n",
        "  for i in range(1,small+1):\n",
        "    if (a%i==0) and (b%i==0):\n",
        "      hcf=i\n",
        "  return hcf"
      ],
      "metadata": {
        "id": "ftivWfL5oMXi"
      },
      "execution_count": null,
      "outputs": []
    },
    {
      "cell_type": "code",
      "source": [
        "hcf(10,12)"
      ],
      "metadata": {
        "colab": {
          "base_uri": "https://localhost:8080/"
        },
        "id": "_MmiUqP4qTGn",
        "outputId": "bcd8d9ff-90a9-47fe-d0f5-0537b3435a1d"
      },
      "execution_count": null,
      "outputs": [
        {
          "output_type": "execute_result",
          "data": {
            "text/plain": [
              "2"
            ]
          },
          "metadata": {},
          "execution_count": 20
        }
      ]
    },
    {
      "cell_type": "code",
      "source": [
        "def pel(n):\n",
        "  sum=0\n",
        "  rem=0\n",
        "  temp=n\n",
        "  while (n>0):\n",
        "    rem=n%10\n",
        "    sum=sum*10+rem\n",
        "    n=n//10\n",
        "  result = {\n",
        "        \"original\": temp,\"palindrome\": temp == sum\n",
        "    }\n",
        "  return result"
      ],
      "metadata": {
        "id": "fmoFtEQHqWCb"
      },
      "execution_count": null,
      "outputs": []
    },
    {
      "cell_type": "code",
      "source": [
        "pel(121)"
      ],
      "metadata": {
        "colab": {
          "base_uri": "https://localhost:8080/"
        },
        "id": "sgnBysR0r1fU",
        "outputId": "c27d2b38-cf1c-4481-b645-1c26a060ba42"
      },
      "execution_count": null,
      "outputs": [
        {
          "output_type": "execute_result",
          "data": {
            "text/plain": [
              "{'original': 121, 'palindrome': True}"
            ]
          },
          "metadata": {},
          "execution_count": 39
        }
      ]
    },
    {
      "cell_type": "code",
      "source": [
        "words = input('enter the string').split()\n",
        "vowels = 'aeiouy'\n",
        "total = 0\n",
        "for word in words:\n",
        "    count = 0\n",
        "    for char in word:\n",
        "        if char in vowels:\n",
        "            count += 1\n",
        "    if count % 2 == 0:\n",
        "        total+= 2\n",
        "    else:\n",
        "        total+= 1\n",
        "\n",
        "print(total)\n"
      ],
      "metadata": {
        "id": "YkLjZq2pr25b",
        "colab": {
          "base_uri": "https://localhost:8080/"
        },
        "outputId": "ec684683-a4ba-4c7e-f7b0-c51a7660b0f2"
      },
      "execution_count": 46,
      "outputs": [
        {
          "output_type": "stream",
          "name": "stdout",
          "text": [
            "enter the stringhacker book\n",
            "4\n"
          ]
        }
      ]
    },
    {
      "cell_type": "code",
      "source": [
        "n=int(input())\n",
        "words = input('enter the string with space').split()\n",
        "vowels = 'aeiouy'\n",
        "total = 0\n",
        "for word in words:\n",
        "    count = 0\n",
        "    for char in word:\n",
        "        if char in vowels:\n",
        "            count += 1\n",
        "    if count % 2 == 0:\n",
        "        total+= 2\n",
        "    else:\n",
        "        total+= 1\n",
        "\n",
        "print(total)"
      ],
      "metadata": {
        "id": "P4ffRc4gFOZQ"
      },
      "execution_count": 45,
      "outputs": []
    }
  ]
}