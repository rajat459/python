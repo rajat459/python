{
  "nbformat": 4,
  "nbformat_minor": 0,
  "metadata": {
    "colab": {
      "provenance": [],
      "authorship_tag": "ABX9TyND4685jB0wcnYm1Lqp1j0x",
      "include_colab_link": true
    },
    "kernelspec": {
      "name": "python3",
      "display_name": "Python 3"
    },
    "language_info": {
      "name": "python"
    }
  },
  "cells": [
    {
      "cell_type": "markdown",
      "metadata": {
        "id": "view-in-github",
        "colab_type": "text"
      },
      "source": [
        "<a href=\"https://colab.research.google.com/github/rajat459/python/blob/main/parking_project.ipynb\" target=\"_parent\"><img src=\"https://colab.research.google.com/assets/colab-badge.svg\" alt=\"Open In Colab\"/></a>"
      ]
    },
    {
      "cell_type": "code",
      "execution_count": 1,
      "metadata": {
        "colab": {
          "base_uri": "https://localhost:8080/"
        },
        "id": "zUtyYwbYgmCa",
        "outputId": "c933f946-46e5-41eb-d9f3-6076b490ec05"
      },
      "outputs": [
        {
          "output_type": "stream",
          "name": "stdout",
          "text": [
            "Vehicle C123 parked in slot 2.\n",
            "Vehicle B456 parked in slot 1.\n",
            "Vehicle T789 parked in slot 3.\n",
            "Waiting for vehicles to park...\n",
            "Vehicle C123 exited. Parking fee: $2.00\n",
            "Vehicle B456 exited. Parking fee: $2.00\n",
            "Vehicle T789 exited. Parking fee: $2.00\n"
          ]
        }
      ],
      "source": [
        "from datetime import datetime, timedelta\n",
        "\n",
        "class Vehicle:\n",
        "    def __init__(self, vehicle_id, vehicle_type):\n",
        "        self.vehicle_id = vehicle_id\n",
        "        self.vehicle_type = vehicle_type  # e.g., 'car', 'bike'\n",
        "        self.entry_time = None\n",
        "\n",
        "    def park(self):\n",
        "        self.entry_time = datetime.now()\n",
        "\n",
        "    def exit(self):\n",
        "        return datetime.now() - self.entry_time\n",
        "\n",
        "\n",
        "class ParkingSlot:\n",
        "    def __init__(self, slot_id, size):\n",
        "        self.slot_id = slot_id\n",
        "        self.size = size  # e.g., 'small', 'medium', 'large'\n",
        "        self.is_available = True\n",
        "\n",
        "    def assign_vehicle(self):\n",
        "        self.is_available = False\n",
        "\n",
        "    def free_slot(self):\n",
        "        self.is_available = True\n",
        "\n",
        "\n",
        "class ParkingLot:\n",
        "    def __init__(self, slots):\n",
        "        self.slots = slots  # List of ParkingSlot objects\n",
        "        self.parked_vehicles = {}  # Map vehicle_id -> ParkingSlot\n",
        "\n",
        "    def find_available_slot(self, vehicle_type):\n",
        "        size = self.get_size_for_vehicle(vehicle_type)\n",
        "        for slot in self.slots:\n",
        "            if slot.is_available and slot.size == size:\n",
        "                return slot\n",
        "        return None\n",
        "\n",
        "    def park_vehicle(self, vehicle):\n",
        "        slot = self.find_available_slot(vehicle.vehicle_type)\n",
        "        if slot:\n",
        "            slot.assign_vehicle()\n",
        "            vehicle.park()\n",
        "            self.parked_vehicles[vehicle.vehicle_id] = slot\n",
        "            print(f\"Vehicle {vehicle.vehicle_id} parked in slot {slot.slot_id}.\")\n",
        "        else:\n",
        "            print(\"No available slot for this vehicle.\")\n",
        "\n",
        "    def exit_vehicle(self, vehicle):\n",
        "        if vehicle.vehicle_id in self.parked_vehicles:\n",
        "            slot = self.parked_vehicles[vehicle.vehicle_id]\n",
        "            duration = vehicle.exit()\n",
        "            slot.free_slot()\n",
        "            del self.parked_vehicles[vehicle.vehicle_id]\n",
        "            fee = Payment.calculate_fee(duration)\n",
        "            print(f\"Vehicle {vehicle.vehicle_id} exited. Parking fee: ${fee:.2f}\")\n",
        "        else:\n",
        "            print(\"Vehicle not found in the parking lot.\")\n",
        "\n",
        "    @staticmethod\n",
        "    def get_size_for_vehicle(vehicle_type):\n",
        "        # Map vehicle type to slot size\n",
        "        size_map = {\n",
        "            'bike': 'small',\n",
        "            'car': 'medium',\n",
        "            'truck': 'large'\n",
        "        }\n",
        "        return size_map.get(vehicle_type, 'medium')\n",
        "\n",
        "\n",
        "class Payment:\n",
        "    @staticmethod\n",
        "    def calculate_fee(duration):\n",
        "        # Example fee: $2 per hour, rounded up\n",
        "        hours = duration.total_seconds() // 3600 + (1 if duration.total_seconds() % 3600 > 0 else 0)\n",
        "        return hours * 2\n",
        "\n",
        "\n",
        "# Example Usage\n",
        "if __name__ == \"__main__\":\n",
        "    # Create parking slots\n",
        "    slots = [\n",
        "        ParkingSlot(slot_id=1, size='small'),\n",
        "        ParkingSlot(slot_id=2, size='medium'),\n",
        "        ParkingSlot(slot_id=3, size='large'),\n",
        "        ParkingSlot(slot_id=4, size='medium'),\n",
        "    ]\n",
        "\n",
        "    parking_lot = ParkingLot(slots)\n",
        "\n",
        "    # Create vehicles\n",
        "    car = Vehicle(vehicle_id=\"C123\", vehicle_type=\"car\")\n",
        "    bike = Vehicle(vehicle_id=\"B456\", vehicle_type=\"bike\")\n",
        "    truck = Vehicle(vehicle_id=\"T789\", vehicle_type=\"truck\")\n",
        "\n",
        "    # Park vehicles\n",
        "    parking_lot.park_vehicle(car)\n",
        "    parking_lot.park_vehicle(bike)\n",
        "    parking_lot.park_vehicle(truck)\n",
        "\n",
        "    # Simulate exit after some time\n",
        "    print(\"Waiting for vehicles to park...\")\n",
        "    import time\n",
        "    time.sleep(2)  # Simulate time passing\n",
        "\n",
        "    parking_lot.exit_vehicle(car)\n",
        "    parking_lot.exit_vehicle(bike)\n",
        "    parking_lot.exit_vehicle(truck)\n"
      ]
    }
  ]
}