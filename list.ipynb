{
  "nbformat": 4,
  "nbformat_minor": 0,
  "metadata": {
    "colab": {
      "provenance": [],
      "authorship_tag": "ABX9TyPhQ64zukrGQEKRO7BNrAC7",
      "include_colab_link": true
    },
    "kernelspec": {
      "name": "python3",
      "display_name": "Python 3"
    },
    "language_info": {
      "name": "python"
    }
  },
  "cells": [
    {
      "cell_type": "markdown",
      "metadata": {
        "id": "view-in-github",
        "colab_type": "text"
      },
      "source": [
        "<a href=\"https://colab.research.google.com/github/rajat459/python/blob/main/list.ipynb\" target=\"_parent\"><img src=\"https://colab.research.google.com/assets/colab-badge.svg\" alt=\"Open In Colab\"/></a>"
      ]
    },
    {
      "cell_type": "code",
      "execution_count": null,
      "metadata": {
        "colab": {
          "base_uri": "https://localhost:8080/"
        },
        "id": "g2ehLfzxAIne",
        "outputId": "21fce65c-e6ee-4ada-978d-ac474f985f58"
      },
      "outputs": [
        {
          "output_type": "stream",
          "name": "stdout",
          "text": [
            "15\n"
          ]
        }
      ],
      "source": [
        "# Write a Python program to multiply all the items in a list.\n",
        "list1=[1,2,3,4,5]\n",
        "sum=0\n",
        "for i in list1:\n",
        "  sum+=i\n",
        "print(sum)\n"
      ]
    },
    {
      "cell_type": "code",
      "source": [
        "# Write a Python program to multiply all the items in a list.\n",
        "list1=[1,2,3,4,5]\n",
        "sum=1\n",
        "for i in list1:\n",
        "  sum*=i\n",
        "print(sum)\n"
      ],
      "metadata": {
        "colab": {
          "base_uri": "https://localhost:8080/"
        },
        "id": "TM2rq7QYBPXR",
        "outputId": "ee75653f-45af-4450-e4b8-61ce6a4c0f8e"
      },
      "execution_count": null,
      "outputs": [
        {
          "output_type": "stream",
          "name": "stdout",
          "text": [
            "120\n"
          ]
        }
      ]
    },
    {
      "cell_type": "code",
      "source": [],
      "metadata": {
        "id": "ErLwuKmaCLEr"
      },
      "execution_count": null,
      "outputs": []
    },
    {
      "cell_type": "code",
      "source": [],
      "metadata": {
        "id": "eHW73OuMCLh1"
      },
      "execution_count": null,
      "outputs": []
    },
    {
      "cell_type": "code",
      "source": [
        "#Write a Python program to get the largest number from a list.\n",
        "list1=[12,34,56,78,964,922]\n",
        "max=list1[0]\n",
        "for i in list1:\n",
        "  if i>max:\n",
        "    max=i\n",
        "print(max)"
      ],
      "metadata": {
        "colab": {
          "base_uri": "https://localhost:8080/"
        },
        "id": "oPb631-6Bha2",
        "outputId": "cf291a6b-1e83-4425-e425-16ea7f5827ef"
      },
      "execution_count": null,
      "outputs": [
        {
          "output_type": "stream",
          "name": "stdout",
          "text": [
            "964\n"
          ]
        }
      ]
    },
    {
      "cell_type": "code",
      "source": [
        "#write a python program to find the minimun value from the list\n",
        "list1=[12,34,56,78,964,922]\n",
        "min=list1[0]\n",
        "for i in list1:\n",
        "  if i<min:\n",
        "    min=i\n",
        "print(min)"
      ],
      "metadata": {
        "colab": {
          "base_uri": "https://localhost:8080/"
        },
        "id": "ynSjFcKGCIrU",
        "outputId": "f5db13a7-8b67-4866-e5be-4ea0d12df47a"
      },
      "execution_count": null,
      "outputs": [
        {
          "output_type": "stream",
          "name": "stdout",
          "text": [
            "12\n"
          ]
        }
      ]
    },
    {
      "cell_type": "code",
      "source": [
        "#Write a Python program to count the number of strings from a given list of strings. The string length is 2 or more and the first and last characters are the same.\n",
        "list1=['abc', 'xyz', 'aba', '1221',121]\n",
        "count=0\n",
        "for i in list1:\n",
        "  if isinstance(i,str) and len(i)>=2 and i[0]==i[-1]:\n",
        "    count+=1\n",
        " print(count)"
      ],
      "metadata": {
        "colab": {
          "base_uri": "https://localhost:8080/"
        },
        "id": "aN1r6UXECir0",
        "outputId": "370495f1-e761-44f5-c7db-d3e7f6b08726"
      },
      "execution_count": null,
      "outputs": [
        {
          "output_type": "stream",
          "name": "stdout",
          "text": [
            "2\n"
          ]
        }
      ]
    },
    {
      "cell_type": "code",
      "source": [
        "#Write a Python program to get a list, sorted in increasing order by the last element in each tuple from a given list of non-empty tuples.\n",
        "list1=[(2, 5), (1, 2), (4, 4), (2, 3), (2, 1)]\n",
        "list2=sorted(list1,key=lambda x:x[-1])\n",
        "print(list2)\n"
      ],
      "metadata": {
        "colab": {
          "base_uri": "https://localhost:8080/"
        },
        "id": "w_0dLzBjGeCn",
        "outputId": "799fafb0-60ff-407e-c2bd-2ae8709c4781"
      },
      "execution_count": null,
      "outputs": [
        {
          "output_type": "stream",
          "name": "stdout",
          "text": [
            "[(2, 1), (1, 2), (2, 3), (4, 4), (2, 5)]\n"
          ]
        }
      ]
    },
    {
      "cell_type": "code",
      "source": [
        "#Write a Python program to remove duplicates from a list.\n",
        "list1=[12,2,2,3,4,45,4,6,77,7,8,8]\n",
        "list2=[]\n",
        "for i in list1:\n",
        "  if i not in list2:\n",
        "    list2.append(i)\n",
        "print(list2)"
      ],
      "metadata": {
        "colab": {
          "base_uri": "https://localhost:8080/"
        },
        "id": "zwYbRpouLKfg",
        "outputId": "e29db50a-eb4b-46c3-e404-b6804892e781"
      },
      "execution_count": null,
      "outputs": [
        {
          "output_type": "stream",
          "name": "stdout",
          "text": [
            "[12, 2, 3, 4, 45, 6, 77, 7, 8]\n"
          ]
        }
      ]
    },
    {
      "cell_type": "code",
      "source": [
        "# Write a Python program to check if a list is empty or not.\n",
        "list1=[]\n",
        "if list1:\n",
        "  print('list1 i not empty')\n",
        "else:\n",
        "  print('empty')"
      ],
      "metadata": {
        "colab": {
          "base_uri": "https://localhost:8080/"
        },
        "id": "Dwtd2AVTLjv0",
        "outputId": "888462e4-710c-4779-f44b-857e40d5f2e1"
      },
      "execution_count": null,
      "outputs": [
        {
          "output_type": "stream",
          "name": "stdout",
          "text": [
            "list1 i not empty\n"
          ]
        }
      ]
    },
    {
      "cell_type": "code",
      "source": [
        "#Write a Python program to clone or copy a list.\n",
        "list1=[12,2,2,3,4,45,4,6,77,7,8,8]\n",
        "list2=[]\n",
        "list2=list1.copy()\n",
        "print(list1)\n",
        "print(list2)"
      ],
      "metadata": {
        "colab": {
          "base_uri": "https://localhost:8080/"
        },
        "id": "pcCWRt68MGmO",
        "outputId": "79835e48-f5d7-4b3f-f8fa-e983a75662e1"
      },
      "execution_count": null,
      "outputs": [
        {
          "output_type": "stream",
          "name": "stdout",
          "text": [
            "[12, 2, 2, 3, 4, 45, 4, 6, 77, 7, 8, 8]\n",
            "[12, 2, 2, 3, 4, 45, 4, 6, 77, 7, 8, 8]\n"
          ]
        }
      ]
    },
    {
      "cell_type": "code",
      "source": [
        "# Write a Python program to find the list of words that are longer than n from a given list of words.\n",
        "list1=['rahar','nandi','kneuhf','gcuuibbf']\n",
        "n=int(input('enter the number'))\n",
        "found=False\n",
        "for i in list1:\n",
        "  if len(i)>n:\n",
        "    print(i)\n",
        "    found=True\n",
        "if not found:\n",
        "  print('none')\n",
        "\n",
        "\n"
      ],
      "metadata": {
        "colab": {
          "base_uri": "https://localhost:8080/"
        },
        "id": "YJZeI8DKMoDG",
        "outputId": "79460cff-32bf-420f-b6f6-79fe1c03fb7f"
      },
      "execution_count": null,
      "outputs": [
        {
          "output_type": "stream",
          "name": "stdout",
          "text": [
            "enter the number8\n",
            "none\n"
          ]
        }
      ]
    },
    {
      "cell_type": "code",
      "source": [
        "mydict = {'z': 3, 'a': 1, 'c': 2, 'b': 4}\n",
        "newdict={}\n",
        "value=0\n",
        "for key in mydict:\n",
        "  if mydict[key]< value:\n",
        "    value=key\n",
        "    newdict.update(value)\n",
        "print(newdict)"
      ],
      "metadata": {
        "id": "M6AcNyoYgQrC"
      },
      "execution_count": null,
      "outputs": []
    },
    {
      "cell_type": "code",
      "source": [
        "colors = ['red', 'green', 'blue', 'yellow']\n",
        "last_color = colors.pop()  # Removes and returns the last element\n",
        "print(last_color)\n",
        "print(colors)  # Prints the updated list"
      ],
      "metadata": {
        "id": "gmWv-V2-gb-N"
      },
      "execution_count": null,
      "outputs": []
    },
    {
      "cell_type": "code",
      "source": [
        "list2=[1,2,2,3,4,5,5,6,7,8]\n",
        "new=[]\n",
        "for i in list2:\n",
        "  if i not in new:\n",
        "    new.append(i)\n",
        "print(new)"
      ],
      "metadata": {
        "id": "Ciu39_4hgb62"
      },
      "execution_count": null,
      "outputs": []
    },
    {
      "cell_type": "code",
      "source": [
        "\n",
        "\n",
        "def hollow_diamond(rows):\n",
        "\n",
        "  for i in range(rows):\n",
        "    for j in range(rows - i - 1):\n",
        "      print(\" \", end=\"\")\n",
        "    for j in range(2 * i + 1):\n",
        "      if j == 0 or j == 2 * i:\n",
        "        print(\"*\", end=\"\")\n",
        "      else:\n",
        "        print(\" \", end=\"\")\n",
        "    print()\n",
        "\n",
        "  for i in range(rows - 2, -1, -1):\n",
        "    for j in range(rows - i - 1):\n",
        "      print(\" \", end=\"\")\n",
        "    for j in range(2 * i + 1):\n",
        "      if j == 0 or j == 2 * i:\n",
        "        print(\"*\", end=\"\")\n",
        "      else:\n",
        "        print(\" \", end=\"\")\n",
        "    print()\n",
        "\n",
        "\n",
        "hollow_diamond(5)"
      ],
      "metadata": {
        "id": "h8mYHeCkgb4m"
      },
      "execution_count": null,
      "outputs": []
    },
    {
      "cell_type": "code",
      "source": [
        "def sum_of_numbers():\n",
        "    numbers = list(map(int, input(\"Enter numbers separated by spaces: \").split()))\n",
        "    total = 0\n",
        "    for num in numbers:\n",
        "      if num%2==0:\n",
        "        total += num\n",
        "    return total\n",
        "\n",
        "\n",
        "sum_of_numbers()\n"
      ],
      "metadata": {
        "id": "_ynRdj3ngt2z"
      },
      "execution_count": null,
      "outputs": []
    },
    {
      "cell_type": "code",
      "source": [
        "def vowel(string):\n",
        "  b='aeiou'\n",
        "  count=0\n",
        "  for char in string:\n",
        "    if char in b:\n",
        "     count+=1\n",
        "  return count"
      ],
      "metadata": {
        "id": "VU2QZLGXgt01"
      },
      "execution_count": null,
      "outputs": []
    }
  ]
}