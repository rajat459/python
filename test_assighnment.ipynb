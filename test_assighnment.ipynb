{
  "nbformat": 4,
  "nbformat_minor": 0,
  "metadata": {
    "colab": {
      "provenance": [],
      "authorship_tag": "ABX9TyOfmtKvoOy6wJstvSq89Ndy",
      "include_colab_link": true
    },
    "kernelspec": {
      "name": "python3",
      "display_name": "Python 3"
    },
    "language_info": {
      "name": "python"
    }
  },
  "cells": [
    {
      "cell_type": "markdown",
      "metadata": {
        "id": "view-in-github",
        "colab_type": "text"
      },
      "source": [
        "<a href=\"https://colab.research.google.com/github/rajat459/python/blob/main/test_assighnment.ipynb\" target=\"_parent\"><img src=\"https://colab.research.google.com/assets/colab-badge.svg\" alt=\"Open In Colab\"/></a>"
      ]
    },
    {
      "cell_type": "code",
      "execution_count": 3,
      "metadata": {
        "colab": {
          "base_uri": "https://localhost:8080/"
        },
        "id": "tM7nHTMuHl2y",
        "outputId": "661ec081-5cd6-4a3b-a5a5-1c01ae2d9596"
      },
      "outputs": [
        {
          "output_type": "stream",
          "name": "stdout",
          "text": [
            "15\n"
          ]
        }
      ],
      "source": [
        "def sum(numbers):\n",
        "  total=0\n",
        "  for num in numbers:\n",
        "    total+=num\n",
        "  return total\n",
        "numbers=[1,2,3,4,5]\n",
        "print(sum(numbers))\n"
      ]
    },
    {
      "cell_type": "code",
      "source": [
        "def remove(list1):\n",
        "  new=[]\n",
        "  for i in list1:\n",
        "    if i not in new:\n",
        "      new.append(i)\n",
        "  return new\n",
        "list1=[1,2,3,4,4,5,6]\n",
        "print(remove(list1))"
      ],
      "metadata": {
        "colab": {
          "base_uri": "https://localhost:8080/"
        },
        "id": "1ZndV5vQH2Lq",
        "outputId": "d9472f15-f7b1-47e8-9647-2d43375044e3"
      },
      "execution_count": 6,
      "outputs": [
        {
          "output_type": "stream",
          "name": "stdout",
          "text": [
            "[1, 2, 3, 4, 5, 6]\n"
          ]
        }
      ]
    },
    {
      "cell_type": "code",
      "source": [
        "square=lambda x:x**2\n",
        "print(square(5))"
      ],
      "metadata": {
        "colab": {
          "base_uri": "https://localhost:8080/"
        },
        "id": "y2mo7-S-H2IR",
        "outputId": "a6e12303-1006-43f1-e516-495c98f0d5ed"
      },
      "execution_count": 7,
      "outputs": [
        {
          "output_type": "stream",
          "name": "stdout",
          "text": [
            "25\n"
          ]
        }
      ]
    },
    {
      "cell_type": "code",
      "source": [
        "def name1(text):\n",
        "  return text.upper()\n",
        "def name2(text):\n",
        "  return text.lower()\n",
        "def new(func):\n",
        "  greet=func(\"hello my name is rajat\")\n",
        "  print(greet)\n",
        "new(name1)\n",
        "new(name2)"
      ],
      "metadata": {
        "colab": {
          "base_uri": "https://localhost:8080/"
        },
        "id": "b10bF_kQH2Fk",
        "outputId": "e1858b39-62ec-4cad-a556-5ccf45746da4"
      },
      "execution_count": 8,
      "outputs": [
        {
          "output_type": "stream",
          "name": "stdout",
          "text": [
            "HELLO MY NAME IS RAJAT\n",
            "hello my name is rajat\n"
          ]
        }
      ]
    },
    {
      "cell_type": "code",
      "source": [
        "def rotate(list1):\n",
        "  n=int(input(\"enter number\"))\n",
        "  for i in range(n):\n",
        "    list1.insert(0,list1.pop())\n",
        "  return list1\n",
        "list1=[1,2,3,4,5]\n",
        "print(rotate(list1))"
      ],
      "metadata": {
        "colab": {
          "base_uri": "https://localhost:8080/"
        },
        "id": "IjHib1m8H2DK",
        "outputId": "95f8565f-e2d2-49f6-8374-edf9c03c9e41"
      },
      "execution_count": 10,
      "outputs": [
        {
          "output_type": "stream",
          "name": "stdout",
          "text": [
            "enter number3\n",
            "[3, 4, 5, 1, 2]\n"
          ]
        }
      ]
    },
    {
      "cell_type": "code",
      "source": [
        "def list1(d):\n",
        "  total=[]\n",
        "  for key in d:\n",
        "    total.append([key,d[key]])\n",
        "  return total\n",
        "d={'a':1,'b':2,'c':3}\n",
        "print(list1(d))"
      ],
      "metadata": {
        "colab": {
          "base_uri": "https://localhost:8080/"
        },
        "id": "AMQESXszH2A1",
        "outputId": "fb630e6c-e077-4711-db8a-7ca7755cf5af"
      },
      "execution_count": 11,
      "outputs": [
        {
          "output_type": "stream",
          "name": "stdout",
          "text": [
            "[['a', 1], ['b', 2], ['c', 3]]\n"
          ]
        }
      ]
    },
    {
      "cell_type": "code",
      "source": [
        "def sublist(lst1,lst2):\n",
        "    for i in range(len(lst1)):\n",
        "        if lst1[i] not in lst2:\n",
        "            return False\n",
        "        for j in range(len(lst2)):\n",
        "            if (lst1[j] in lst2) and (lst2.index(lst1[i+1]) > lst2.index(lst1[i])):\n",
        "                return True\n",
        "list1=[1,2,3,4,5]\n",
        "list2=[3,4]\n",
        "print(sublist(list1,list2))"
      ],
      "metadata": {
        "colab": {
          "base_uri": "https://localhost:8080/"
        },
        "id": "zfFBQPMRH1-L",
        "outputId": "1d118d55-2fe7-4dee-d087-3157e7070b7c"
      },
      "execution_count": 13,
      "outputs": [
        {
          "output_type": "stream",
          "name": "stdout",
          "text": [
            "False\n"
          ]
        }
      ]
    },
    {
      "cell_type": "code",
      "source": [
        "def new(tuple1, tuple2):\n",
        "    pair = []\n",
        "    for i in tuple1:\n",
        "        for j in tuple2:\n",
        "            pair.append((i, j))\n",
        "    return pair\n",
        "\n",
        "tuple1 = (1, 2)\n",
        "tuple2 = (3, 4)\n",
        "print(new(tuple1, tuple2))\n",
        "\n"
      ],
      "metadata": {
        "colab": {
          "base_uri": "https://localhost:8080/"
        },
        "id": "Nluyh8EyH17U",
        "outputId": "576b42ae-ae02-43d2-a9d2-5ec344e30e97"
      },
      "execution_count": 15,
      "outputs": [
        {
          "output_type": "stream",
          "name": "stdout",
          "text": [
            "[(1, 3), (1, 4), (2, 3), (2, 4)]\n"
          ]
        }
      ]
    },
    {
      "cell_type": "code",
      "source": [
        "\n",
        "n = 5\n",
        "for i in range(n):\n",
        "    print(' '*(n-i), end='')\n",
        "    coef = 1\n",
        "    for j in range(0, i + 1):\n",
        "        print(coef, end=' ')\n",
        "        coef = coef * (i - j) // (j + 1)\n",
        "    print()"
      ],
      "metadata": {
        "colab": {
          "base_uri": "https://localhost:8080/"
        },
        "id": "bCLnqlZhH141",
        "outputId": "9bdfbb78-bb56-4f71-8ef1-4417bda79d38"
      },
      "execution_count": 18,
      "outputs": [
        {
          "output_type": "stream",
          "name": "stdout",
          "text": [
            "     1 \n",
            "    1 1 \n",
            "   1 2 1 \n",
            "  1 3 3 1 \n",
            " 1 4 6 4 1 \n"
          ]
        }
      ]
    },
    {
      "cell_type": "code",
      "source": [],
      "metadata": {
        "id": "n4F3bAHdH12t"
      },
      "execution_count": null,
      "outputs": []
    },
    {
      "cell_type": "code",
      "source": [],
      "metadata": {
        "id": "18saRDPiH10i"
      },
      "execution_count": null,
      "outputs": []
    },
    {
      "cell_type": "code",
      "source": [],
      "metadata": {
        "id": "6mOLH1-QH1xm"
      },
      "execution_count": null,
      "outputs": []
    },
    {
      "cell_type": "code",
      "source": [],
      "metadata": {
        "id": "0L5NIFi1H1vX"
      },
      "execution_count": null,
      "outputs": []
    },
    {
      "cell_type": "code",
      "source": [],
      "metadata": {
        "id": "n16vxCZWH1tB"
      },
      "execution_count": null,
      "outputs": []
    },
    {
      "cell_type": "code",
      "source": [],
      "metadata": {
        "id": "C11TNRRcH1qd"
      },
      "execution_count": null,
      "outputs": []
    },
    {
      "cell_type": "code",
      "source": [],
      "metadata": {
        "id": "3jSzudoNH1n7"
      },
      "execution_count": null,
      "outputs": []
    },
    {
      "cell_type": "code",
      "source": [],
      "metadata": {
        "id": "_Bo6fmtvH1lQ"
      },
      "execution_count": null,
      "outputs": []
    },
    {
      "cell_type": "code",
      "source": [],
      "metadata": {
        "id": "9M3DSijAH1it"
      },
      "execution_count": null,
      "outputs": []
    }
  ]
}