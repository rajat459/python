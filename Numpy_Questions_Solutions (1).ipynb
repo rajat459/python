{
 "cells": [
  {
   "cell_type": "markdown",
   "id": "57fc89a5",
   "metadata": {},
   "source": [
    "# Solutions for Numpy Questions"
   ]
  },
  {
   "cell_type": "markdown",
   "id": "8f652303",
   "metadata": {},
   "source": [
    "### Q1: Why do we use NumPy whenever we have lists?"
   ]
  },
  {
   "cell_type": "markdown",
   "id": "23be75f9",
   "metadata": {},
   "source": [
    "NumPy is used because it provides highly optimized array operations, offers multidimensional arrays, and is much faster and memory-efficient than lists for numerical computations."
   ]
  },
  {
   "cell_type": "markdown",
   "id": "8cfd3053",
   "metadata": {},
   "source": [
    "### Q2: How do you create a user-defined array?"
   ]
  },
  {
   "cell_type": "code",
   "execution_count": null,
   "id": "89fa3d0b",
   "metadata": {},
   "outputs": [],
   "source": [
    "import numpy as np\n",
    "arr = np.array([int(x) for x in input('Enter elements: ').split()])\n",
    "print(arr)"
   ]
  },
  {
   "cell_type": "markdown",
   "id": "576def8e",
   "metadata": {},
   "source": [
    "### Q3: Check rows, columns, total elements, and dimensions of a 2-D array."
   ]
  },
  {
   "cell_type": "code",
   "execution_count": null,
   "id": "d1b14b2d",
   "metadata": {},
   "outputs": [],
   "source": [
    "arr = np.array([[1, 2, 3], [4, 5, 6], [7, 8, 9]])\n",
    "print('Rows:', arr.shape[0])\n",
    "print('Columns:', arr.shape[1])\n",
    "print('Total Elements:', arr.size)\n",
    "print('Dimensions:', arr.ndim)"
   ]
  },
  {
   "cell_type": "markdown",
   "id": "a6c8f156",
   "metadata": {},
   "source": [
    "### Q4: Explanation of Functions with Examples"
   ]
  },
  {
   "cell_type": "code",
   "execution_count": null,
   "id": "10d51f44",
   "metadata": {},
   "outputs": [],
   "source": [
    "print(np.zeros((2, 3)))  # Creates a 2x3 array of zeros\n",
    "print(np.ones((3, 2)))   # Creates a 3x2 array of ones\n",
    "print(np.eye(3))        # Identity matrix of size 3x3\n",
    "print(np.diag([1, 2, 3]))  # Diagonal matrix\n",
    "print(np.random.randint(1, 10, (2, 3)))  # Random integers between 1 and 10\n",
    "np.random.seed(42)      # Sets the random seed for reproducibility\n",
    "print(np.linspace(0, 10, 5))  # 5 equally spaced numbers from 0 to 10\n",
    "arr = np.array([1, 2, 2, 3, 4, 4])\n",
    "print(np.unique(arr))  # Unique elements\n",
    "a = np.array([1, 2])\n",
    "b = np.array([3, 4])\n",
    "print(np.hstack((a, b)))  # Horizontal stacking\n",
    "print(np.vstack((a, b)))  # Vertical stacking"
   ]
  },
  {
   "cell_type": "markdown",
   "id": "f003b264",
   "metadata": {},
   "source": [
    "### Q5: Reshape and Sum Operations"
   ]
  },
  {
   "cell_type": "code",
   "execution_count": null,
   "id": "c46ba1fe",
   "metadata": {},
   "outputs": [],
   "source": [
    "arr = np.arange(1, 10).reshape(3, 3)\n",
    "print('Matrix:', arr)\n",
    "print('Total Sum:', arr.sum())\n",
    "print('Row-wise Sum:', arr.sum(axis=1))\n",
    "print('Column-wise Sum:', arr.sum(axis=0))"
   ]
  },
  {
   "cell_type": "markdown",
   "id": "d5cc31a3",
   "metadata": {},
   "source": [
    "### Q6: Matrix Operations (Reshaping, Subtraction, Multiplication, Addition)"
   ]
  },
  {
   "cell_type": "code",
   "execution_count": null,
   "id": "a979d7bc",
   "metadata": {},
   "outputs": [],
   "source": [
    "a = np.array([1, 2, 3, 4]).reshape(2, 2)\n",
    "b = np.array([5, 6, 7, 8]).reshape(2, 2)\n",
    "print('Subtraction:', a - b)\n",
    "print('Multiplication:', a * b)\n",
    "print('Addition:', a + b)"
   ]
  },
  {
   "cell_type": "markdown",
   "id": "03b68800",
   "metadata": {},
   "source": [
    "### Q7: Filter Even, Odd, and Numbers > 11"
   ]
  },
  {
   "cell_type": "code",
   "execution_count": null,
   "id": "f3b2bca5",
   "metadata": {},
   "outputs": [],
   "source": [
    "arr = np.arange(1, 13).reshape(3, 4)\n",
    "print('Even Numbers:', arr[arr % 2 == 0])\n",
    "print('Odd Numbers:', arr[arr % 2 != 0])\n",
    "print('Numbers > 11:', arr[arr > 11])"
   ]
  },
  {
   "cell_type": "markdown",
   "id": "d3a6a757",
   "metadata": {},
   "source": [
    "### Q8: Effect of View and Copy"
   ]
  },
  {
   "cell_type": "code",
   "execution_count": null,
   "id": "a462ec59",
   "metadata": {},
   "outputs": [],
   "source": [
    "arr = np.array([12, 45, 78, 98, 455, 789, 4678])\n",
    "view_arr = arr.view()\n",
    "copy_arr = arr.copy()\n",
    "view_arr[0] = 99\n",
    "copy_arr[1] = 88\n",
    "print('Original Array:', arr)\n",
    "print('View Array:', view_arr)\n",
    "print('Copy Array:', copy_arr)"
   ]
  }
 ],
 "metadata": {},
 "nbformat": 4,
 "nbformat_minor": 5
}