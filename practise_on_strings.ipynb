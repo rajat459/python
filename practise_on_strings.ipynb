{
  "nbformat": 4,
  "nbformat_minor": 0,
  "metadata": {
    "colab": {
      "provenance": [],
      "authorship_tag": "ABX9TyM5ubWLOaqHaXxx36Px2VJ+",
      "include_colab_link": true
    },
    "kernelspec": {
      "name": "python3",
      "display_name": "Python 3"
    },
    "language_info": {
      "name": "python"
    }
  },
  "cells": [
    {
      "cell_type": "markdown",
      "metadata": {
        "id": "view-in-github",
        "colab_type": "text"
      },
      "source": [
        "<a href=\"https://colab.research.google.com/github/rajat459/python/blob/main/practise_on_strings.ipynb\" target=\"_parent\"><img src=\"https://colab.research.google.com/assets/colab-badge.svg\" alt=\"Open In Colab\"/></a>"
      ]
    },
    {
      "cell_type": "code",
      "execution_count": 1,
      "metadata": {
        "colab": {
          "base_uri": "https://localhost:8080/",
          "height": 35
        },
        "id": "0SAOLKNjCqrp",
        "outputId": "ed3c56a3-a120-4fa9-b7b3-d776c30797cc"
      },
      "outputs": [
        {
          "output_type": "execute_result",
          "data": {
            "text/plain": [
              "'world Hello'"
            ],
            "application/vnd.google.colaboratory.intrinsic+json": {
              "type": "string"
            }
          },
          "metadata": {},
          "execution_count": 1
        }
      ],
      "source": [
        "# Question 1: Reverse Words in a Sentence but Keep Each Word Intact\n",
        "s = \"Hello world\"\n",
        "words = []\n",
        "word = \"\"\n",
        "for c in s:\n",
        "    if c != \" \":\n",
        "        word += c\n",
        "    else:\n",
        "        words.append(word)\n",
        "        word = \"\"\n",
        "words.append(word)\n",
        "reversed_sentence = \"\"\n",
        "for i in range(len(words)-1, -1, -1):\n",
        "    reversed_sentence += words[i]\n",
        "    if i > 0:\n",
        "        reversed_sentence += \" \"\n",
        "reversed_sentence\n"
      ]
    },
    {
      "cell_type": "code",
      "source": [
        "# Question 2: Check for All Unique Characters Without Using Additional Data Structures\n",
        "s = \"abcde\"\n",
        "is_unique = True\n",
        "for i in range(len(s)):\n",
        "    for j in range(i + 1, len(s)):\n",
        "        if s[i] == s[j]:\n",
        "            is_unique = False\n",
        "            break\n",
        "    if not is_unique:\n",
        "        break\n",
        "is_unique\n"
      ],
      "metadata": {
        "colab": {
          "base_uri": "https://localhost:8080/"
        },
        "id": "kFgNJoa3ET_3",
        "outputId": "76cee5b9-1fba-4775-b630-d2cae2a3336e"
      },
      "execution_count": 2,
      "outputs": [
        {
          "output_type": "execute_result",
          "data": {
            "text/plain": [
              "True"
            ]
          },
          "metadata": {},
          "execution_count": 2
        }
      ]
    },
    {
      "cell_type": "code",
      "source": [
        "# Question 3: Find the Longest Palindromic Substring\n",
        "s = \"babad\"\n",
        "max_len = 0\n",
        "longest_palindrome = \"\"\n",
        "for i in range(len(s)):\n",
        "    for j in range(i, len(s)):\n",
        "        substring = \"\"\n",
        "        for k in range(i, j + 1):\n",
        "            substring += s[k]\n",
        "        if substring == substring[::-1] and len(substring) > max_len:\n",
        "            max_len = len(substring)\n",
        "            longest_palindrome = substring\n",
        "longest_palindrome\n"
      ],
      "metadata": {
        "colab": {
          "base_uri": "https://localhost:8080/",
          "height": 35
        },
        "id": "tnOIIEF8EWaT",
        "outputId": "ccb5a493-0d22-4b07-818b-8e3ad0b40ef9"
      },
      "execution_count": 3,
      "outputs": [
        {
          "output_type": "execute_result",
          "data": {
            "text/plain": [
              "'bab'"
            ],
            "application/vnd.google.colaboratory.intrinsic+json": {
              "type": "string"
            }
          },
          "metadata": {},
          "execution_count": 3
        }
      ]
    },
    {
      "cell_type": "code",
      "source": [
        "# Question 4: Check if Two Strings are Permutations of Each Other\n",
        "s1, s2 = \"listen\", \"silent\"\n",
        "are_permutations = True\n",
        "if len(s1) != len(s2):\n",
        "    are_permutations = False\n",
        "else:\n",
        "    for c in s1:\n",
        "        count_s1 = 0\n",
        "        count_s2 = 0\n",
        "        for ch in s1:\n",
        "            if ch == c:\n",
        "                count_s1 += 1\n",
        "        for ch in s2:\n",
        "            if ch == c:\n",
        "                count_s2 += 1\n",
        "        if count_s1 != count_s2:\n",
        "            are_permutations = False\n",
        "            break\n",
        "are_permutations\n"
      ],
      "metadata": {
        "id": "lTViKOWoEYBK"
      },
      "execution_count": 3,
      "outputs": []
    },
    {
      "cell_type": "code",
      "source": [
        "# Question 5: Implement Run-Length Encoding for a String\n",
        "s = \"aaabbbccc\"\n",
        "encoded = \"\"\n",
        "i = 0\n",
        "while i < len(s):\n",
        "    count = 1\n",
        "    while i + 1 < len(s) and s[i] == s[i + 1]:\n",
        "        count += 1\n",
        "        i += 1\n",
        "    encoded += s[i] + str(count)\n",
        "    i += 1\n",
        "encoded\n"
      ],
      "metadata": {
        "colab": {
          "base_uri": "https://localhost:8080/",
          "height": 35
        },
        "id": "V3L-wPuXEdcY",
        "outputId": "f640805b-9603-4a3c-9e17-9e9ab090a90c"
      },
      "execution_count": 4,
      "outputs": [
        {
          "output_type": "execute_result",
          "data": {
            "text/plain": [
              "'a3b3c3'"
            ],
            "application/vnd.google.colaboratory.intrinsic+json": {
              "type": "string"
            }
          },
          "metadata": {},
          "execution_count": 4
        }
      ]
    },
    {
      "cell_type": "code",
      "source": [
        "# Question 6: Calculate the Edit Distance Between Two Strings\n",
        "s1, s2 = \"kitten\", \"sitting\"\n",
        "m, n = len(s1), len(s2)\n",
        "dp = [[0] * (n + 1) for _ in range(m + 1)]\n",
        "for i in range(m + 1):\n",
        "    dp[i][0] = i\n",
        "for j in range(n + 1):\n",
        "    dp[0][j] = j\n",
        "for i in range(1, m + 1):\n",
        "    for j in range(1, n + 1):\n",
        "        if s1[i - 1] == s2[j - 1]:\n",
        "            dp[i][j] = dp[i - 1][j - 1]\n",
        "        else:\n",
        "            dp[i][j] = 1 + min(dp[i - 1][j], dp[i][j - 1], dp[i - 1][j - 1])\n",
        "edit_distance = dp[m][n]\n",
        "edit_distance\n"
      ],
      "metadata": {
        "colab": {
          "base_uri": "https://localhost:8080/"
        },
        "id": "MTCLigM3Efqz",
        "outputId": "d75b382b-05db-4ad8-e865-277df27dd887"
      },
      "execution_count": 5,
      "outputs": [
        {
          "output_type": "execute_result",
          "data": {
            "text/plain": [
              "3"
            ]
          },
          "metadata": {},
          "execution_count": 5
        }
      ]
    },
    {
      "cell_type": "code",
      "source": [
        "# Question 7: Find the First Repeating Character in a String\n",
        "s = \"stress\"\n",
        "first_repeating = None\n",
        "for i in range(len(s)):\n",
        "    for j in range(i + 1, len(s)):\n",
        "        if s[i] == s[j]:\n",
        "            first_repeating = s[i]\n",
        "            break\n",
        "    if first_repeating:\n",
        "        break\n",
        "first_repeating\n"
      ],
      "metadata": {
        "colab": {
          "base_uri": "https://localhost:8080/",
          "height": 35
        },
        "id": "qrSTAkF5EhS_",
        "outputId": "aeccc4c2-b8a7-4c82-bb66-e37c1b96b0d8"
      },
      "execution_count": 6,
      "outputs": [
        {
          "output_type": "execute_result",
          "data": {
            "text/plain": [
              "'s'"
            ],
            "application/vnd.google.colaboratory.intrinsic+json": {
              "type": "string"
            }
          },
          "metadata": {},
          "execution_count": 6
        }
      ]
    },
    {
      "cell_type": "code",
      "source": [
        "# Question 8: Convert a Sentence to Title Case Without Using .title() Method\n",
        "s = \"hello world\"\n",
        "title_case = \"\"\n",
        "capitalize = True\n",
        "for c in s:\n",
        "    if capitalize and 'a' <= c <= 'z':\n",
        "        title_case += chr(ord(c) - 32)\n",
        "        capitalize = False\n",
        "    else:\n",
        "        title_case += c\n",
        "    if c == \" \":\n",
        "        capitalize = True\n",
        "title_case\n"
      ],
      "metadata": {
        "colab": {
          "base_uri": "https://localhost:8080/",
          "height": 35
        },
        "id": "7i1x0958EjXs",
        "outputId": "19a388ba-0e75-4270-86f1-537076d74de0"
      },
      "execution_count": 7,
      "outputs": [
        {
          "output_type": "execute_result",
          "data": {
            "text/plain": [
              "'Hello World'"
            ],
            "application/vnd.google.colaboratory.intrinsic+json": {
              "type": "string"
            }
          },
          "metadata": {},
          "execution_count": 7
        }
      ]
    },
    {
      "cell_type": "code",
      "source": [
        "# Question 9: Implement a Basic Text Justification Algorithm\n",
        "words = [\"This\", \"is\", \"an\", \"example\", \"of\", \"justification.\"]\n",
        "width = 16\n",
        "lines = []\n",
        "line = []\n",
        "line_length = 0\n",
        "for word in words:\n",
        "    if line_length + len(word) + len(line) > width:\n",
        "        spaces_needed = width - line_length\n",
        "        for i in range(spaces_needed):\n",
        "            line[i % (len(line) - 1 or 1)] += \" \"\n",
        "        lines.append(\"\".join(line))\n",
        "        line = []\n",
        "        line_length = 0\n",
        "    line.append(word)\n",
        "    line_length += len(word)\n",
        "lines.append(\" \".join(line).ljust(width))\n",
        "lines\n"
      ],
      "metadata": {
        "colab": {
          "base_uri": "https://localhost:8080/"
        },
        "id": "NFxmSYg-EkuS",
        "outputId": "657c34c7-131a-4eba-bcae-57193f9dca3c"
      },
      "execution_count": 8,
      "outputs": [
        {
          "output_type": "execute_result",
          "data": {
            "text/plain": [
              "['This    is    an', 'example       of', 'justification.  ']"
            ]
          },
          "metadata": {},
          "execution_count": 8
        }
      ]
    },
    {
      "cell_type": "code",
      "source": [
        "# Question 9: Implement a Basic Text Justification Algorithm\n",
        "words = [\"This\", \"is\", \"an\", \"example\", \"of\", \"justification.\"]\n",
        "width = 16\n",
        "lines = []\n",
        "line = []\n",
        "line_length = 0\n",
        "for word in words:\n",
        "    if line_length + len(word) + len(line) > width:\n",
        "        spaces_needed = width - line_length\n",
        "        for i in range(spaces_needed):\n",
        "            line[i % (len(line) - 1 or 1)] += \" \"\n",
        "        lines.append(\"\".join(line))\n",
        "        line = []\n",
        "        line_length = 0\n",
        "    line.append(word)\n",
        "    line_length += len(word)\n",
        "lines.append(\" \".join(line).ljust(width))\n",
        "lines\n"
      ],
      "metadata": {
        "colab": {
          "base_uri": "https://localhost:8080/"
        },
        "id": "4Lszy2zuEmSS",
        "outputId": "5a77853c-897f-4635-fc64-8d03f249e4f6"
      },
      "execution_count": 9,
      "outputs": [
        {
          "output_type": "execute_result",
          "data": {
            "text/plain": [
              "['This    is    an', 'example       of', 'justification.  ']"
            ]
          },
          "metadata": {},
          "execution_count": 9
        }
      ]
    },
    {
      "cell_type": "code",
      "source": [
        "# Question 10: Find the Longest Common Subsequence of Two Strings\n",
        "s1, s2 = \"abcde\", \"ace\"\n",
        "m, n = len(s1), len(s2)\n",
        "dp = [[0] * (n + 1) for _ in range(m + 1)]\n",
        "for i in range(1, m + 1):\n",
        "    for j in range(1, n + 1):\n",
        "        if s1[i - 1] == s2[j - 1]:\n",
        "            dp[i][j] = dp[i - 1][j - 1] + 1\n",
        "        else:\n",
        "            dp[i][j] = max(dp[i - 1][j], dp[i][j - 1])\n",
        "i, j = m, n\n",
        "lcs = \"\"\n",
        "while i > 0 and j > 0:\n",
        "    if s1[i - 1] == s2[j - 1]:\n",
        "        lcs = s1[i - 1] + lcs\n",
        "        i -= 1\n",
        "        j -= 1\n",
        "    elif dp[i - 1][j] > dp[i][j - 1]:\n",
        "        i -= 1\n",
        "    else:\n",
        "        j -= 1\n",
        "lcs\n"
      ],
      "metadata": {
        "colab": {
          "base_uri": "https://localhost:8080/",
          "height": 35
        },
        "id": "7eKKQ3dqEn4z",
        "outputId": "a79f8df3-33b0-4d19-869e-56058a3e0e81"
      },
      "execution_count": 10,
      "outputs": [
        {
          "output_type": "execute_result",
          "data": {
            "text/plain": [
              "'ace'"
            ],
            "application/vnd.google.colaboratory.intrinsic+json": {
              "type": "string"
            }
          },
          "metadata": {},
          "execution_count": 10
        }
      ]
    },
    {
      "cell_type": "code",
      "source": [
        "# Question 11: Convert a Roman Numeral to an Integer\n",
        "roman = \"MCMXCIV\"\n",
        "values = {'I': 1, 'V': 5, 'X': 10, 'L': 50, 'C': 100, 'D': 500, 'M': 1000}\n",
        "integer_value = 0\n",
        "for i in range(len(roman)):\n",
        "    if i > 0 and values[roman[i]] > values[roman[i - 1]]:\n",
        "        integer_value += values[roman[i]] - 2 * values[roman[i - 1]]\n",
        "    else:\n",
        "        integer_value += values[roman[i]]\n",
        "integer_value\n"
      ],
      "metadata": {
        "colab": {
          "base_uri": "https://localhost:8080/"
        },
        "id": "75a6IVNEEpgg",
        "outputId": "5e08774c-104d-4284-9343-1b75f664f174"
      },
      "execution_count": 11,
      "outputs": [
        {
          "output_type": "execute_result",
          "data": {
            "text/plain": [
              "1994"
            ]
          },
          "metadata": {},
          "execution_count": 11
        }
      ]
    },
    {
      "cell_type": "code",
      "source": [
        "# Question 12: Determine if a String Contains Only Valid Parentheses\n",
        "s = \"([])\"\n",
        "stack = []\n",
        "valid = True\n",
        "for c in s:\n",
        "    if c in \"([{\":\n",
        "        stack.append(c)\n",
        "    elif c in \")]}\":\n",
        "        if not stack:\n",
        "            valid = False\n",
        "            break\n",
        "        top = stack.pop()\n",
        "        if (c == \")\" and top != \"(\") or (c == \"]\" and top != \"[\") or (c == \"}\" and top != \"{\"):\n",
        "            valid = False\n",
        "            break\n",
        "valid = valid and not stack\n",
        "valid\n"
      ],
      "metadata": {
        "colab": {
          "base_uri": "https://localhost:8080/"
        },
        "id": "pETsmbX1E0qO",
        "outputId": "5a0249be-4edf-4189-d6e7-f4712160af81"
      },
      "execution_count": 12,
      "outputs": [
        {
          "output_type": "execute_result",
          "data": {
            "text/plain": [
              "True"
            ]
          },
          "metadata": {},
          "execution_count": 12
        }
      ]
    },
    {
      "cell_type": "code",
      "source": [
        "# Question 13: Replace All Occurrences of a Substring in a String\n",
        "s = \"abcabc\"\n",
        "old_sub = \"abc\"\n",
        "new_sub = \"x\"\n",
        "i = 0\n",
        "result = \"\"\n",
        "while i < len(s):\n",
        "    match = True\n",
        "    for j in range(len(old_sub)):\n",
        "        if i + j >= len(s) or s[i + j] != old_sub[j]:\n",
        "            match = False\n",
        "            break\n",
        "    if match:\n",
        "        result += new_sub\n",
        "        i += len(old_sub)\n",
        "    else:\n",
        "        result += s[i]\n",
        "        i += 1\n",
        "result\n"
      ],
      "metadata": {
        "colab": {
          "base_uri": "https://localhost:8080/",
          "height": 35
        },
        "id": "wf1cbEnEE2yI",
        "outputId": "c2e38ca3-3ddf-45df-834d-47335b88b404"
      },
      "execution_count": 13,
      "outputs": [
        {
          "output_type": "execute_result",
          "data": {
            "text/plain": [
              "'xx'"
            ],
            "application/vnd.google.colaboratory.intrinsic+json": {
              "type": "string"
            }
          },
          "metadata": {},
          "execution_count": 13
        }
      ]
    },
    {
      "cell_type": "code",
      "source": [
        "# Question 13: Replace All Occurrences of a Substring in a String\n",
        "s = \"abcabc\"\n",
        "old_sub = \"abc\"\n",
        "new_sub = \"x\"\n",
        "i = 0\n",
        "result = \"\"\n",
        "while i < len(s):\n",
        "    match = True\n",
        "    for j in range(len(old_sub)):\n",
        "        if i + j >= len(s) or s[i + j] != old_sub[j]:\n",
        "            match = False\n",
        "            break\n",
        "    if match:\n",
        "        result += new_sub\n",
        "        i += len(old_sub)\n",
        "    else:\n",
        "        result += s[i]\n",
        "        i += 1\n",
        "result\n"
      ],
      "metadata": {
        "colab": {
          "base_uri": "https://localhost:8080/",
          "height": 35
        },
        "id": "CM8Lpt0-E4Tx",
        "outputId": "300ba0b5-1dcb-4fad-af32-cc600eb2a3d8"
      },
      "execution_count": 14,
      "outputs": [
        {
          "output_type": "execute_result",
          "data": {
            "text/plain": [
              "'xx'"
            ],
            "application/vnd.google.colaboratory.intrinsic+json": {
              "type": "string"
            }
          },
          "metadata": {},
          "execution_count": 14
        }
      ]
    },
    {
      "cell_type": "code",
      "source": [
        "# Question 14: Find All Permutations of a String\n",
        "s = \"abc\"\n",
        "permutations = []\n",
        "def permute(prefix, remaining):\n",
        "    if not remaining:\n",
        "        permutations.append(prefix)\n",
        "    else:\n",
        "        for i in range(len(remaining)):\n",
        "            permute(prefix + remaining[i], remaining[:i] + remaining[i+1:])\n",
        "permute(\"\", s)\n",
        "permutations\n"
      ],
      "metadata": {
        "colab": {
          "base_uri": "https://localhost:8080/"
        },
        "id": "vGIk1bf4E6Wf",
        "outputId": "ddd57fa6-9850-44ec-dc75-14a31e36955c"
      },
      "execution_count": 15,
      "outputs": [
        {
          "output_type": "execute_result",
          "data": {
            "text/plain": [
              "['abc', 'acb', 'bac', 'bca', 'cab', 'cba']"
            ]
          },
          "metadata": {},
          "execution_count": 15
        }
      ]
    },
    {
      "cell_type": "code",
      "source": [
        "# Question 15: Find the Longest Word Made of Other Words in a List\n",
        "words = [\"cat\", \"cats\", \"catsdogcats\", \"dog\"]\n",
        "words.sort(key=len, reverse=True)\n",
        "def can_form(word, word_set):\n",
        "    if word in word_set:\n",
        "        word_set.remove(word)\n",
        "    for i in range(1, len(word)):\n",
        "        prefix, suffix = word[:i], word[i:]\n",
        "        if prefix in word_set and (suffix in word_set or can_form(suffix, word_set)):\n",
        "            return True\n",
        "    return False\n",
        "longest_word = \"\"\n",
        "for word in words:\n",
        "    if can_form(word, set(words)):\n",
        "        longest_word = word\n",
        "        break\n",
        "longest_word\n"
      ],
      "metadata": {
        "colab": {
          "base_uri": "https://localhost:8080/",
          "height": 35
        },
        "id": "X_pf3B43E8Ys",
        "outputId": "ef593566-ab2c-425e-a33e-51b6c600dd78"
      },
      "execution_count": 16,
      "outputs": [
        {
          "output_type": "execute_result",
          "data": {
            "text/plain": [
              "'catsdogcats'"
            ],
            "application/vnd.google.colaboratory.intrinsic+json": {
              "type": "string"
            }
          },
          "metadata": {},
          "execution_count": 16
        }
      ]
    },
    {
      "cell_type": "code",
      "source": [
        "# Question 16: Find All Palindromic Partitions of a String\n",
        "s = \"aab\"\n",
        "def is_palindrome(substring):\n",
        "    return substring == substring[::-1]\n",
        "partitions = []\n",
        "def partition_helper(start, path):\n",
        "    if start == len(s):\n",
        "        partitions.append(path[:])\n",
        "    for end in range(start + 1, len(s) + 1):\n",
        "        substring = s[start:end]\n",
        "        if is_palindrome(substring):\n",
        "            path.append(substring)\n",
        "            partition_helper(end, path)\n",
        "            path.pop()\n",
        "partition_helper(0, [])\n",
        "partitions\n"
      ],
      "metadata": {
        "colab": {
          "base_uri": "https://localhost:8080/"
        },
        "id": "KHCSJ0OWE9zS",
        "outputId": "ee8d611b-7983-4dc2-a268-48c785a6db8b"
      },
      "execution_count": 17,
      "outputs": [
        {
          "output_type": "execute_result",
          "data": {
            "text/plain": [
              "[['a', 'a', 'b'], ['aa', 'b']]"
            ]
          },
          "metadata": {},
          "execution_count": 17
        }
      ]
    },
    {
      "cell_type": "code",
      "source": [
        "# Question 17: Determine if Two Strings are K-Anagrams\n",
        "s1, s2, k = \"anagram\", \"grammar\", 3\n",
        "if len(s1) != len(s2):\n",
        "    k_anagrams = False\n",
        "else:\n",
        "    diff_count = 0\n",
        "    for c in set(s1):\n",
        "        count_s1 = sum(1 for ch in s1 if ch == c)\n",
        "        count_s2 = sum(1 for ch in s2 if ch == c)\n",
        "        diff_count += abs(count_s1 - count_s2)\n",
        "    k_anagrams = diff_count // 2 <= k\n",
        "k_anagrams\n"
      ],
      "metadata": {
        "colab": {
          "base_uri": "https://localhost:8080/"
        },
        "id": "apudULLYE_gf",
        "outputId": "d53d2091-98a9-4270-baa2-9ddb99bd3d87"
      },
      "execution_count": 18,
      "outputs": [
        {
          "output_type": "execute_result",
          "data": {
            "text/plain": [
              "True"
            ]
          },
          "metadata": {},
          "execution_count": 18
        }
      ]
    },
    {
      "cell_type": "code",
      "source": [
        "# Question 18: Find the Shortest Palindrome by Adding Characters at the Beginning\n",
        "s = \"abcd\"\n",
        "reversed_s = s[::-1]\n",
        "for i in range(len(s)):\n",
        "    if s[:len(s) - i] == reversed_s[i:]:\n",
        "        shortest_palindrome = reversed_s[:i] + s\n",
        "        break\n",
        "shortest_palindrome\n"
      ],
      "metadata": {
        "colab": {
          "base_uri": "https://localhost:8080/",
          "height": 35
        },
        "id": "SjnBk6EMFBD3",
        "outputId": "9101b538-e5b0-472d-e8ec-ad94b43bfdad"
      },
      "execution_count": 19,
      "outputs": [
        {
          "output_type": "execute_result",
          "data": {
            "text/plain": [
              "'dcbabcd'"
            ],
            "application/vnd.google.colaboratory.intrinsic+json": {
              "type": "string"
            }
          },
          "metadata": {},
          "execution_count": 19
        }
      ]
    },
    {
      "cell_type": "code",
      "source": [
        "# Question 19: Check if a String can be Formed by Repeating a Substring\n",
        "s = \"abab\"\n",
        "is_repeated = False\n",
        "for i in range(1, len(s) // 2 + 1):\n",
        "    if len(s) % i == 0:\n",
        "        substring = s[:i]\n",
        "        match = True\n",
        "        for j in range(0, len(s), i):\n",
        "            if s[j:j+i] != substring:\n",
        "                match = False\n",
        "                break\n",
        "        if match:\n",
        "            is_repeated = True\n",
        "            break\n",
        "is_repeated\n"
      ],
      "metadata": {
        "colab": {
          "base_uri": "https://localhost:8080/"
        },
        "id": "7ar5feddFCtW",
        "outputId": "a4c5a45f-0f17-498e-b41a-7654b3d776f2"
      },
      "execution_count": 20,
      "outputs": [
        {
          "output_type": "execute_result",
          "data": {
            "text/plain": [
              "True"
            ]
          },
          "metadata": {},
          "execution_count": 20
        }
      ]
    },
    {
      "cell_type": "code",
      "source": [
        "# Question 20: Convert a Sentence into its Pig Latin Equivalent\n",
        "s = \"hello world\"\n",
        "vowels = \"aeiou\"\n",
        "pig_latin = \"\"\n",
        "word = \"\"\n",
        "for i in range(len(s) + 1):\n",
        "    if i < len(s) and s[i] != \" \":\n",
        "        word += s[i]\n",
        "    else:\n",
        "        if word:\n",
        "            if word[0] in vowels:\n",
        "                pig_latin += word + \"yay\"\n",
        "            else:\n",
        "                pig_latin += word[1:] + word[0] + \"ay\"\n",
        "            word = \"\"\n",
        "        if i < len(s):\n",
        "            pig_latin += \" \"\n",
        "pig_latin\n"
      ],
      "metadata": {
        "colab": {
          "base_uri": "https://localhost:8080/",
          "height": 35
        },
        "id": "pO11mCMBFEqj",
        "outputId": "2e157207-8197-449f-a389-b810bae467e0"
      },
      "execution_count": 21,
      "outputs": [
        {
          "output_type": "execute_result",
          "data": {
            "text/plain": [
              "'ellohay orldway'"
            ],
            "application/vnd.google.colaboratory.intrinsic+json": {
              "type": "string"
            }
          },
          "metadata": {},
          "execution_count": 21
        }
      ]
    },
    {
      "cell_type": "code",
      "source": [],
      "metadata": {
        "id": "mxIwWHg-FG13"
      },
      "execution_count": null,
      "outputs": []
    }
  ]
}