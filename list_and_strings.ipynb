{
  "nbformat": 4,
  "nbformat_minor": 0,
  "metadata": {
    "colab": {
      "provenance": [],
      "authorship_tag": "ABX9TyMF/6r6NRoqaJL/wi8kkmEw",
      "include_colab_link": true
    },
    "kernelspec": {
      "name": "python3",
      "display_name": "Python 3"
    },
    "language_info": {
      "name": "python"
    }
  },
  "cells": [
    {
      "cell_type": "markdown",
      "metadata": {
        "id": "view-in-github",
        "colab_type": "text"
      },
      "source": [
        "<a href=\"https://colab.research.google.com/github/rajat459/python/blob/main/list_and_strings.ipynb\" target=\"_parent\"><img src=\"https://colab.research.google.com/assets/colab-badge.svg\" alt=\"Open In Colab\"/></a>"
      ]
    },
    {
      "cell_type": "code",
      "execution_count": 1,
      "metadata": {
        "id": "jv_795LvX_y8"
      },
      "outputs": [],
      "source": [
        "def twoSum(numbers, target):\n",
        "    left, right = 0, len(numbers) - 1\n",
        "    while left < right:\n",
        "        curr_sum = numbers[left] + numbers[right]\n",
        "        if curr_sum == target:\n",
        "            return [left + 1, right + 1]\n",
        "        elif curr_sum < target:\n",
        "            left += 1\n",
        "        else:\n",
        "            right -= 1\n"
      ]
    },
    {
      "cell_type": "code",
      "source": [
        "def containsDuplicate(nums):\n",
        "    return len(nums) != len(set(nums))\n"
      ],
      "metadata": {
        "id": "i1BFHQZeYdXm"
      },
      "execution_count": 2,
      "outputs": []
    },
    {
      "cell_type": "code",
      "source": [
        "def rotate(nums, k):\n",
        "    k %= len(nums)\n",
        "    nums[:] = nums[-k:] + nums[:-k]\n"
      ],
      "metadata": {
        "id": "Bd3uMGS6YdUK"
      },
      "execution_count": 3,
      "outputs": []
    },
    {
      "cell_type": "code",
      "source": [
        "def threeSumSmaller(nums, target):\n",
        "    nums.sort()\n",
        "    count = 0\n",
        "    for i in range(len(nums) - 2):\n",
        "        j, k = i + 1, len(nums) - 1\n",
        "        while j < k:\n",
        "            if nums[i] + nums[j] + nums[k] < target:\n",
        "                count += k - j\n",
        "                j += 1\n",
        "            else:\n",
        "                k -= 1\n",
        "    return count\n"
      ],
      "metadata": {
        "id": "Cq0EXFBHYdRk"
      },
      "execution_count": 4,
      "outputs": []
    },
    {
      "cell_type": "code",
      "source": [
        "def threeSumClosest(nums, target):\n",
        "    nums.sort()\n",
        "    closest_sum = float('inf')\n",
        "    for i in range(len(nums) - 2):\n",
        "        j, k = i + 1, len(nums) - 1\n",
        "        while j < k:\n",
        "            current_sum = nums[i] + nums[j] + nums[k]\n",
        "            if abs(current_sum - target) < abs(closest_sum - target):\n",
        "                closest_sum = current_sum\n",
        "            if current_sum < target:\n",
        "                j += 1\n",
        "            elif current_sum > target:\n",
        "                k -= 1\n",
        "            else:\n",
        "                return current_sum\n",
        "    return closest_sum\n"
      ],
      "metadata": {
        "id": "dDiqaLxuYdP-"
      },
      "execution_count": 5,
      "outputs": []
    },
    {
      "cell_type": "code",
      "source": [
        "def threeSum(nums):\n",
        "    nums.sort()\n",
        "    result = []\n",
        "    for i in range(len(nums) - 2):\n",
        "        if i > 0 and nums[i] == nums[i - 1]:\n",
        "            continue\n",
        "        j, k = i + 1, len(nums) - 1\n",
        "        while j < k:\n",
        "            sum_val = nums[i] + nums[j] + nums[k]\n",
        "            if sum_val == 0:\n",
        "                result.append([nums[i], nums[j], nums[k]])\n",
        "                j += 1\n",
        "                k -= 1\n",
        "                while j < k and nums[j] == nums[j - 1]:\n",
        "                    j += 1\n",
        "                while j < k and nums[k] == nums[k + 1]:\n",
        "                    k -= 1\n",
        "            elif sum_val < 0:\n",
        "                j += 1\n",
        "            else:\n",
        "                k -= 1\n",
        "    return result\n"
      ],
      "metadata": {
        "id": "3nzhwn22YdNl"
      },
      "execution_count": 6,
      "outputs": []
    },
    {
      "cell_type": "code",
      "source": [
        "def twoSum(nums, target):\n",
        "    num_map = {}\n",
        "    for i, num in enumerate(nums):\n",
        "        complement = target - num\n",
        "        if complement in num_map:\n",
        "            return [num_map[complement], i]\n",
        "        num_map[num] = i\n"
      ],
      "metadata": {
        "id": "K330EqOJYdIu"
      },
      "execution_count": 7,
      "outputs": []
    },
    {
      "cell_type": "code",
      "source": [
        "\n",
        "\n",
        "def plusOne(digits):\n",
        "    for i in range(len(digits) - 1, -1, -1):\n",
        "        if digits[i] < 9:\n",
        "            digits[i] += 1\n",
        "            return digits\n",
        "        digits[i] = 0\n",
        "    return [1] + digits\n"
      ],
      "metadata": {
        "id": "bcqi4I5ZYdEH"
      },
      "execution_count": 8,
      "outputs": []
    },
    {
      "cell_type": "code",
      "source": [
        "def maxProfit(prices):\n",
        "    min_price = float('inf')\n",
        "    max_profit = 0\n",
        "    for price in prices:\n",
        "        min_price = min(min_price, price)\n",
        "        max_profit = max(max_profit, price - min_price)\n",
        "    return max_profit\n"
      ],
      "metadata": {
        "id": "6vi1oLLoYdBg"
      },
      "execution_count": 9,
      "outputs": []
    },
    {
      "cell_type": "code",
      "source": [
        "def shortestDistance(words, word1, word2):\n",
        "    index1 = index2 = -1\n",
        "    min_distance = float('inf')\n",
        "    for i, word in enumerate(words):\n",
        "        if word == word1:\n",
        "            index1 = i\n",
        "        elif word == word2:\n",
        "            index2 = i\n",
        "        if index1 != -1 and index2 != -1:\n",
        "            min_distance = min(min_distance, abs(index1 - index2))\n",
        "    return min_distance\n"
      ],
      "metadata": {
        "id": "snX3Q3OvYc_F"
      },
      "execution_count": 10,
      "outputs": []
    },
    {
      "cell_type": "code",
      "source": [
        "def moveZeroes(nums):\n",
        "    j = 0\n",
        "    for i in range(len(nums)):\n",
        "        if nums[i] != 0:\n",
        "            nums[i], nums[j] = nums[j], nums[i]\n",
        "            j += 1\n"
      ],
      "metadata": {
        "id": "5R1Bp0iGYc8R"
      },
      "execution_count": 11,
      "outputs": []
    },
    {
      "cell_type": "code",
      "source": [
        "def removeDuplicates(nums):\n",
        "    if not nums:\n",
        "        return 0\n",
        "    j = 1\n",
        "    for i in range(1, len(nums)):\n",
        "        if nums[i] != nums[i - 1]:\n",
        "            nums[j] = nums[i]\n",
        "            j += 1\n",
        "    return j\n"
      ],
      "metadata": {
        "id": "KEOfrPRQYc5_"
      },
      "execution_count": 12,
      "outputs": []
    },
    {
      "cell_type": "code",
      "source": [
        "def removeDuplicates(nums):\n",
        "    if not nums:\n",
        "        return 0\n",
        "    j = 1\n",
        "    for i in range(1, len(nums)):\n",
        "        if nums[i] != nums[i - 1]:\n",
        "            nums[j] = nums[i]\n",
        "            j += 1\n",
        "    return j\n"
      ],
      "metadata": {
        "id": "MgHVgY2jYc3c"
      },
      "execution_count": 13,
      "outputs": []
    },
    {
      "cell_type": "code",
      "source": [
        "def removeElement(nums, val):\n",
        "    j = 0\n",
        "    for i in range(len(nums)):\n",
        "        if nums[i] != val:\n",
        "            nums[j] = nums[i]\n",
        "            j += 1\n",
        "    return j\n"
      ],
      "metadata": {
        "id": "tpUXhjqJYc1W"
      },
      "execution_count": 14,
      "outputs": []
    },
    {
      "cell_type": "code",
      "source": [
        "def intersect(nums1, nums2):\n",
        "    counts = {}\n",
        "    for num in nums1:\n",
        "        counts[num] = counts.get(num, 0) + 1\n",
        "    result = []\n",
        "    for num in nums2:\n",
        "        if num in counts and counts[num] > 0:\n",
        "            result.append(num)\n",
        "            counts[num] -= 1\n",
        "    return result\n"
      ],
      "metadata": {
        "id": "82vaxvJGYcy8"
      },
      "execution_count": 15,
      "outputs": []
    },
    {
      "cell_type": "code",
      "source": [
        "def intersect(nums1, nums2):\n",
        "    counts = {}\n",
        "    for num in nums1:\n",
        "        counts[num] = counts.get(num, 0) + 1\n",
        "    result = []\n",
        "    for num in nums2:\n",
        "        if num in counts and counts[num] > 0:\n",
        "            result.append(num)\n",
        "            counts[num] -= 1\n",
        "    return result\n"
      ],
      "metadata": {
        "id": "MO4R2QGtY-fg"
      },
      "execution_count": 16,
      "outputs": []
    },
    {
      "cell_type": "code",
      "source": [
        "def merge(nums1, m, nums2, n):\n",
        "    while m > 0 and n > 0:\n",
        "        if nums1[m - 1] > nums2[n - 1]:\n",
        "            nums1[m + n - 1] = nums1[m - 1]\n",
        "            m -= 1\n",
        "        else:\n",
        "            nums1[m + n - 1] = nums2[n - 1]\n",
        "            n -= 1\n",
        "    nums1[:n] = nums2[:n]\n"
      ],
      "metadata": {
        "id": "O-Dn0CtcY_0Z"
      },
      "execution_count": 17,
      "outputs": []
    },
    {
      "cell_type": "code",
      "source": [
        "def merge(nums1, m, nums2, n):\n",
        "    while m > 0 and n > 0:\n",
        "        if nums1[m - 1] > nums2[n - 1]:\n",
        "            nums1[m + n - 1] = nums1[m - 1]\n",
        "            m -= 1\n",
        "        else:\n",
        "            nums1[m + n - 1] = nums2[n - 1]\n",
        "            n -= 1\n",
        "    nums1[:n] = nums2[:n]\n"
      ],
      "metadata": {
        "id": "ftFix9jDZBIP"
      },
      "execution_count": 18,
      "outputs": []
    },
    {
      "cell_type": "code",
      "source": [
        "def reverseVowels(s):\n",
        "    vowels = \"aeiouAEIOU\"\n",
        "    s = list(s)\n",
        "    left, right = 0, len(s) - 1\n",
        "    while left < right:\n",
        "        if s[left] in vowels and s[right] in vowels:\n",
        "            s[left], s[right] = s[right], s[left]\n",
        "            left += 1\n",
        "            right -= 1\n",
        "        elif s[left] in vowels:\n",
        "            right -= 1\n",
        "        else:\n",
        "            left += 1\n",
        "    return \"\".join(s)\n"
      ],
      "metadata": {
        "id": "FiSm2iv4ZC1t"
      },
      "execution_count": 19,
      "outputs": []
    },
    {
      "cell_type": "code",
      "source": [
        "def isAnagram(s, t):\n",
        "    return sorted(s) == sorted(t)\n"
      ],
      "metadata": {
        "id": "ZCC15hF_ZEW1"
      },
      "execution_count": 20,
      "outputs": []
    },
    {
      "cell_type": "code",
      "source": [
        "import re\n",
        "def isPalindrome(s):\n",
        "    s = re.sub(r'[^a-zA-Z0-9]', '', s).lower()\n",
        "    return s == s[::-1]\n"
      ],
      "metadata": {
        "id": "a1cGK22lZFyi"
      },
      "execution_count": 21,
      "outputs": []
    },
    {
      "cell_type": "code",
      "source": [
        "def wordPattern(pattern, s):\n",
        "    words = s.split()\n",
        "    return len(pattern) == len(words) and len(set(pattern)) == len(set(words)) == len(set(zip(pattern, words)))\n"
      ],
      "metadata": {
        "id": "yXGrMiCVZHFF"
      },
      "execution_count": 22,
      "outputs": []
    },
    {
      "cell_type": "code",
      "source": [
        "def isValid(s):\n",
        "    stack = []\n",
        "    mapping = {\")\": \"(\", \"}\": \"{\", \"]\": \"[\"}\n",
        "    for char in s:\n",
        "        if char in mapping:\n",
        "            top_element = stack.pop() if stack else '#'\n",
        "            if mapping[char] != top_element:\n",
        "                return False\n",
        "        else:\n",
        "            stack.append(char)\n",
        "    return not stack\n"
      ],
      "metadata": {
        "id": "o4TN7cEhZIjd"
      },
      "execution_count": 24,
      "outputs": []
    },
    {
      "cell_type": "code",
      "source": [
        "def isIsomorphic(s, t):\n",
        "    return len(set(s)) == len(set(t)) == len(set(zip(s, t)))\n"
      ],
      "metadata": {
        "id": "xP0gSaZmZPW-"
      },
      "execution_count": 25,
      "outputs": []
    },
    {
      "cell_type": "code",
      "source": [
        "def reverseString(s):\n",
        "    left, right = 0, len(s) - 1\n",
        "    while left < right:\n",
        "        s[left], s[right] = s[right], s[left]\n",
        "        left += 1\n",
        "        right -= 1\n"
      ],
      "metadata": {
        "id": "oc3lV0DIZRIb"
      },
      "execution_count": 26,
      "outputs": []
    },
    {
      "cell_type": "code",
      "source": [
        "def hasLetterAndNumber(s):\n",
        "    has_letter = any(char.isalpha() for char in s)\n",
        "    has_number = any(char.isdigit() for char in s)\n",
        "    return has_letter and has_number\n"
      ],
      "metadata": {
        "id": "zGvPieK7ZS05"
      },
      "execution_count": 27,
      "outputs": []
    },
    {
      "cell_type": "code",
      "source": [
        "def removeDuplicates(s):\n",
        "    result = \"\"\n",
        "    for char in s:\n",
        "        if char not in result:\n",
        "            result += char\n",
        "    return result\n"
      ],
      "metadata": {
        "id": "wo2XQJgCZUQ4"
      },
      "execution_count": 28,
      "outputs": []
    },
    {
      "cell_type": "code",
      "source": [
        "def longestSubstringLength(s, K):\n",
        "    max_len = 0\n",
        "    current_len = 0\n",
        "    for char in s:\n",
        "        if char == K:\n",
        "            current_len += 1\n",
        "            max_len = max(max_len, current_len)\n",
        "        else:\n",
        "            current_len = 0\n",
        "    return max_len\n"
      ],
      "metadata": {
        "id": "wbLpBl_fZVmq"
      },
      "execution_count": 29,
      "outputs": []
    },
    {
      "cell_type": "code",
      "source": [],
      "metadata": {
        "id": "KY7sqlTMZXPs"
      },
      "execution_count": null,
      "outputs": []
    }
  ]
}