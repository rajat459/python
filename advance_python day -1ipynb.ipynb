{
  "nbformat": 4,
  "nbformat_minor": 0,
  "metadata": {
    "colab": {
      "provenance": [],
      "authorship_tag": "ABX9TyN/xU3vIVCTat1swUydIo7y",
      "include_colab_link": true
    },
    "kernelspec": {
      "name": "python3",
      "display_name": "Python 3"
    },
    "language_info": {
      "name": "python"
    }
  },
  "cells": [
    {
      "cell_type": "markdown",
      "metadata": {
        "id": "view-in-github",
        "colab_type": "text"
      },
      "source": [
        "<a href=\"https://colab.research.google.com/github/rajat459/python/blob/main/advance_python%20day%20-1ipynb.ipynb\" target=\"_parent\"><img src=\"https://colab.research.google.com/assets/colab-badge.svg\" alt=\"Open In Colab\"/></a>"
      ]
    },
    {
      "cell_type": "code",
      "execution_count": 6,
      "metadata": {
        "colab": {
          "base_uri": "https://localhost:8080/"
        },
        "id": "_1M0hCOTY_tQ",
        "outputId": "d70104c1-cc25-4022-f4d2-39acb4d3477b"
      },
      "outputs": [
        {
          "output_type": "execute_result",
          "data": {
            "text/plain": [
              "array([1, 2, 3, 4])"
            ]
          },
          "metadata": {},
          "execution_count": 6
        }
      ],
      "source": [
        "#numpy=it is an open source library that is used for scientific calculations\n",
        "#why we use nummpy when we have list\n",
        "#     1.homogeneous dsata type\n",
        "#     2. memory less consume\n",
        "#     3.less time consume\n",
        "import numpy as np\n",
        "a=[1,2,3,4]\n",
        "type(a)\n",
        "b=np.array(a)\n",
        "b"
      ]
    },
    {
      "cell_type": "code",
      "source": [
        "type(b)"
      ],
      "metadata": {
        "colab": {
          "base_uri": "https://localhost:8080/"
        },
        "id": "fklciTNuZInM",
        "outputId": "d1bc75e9-5f7c-4055-9fd4-c9c3ee3b172f"
      },
      "execution_count": 7,
      "outputs": [
        {
          "output_type": "execute_result",
          "data": {
            "text/plain": [
              "numpy.ndarray"
            ]
          },
          "metadata": {},
          "execution_count": 7
        }
      ]
    },
    {
      "cell_type": "code",
      "source": [
        "#dimension==>\n",
        "# 1d array --element exist in x direction\n",
        "#2d aaray--element exist in x and y direction\n",
        "#3d array--element exist in x,,yz direction\n",
        "\n",
        "print(\"total shape\",b.shape) #shape=num ber of row ands column\n",
        "print(\"total element\",b.size)# num of row multiply number of column\n",
        "\n",
        "print(\"total dimension\",b.ndim)#dimensions\n",
        "\n",
        "\n"
      ],
      "metadata": {
        "colab": {
          "base_uri": "https://localhost:8080/"
        },
        "id": "spkaQ2LCZ4NZ",
        "outputId": "bfd366f1-42aa-4937-e9ec-3dabcbbd887f"
      },
      "execution_count": 9,
      "outputs": [
        {
          "output_type": "stream",
          "name": "stdout",
          "text": [
            "total shape (4,)\n",
            "total element 4\n",
            "total shape 1\n"
          ]
        }
      ]
    },
    {
      "cell_type": "code",
      "source": [
        "a=[[1,3,2],[4,5,6],[7,7,8]]\n",
        "a\n",
        "b=np.array(a)\n",
        "b\n",
        "type(b)"
      ],
      "metadata": {
        "colab": {
          "base_uri": "https://localhost:8080/"
        },
        "id": "owVcWtefax8g",
        "outputId": "b532e94b-f720-4920-9104-88d125f6e02a"
      },
      "execution_count": 13,
      "outputs": [
        {
          "output_type": "execute_result",
          "data": {
            "text/plain": [
              "numpy.ndarray"
            ]
          },
          "metadata": {},
          "execution_count": 13
        }
      ]
    },
    {
      "cell_type": "code",
      "source": [
        "a=[]\n",
        "size=int(input(\"enter size\"))\n",
        "for i in range(size):\n",
        "    val=int(input(\"enter number\"))\n",
        "    a.append(val)\n",
        "b=np.array(a)\n",
        "b"
      ],
      "metadata": {
        "colab": {
          "base_uri": "https://localhost:8080/"
        },
        "id": "amNJxTyxa-Zy",
        "outputId": "78173866-2287-4a82-8bce-cdf670d8f6d1"
      },
      "execution_count": 16,
      "outputs": [
        {
          "name": "stdout",
          "output_type": "stream",
          "text": [
            "enter size2\n",
            "enter number23\n",
            "enter number56\n"
          ]
        },
        {
          "output_type": "execute_result",
          "data": {
            "text/plain": [
              "array([23, 56])"
            ]
          },
          "metadata": {},
          "execution_count": 16
        }
      ]
    },
    {
      "cell_type": "code",
      "source": [
        "a=np.diag([1,2,8,9])\n",
        "a"
      ],
      "metadata": {
        "colab": {
          "base_uri": "https://localhost:8080/"
        },
        "id": "tKl9x7g2bTTc",
        "outputId": "679b38e3-715e-47f7-c972-495a0da00d58"
      },
      "execution_count": 21,
      "outputs": [
        {
          "output_type": "execute_result",
          "data": {
            "text/plain": [
              "array([[1, 0, 0, 0],\n",
              "       [0, 2, 0, 0],\n",
              "       [0, 0, 8, 0],\n",
              "       [0, 0, 0, 9]])"
            ]
          },
          "metadata": {},
          "execution_count": 21
        }
      ]
    },
    {
      "cell_type": "code",
      "source": [
        "\n",
        "#Images ===> Pixels (0-255)px ===> 0px (black), 255px (white) ===> Normalize ===> (0-1)px\n",
        "# (a). black&white image ===> height, width\n",
        "# (b). Colorfull Image ===> height, width, color_channel (red, green, blue)\n",
        "# Matrix ===> n(rows) = n(columns) ===> Symmatric Matrix n(r)!= n(c) ===> Asymmatric Matrix\n",
        "# random number generation ===> random module\n",
        "# Data Science ===> simple Line equation #Matrix ===> row, column\n",
        "#Matrix ===> digonal positional elementJ= y = mx + b ## (x,y)= co-ordinates, m-weight, b=intercept=[(1,1), (2,2), (3,3)......(n,n)]\n",
        "\n",
        "#zeros()=it will create an array in which all the values are  0\n",
        "a=np.zeros(3)\n",
        "a\n",
        "a=np.zeros((3,4))\n",
        "a\n",
        "#ones==>it will create an array in which all the values are  1\n",
        "a=np.ones(3)\n",
        "a\n",
        "a=np.ones((3,4))\n",
        "a\n",
        "a.shape\n",
        "\n",
        "#eye==>it will create an array in which diagnol positional element are 1 and rest all are 0\n",
        "a=np.eye(3) #symatric matrx\n",
        "a\n",
        "a=np.eye(3,4) #asymatirc matrix\n",
        "a\n",
        "\n",
        "#diag=>it will create an array in which customize our diagnol positional argument\n",
        "a=np.diag([1,2,3,4])\n",
        "a\n",
        "\n",
        "\n",
        "\n",
        "\n",
        "\n"
      ],
      "metadata": {
        "colab": {
          "base_uri": "https://localhost:8080/"
        },
        "id": "bn587F1GgFPv",
        "outputId": "59bb05c7-2ad3-40b7-cdfa-fe43f4a3815a"
      },
      "execution_count": 26,
      "outputs": [
        {
          "output_type": "execute_result",
          "data": {
            "text/plain": [
              "array([[1, 0, 0, 0],\n",
              "       [0, 2, 0, 0],\n",
              "       [0, 0, 3, 0],\n",
              "       [0, 0, 0, 4]])"
            ]
          },
          "metadata": {},
          "execution_count": 26
        }
      ]
    },
    {
      "cell_type": "code",
      "source": [
        "\n",
        " # (5). Random Module ====>\n",
        "# (a). OTP Generation\n",
        "# (b). Dataset ===> 1 dummy column add\n",
        "# (c). randomly weights initialize\n",
        " # (a). Randint(min_number, max_number, total_numbers)\n",
        "a = np.random.randint(1,10,3)\n",
        "a\n",
        " # (b). Rand (total_numbers) ===> It will return numbers from 0 to 1\n",
        "a = np.random.rand(5)\n",
        "a\n",
        " # (c). Randn() ===> -3 to +3\n",
        "a=np.random.randn(5)\n",
        "a\n",
        "\n",
        "#seed==>it will fix out data once the data has beeen generated\n",
        "\n",
        "np.random.seed(20)\n",
        "a=np.random.randint(1,10,3)\n",
        "a"
      ],
      "metadata": {
        "colab": {
          "base_uri": "https://localhost:8080/"
        },
        "id": "xOS_x4CQjyTm",
        "outputId": "713cf460-4645-463d-ed2f-a401ac574325"
      },
      "execution_count": 34,
      "outputs": [
        {
          "output_type": "execute_result",
          "data": {
            "text/plain": [
              "array([4, 5, 7])"
            ]
          },
          "metadata": {},
          "execution_count": 34
        }
      ]
    },
    {
      "cell_type": "code",
      "source": [],
      "metadata": {
        "id": "3PIW-pdFmVqf"
      },
      "execution_count": 31,
      "outputs": []
    }
  ]
}