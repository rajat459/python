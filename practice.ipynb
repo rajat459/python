{
  "nbformat": 4,
  "nbformat_minor": 0,
  "metadata": {
    "colab": {
      "provenance": [],
      "authorship_tag": "ABX9TyMTtmqzwq7dyMREKiDBVH4p",
      "include_colab_link": true
    },
    "kernelspec": {
      "name": "python3",
      "display_name": "Python 3"
    },
    "language_info": {
      "name": "python"
    }
  },
  "cells": [
    {
      "cell_type": "markdown",
      "metadata": {
        "id": "view-in-github",
        "colab_type": "text"
      },
      "source": [
        "<a href=\"https://colab.research.google.com/github/rajat459/python/blob/main/practice.ipynb\" target=\"_parent\"><img src=\"https://colab.research.google.com/assets/colab-badge.svg\" alt=\"Open In Colab\"/></a>"
      ]
    },
    {
      "cell_type": "code",
      "execution_count": 3,
      "metadata": {
        "colab": {
          "base_uri": "https://localhost:8080/"
        },
        "id": "8B4qBwS7b-_Z",
        "outputId": "694d75fe-8aec-41b9-c3b0-bb1ae510e728"
      },
      "outputs": [
        {
          "output_type": "stream",
          "name": "stdout",
          "text": [
            "Enter a number: 12\n",
            "Not a prime number\n"
          ]
        }
      ],
      "source": [
        "num = int(input(\"Enter a number: \"))\n",
        "if num > 1:\n",
        "    for i in range(2, int(num**0.5) + 1):\n",
        "        if num % i == 0:\n",
        "            print(\"Not a prime number\")\n",
        "            break\n",
        "    else:\n",
        "        print(\"Prime number\")\n",
        "\n",
        "else:\n",
        "    print(\"Not a prime number\")\n"
      ]
    },
    {
      "cell_type": "code",
      "source": [
        "s = input(\"Enter a string: \")\n",
        "print(s[::-1])\n"
      ],
      "metadata": {
        "colab": {
          "base_uri": "https://localhost:8080/"
        },
        "id": "4pUaLhzqchZl",
        "outputId": "cdcd228f-fcaa-4082-aab9-50d81e68ca8d"
      },
      "execution_count": 4,
      "outputs": [
        {
          "output_type": "stream",
          "name": "stdout",
          "text": [
            "Enter a string: \n",
            "\n"
          ]
        }
      ]
    },
    {
      "cell_type": "code",
      "source": [
        "def factorial(n):\n",
        "    return 1 if n == 0 else n * factorial(n - 1)\n",
        "print(factorial(int(input(\"Enter a number: \"))))\n"
      ],
      "metadata": {
        "colab": {
          "base_uri": "https://localhost:8080/"
        },
        "id": "UgFgAFdvcjSM",
        "outputId": "81464e7a-9a15-4957-a2b1-2c294c4a7cd1"
      },
      "execution_count": 6,
      "outputs": [
        {
          "output_type": "stream",
          "name": "stdout",
          "text": [
            "Enter a number: 2\n",
            "2\n"
          ]
        }
      ]
    },
    {
      "cell_type": "code",
      "source": [
        "def factorial(n):\n",
        "    return 1 if n == 0 else n * factorial(n - 1)\n",
        "print(factorial(int(input(\"Enter a number: \"))))\n"
      ],
      "metadata": {
        "id": "vTIeWZm2cku7"
      },
      "execution_count": null,
      "outputs": []
    },
    {
      "cell_type": "code",
      "source": [
        "lst = list(map(int, input(\"Enter numbers: \").split()))\n",
        "print(max(lst))\n"
      ],
      "metadata": {
        "id": "RAMESyD7cmDH"
      },
      "execution_count": null,
      "outputs": []
    },
    {
      "cell_type": "code",
      "source": [
        "s = input(\"Enter a string: \")\n",
        "print(\"Palindrome\" if s == s[::-1] else \"Not a palindrome\")\n"
      ],
      "metadata": {
        "id": "qjxeKNfnco6s"
      },
      "execution_count": null,
      "outputs": []
    },
    {
      "cell_type": "code",
      "source": [
        "from collections import Counter\n",
        "s = input(\"Enter a string: \")\n",
        "print(Counter(s.split()))\n"
      ],
      "metadata": {
        "id": "hFslZrABc_vg"
      },
      "execution_count": null,
      "outputs": []
    },
    {
      "cell_type": "code",
      "source": [
        "s1, s2 = input(\"Enter two strings: \").split()\n",
        "print(\"Anagrams\" if sorted(s1) == sorted(s2) else \"Not anagrams\")\n"
      ],
      "metadata": {
        "id": "wWj3jfLxdCzt"
      },
      "execution_count": null,
      "outputs": []
    },
    {
      "cell_type": "code",
      "source": [
        "def binary_search(arr, x):\n",
        "    l, r = 0, len(arr) - 1\n",
        "    while l <= r:\n",
        "        mid = (l + r) // 2\n",
        "        if arr[mid] == x:\n",
        "            return mid\n",
        "        elif arr[mid] < x:\n",
        "            l = mid + 1\n",
        "        else:\n",
        "            r = mid - 1\n",
        "    return -1\n",
        "arr = sorted(map(int, input(\"Enter sorted numbers: \").split()))\n",
        "x = int(input(\"Enter the number to find: \"))\n",
        "print(binary_search(arr, x))\n"
      ],
      "metadata": {
        "id": "HI6OKmeIdEly"
      },
      "execution_count": null,
      "outputs": []
    },
    {
      "cell_type": "code",
      "source": [
        "arr = list(map(int, input(\"Enter numbers: \").split()))\n",
        "for i in range(len(arr)):\n",
        "    for j in range(len(arr) - i - 1):\n",
        "        if arr[j] > arr[j + 1]:\n",
        "            arr[j], arr[j + 1] = arr[j + 1], arr[j]\n",
        "print(arr)\n"
      ],
      "metadata": {
        "id": "feP64cHydGYf"
      },
      "execution_count": null,
      "outputs": []
    },
    {
      "cell_type": "code",
      "source": [
        "def gcd(a, b):\n",
        "    return a if b == 0 else gcd(b, a % b)\n",
        "a, b = map(int, input(\"Enter two numbers: \").split())\n",
        "print(gcd(a, b))\n"
      ],
      "metadata": {
        "id": "VzsupkuPdH92"
      },
      "execution_count": null,
      "outputs": []
    },
    {
      "cell_type": "code",
      "source": [
        "matrix = [list(map(int, input().split())) for _ in range(int(input(\"Enter rows: \")))]\n",
        "print([[matrix[j][i] for j in range(len(matrix))] for i in range(len(matrix[0]))])\n"
      ],
      "metadata": {
        "id": "qH74nd9AdJTi"
      },
      "execution_count": null,
      "outputs": []
    },
    {
      "cell_type": "code",
      "source": [
        "n = int(input(\"Enter a number: \"))\n",
        "print(\"Armstrong\" if n == sum(int(d)**len(str(n)) for d in str(n)) else \"Not Armstrong\")\n"
      ],
      "metadata": {
        "id": "s1b8eCfxdK0t"
      },
      "execution_count": null,
      "outputs": []
    },
    {
      "cell_type": "code",
      "source": [],
      "metadata": {
        "id": "6Xj7ZboTdM4Z"
      },
      "execution_count": null,
      "outputs": []
    }
  ]
}