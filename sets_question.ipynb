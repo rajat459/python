{
  "nbformat": 4,
  "nbformat_minor": 0,
  "metadata": {
    "colab": {
      "provenance": [],
      "authorship_tag": "ABX9TyPrOuD9irv0/EgWqm13gvJ8",
      "include_colab_link": true
    },
    "kernelspec": {
      "name": "python3",
      "display_name": "Python 3"
    },
    "language_info": {
      "name": "python"
    }
  },
  "cells": [
    {
      "cell_type": "markdown",
      "metadata": {
        "id": "view-in-github",
        "colab_type": "text"
      },
      "source": [
        "<a href=\"https://colab.research.google.com/github/rajat459/python/blob/main/sets_question.ipynb\" target=\"_parent\"><img src=\"https://colab.research.google.com/assets/colab-badge.svg\" alt=\"Open In Colab\"/></a>"
      ]
    },
    {
      "cell_type": "code",
      "execution_count": 1,
      "metadata": {
        "colab": {
          "base_uri": "https://localhost:8080/"
        },
        "id": "WVSvr4KIwRy6",
        "outputId": "1ea61cdc-2d6b-4b64-df9c-217d0ffd0da2"
      },
      "outputs": [
        {
          "output_type": "stream",
          "name": "stdout",
          "text": [
            "{1, 2, 3, 4, 5, 6, 7, 8, 9, 10, 11, 12, 15, 20, 25}\n",
            "{5}\n",
            "{1, 2, 3, 4, 5, 6, 7, 8, 9, 10, 11, 12}\n",
            "{1, 2, 3, 4, 6, 7, 8, 9, 11, 12}\n",
            "False\n",
            "{1, 3, 5, 7, 9, 11, 13}\n",
            "{20, 5, 25, 10, 30, 15}\n",
            "{4, 6, 8, 10, 12}\n",
            "7 5 6\n"
          ]
        }
      ],
      "source": [
        "A = {1, 3, 5, 7, 9, 11}\n",
        "B = {2, 4, 6, 8, 10, 12}\n",
        "C = {5, 10, 15, 20, 25}\n",
        "\n",
        "union_result = A.union(B, C)\n",
        "intersection_result = A.intersection(C)\n",
        "symmetric_difference_result = A.symmetric_difference(B)\n",
        "difference_result = (A.union(B)).difference(C)\n",
        "is_subset = A.intersection(C).issubset(B)\n",
        "\n",
        "A.add(13)\n",
        "C.add(30)\n",
        "B.remove(min(B))\n",
        "\n",
        "length_A = len(A)\n",
        "length_B = len(B)\n",
        "length_C = len(C)\n",
        "\n",
        "print(union_result)\n",
        "print(intersection_result)\n",
        "print(symmetric_difference_result)\n",
        "print(difference_result)\n",
        "print(is_subset)\n",
        "print(A)\n",
        "print(C)\n",
        "print(B)\n",
        "print(length_A, length_B, length_C)\n"
      ]
    },
    {
      "cell_type": "code",
      "source": [
        "X = {1, 2, 3, 4, 5, 6, 7}\n",
        "Y = {5, 6, 7, 8, 9, 10}\n",
        "Z = {6, 7}\n",
        "\n",
        "unique_students = X.union(Y)\n",
        "only_sports = X.difference(Y)\n",
        "only_music = Y.difference(X)\n",
        "neither = 15 - len(unique_students)\n",
        "is_subset = Z.issubset(X) and Z.issubset(Y)\n",
        "\n",
        "Z.add(11)\n",
        "updated_union = X.union(Y, Z)\n",
        "updated_intersection = X.intersection(Y).intersection(Z)\n",
        "\n",
        "print(unique_students)\n",
        "print(only_sports)\n",
        "print(only_music)\n",
        "print(neither)\n",
        "print(is_subset)\n",
        "print(Z)\n",
        "print(updated_union)\n",
        "print(updated_intersection)\n"
      ],
      "metadata": {
        "colab": {
          "base_uri": "https://localhost:8080/"
        },
        "id": "5vW6n8sDxNC6",
        "outputId": "ef465ece-49b5-42e2-8391-d94a00c7f15e"
      },
      "execution_count": 2,
      "outputs": [
        {
          "output_type": "stream",
          "name": "stdout",
          "text": [
            "{1, 2, 3, 4, 5, 6, 7, 8, 9, 10}\n",
            "{1, 2, 3, 4}\n",
            "{8, 9, 10}\n",
            "5\n",
            "True\n",
            "{11, 6, 7}\n",
            "{1, 2, 3, 4, 5, 6, 7, 8, 9, 10, 11}\n",
            "{6, 7}\n"
          ]
        }
      ]
    },
    {
      "cell_type": "code",
      "source": [
        "P = {10, 20, 30, 40, 50}\n",
        "Q = {30, 40, 50, 60, 70}\n",
        "R = {50, 60, 70, 80, 90}\n",
        "\n",
        "result_1 = (P.intersection(Q)).union(R)\n",
        "result_2 = (Q.union(R)).difference(P)\n",
        "result_3 = (P.union(Q)).intersection(Q.union(R))\n",
        "is_empty = P.intersection(Q).intersection(R) == set()\n",
        "\n",
        "P.add(100)\n",
        "Q.add(100)\n",
        "R.add(100)\n",
        "\n",
        "P.discard(50)\n",
        "Q.discard(50)\n",
        "R.discard(50)\n",
        "\n",
        "symmetric_diff = P.symmetric_difference(Q).symmetric_difference(R)\n",
        "\n",
        "print(result_1)\n",
        "print(result_2)\n",
        "print(result_3)\n",
        "print(is_empty)\n",
        "print(P, Q, R)\n",
        "print(symmetric_diff)\n"
      ],
      "metadata": {
        "colab": {
          "base_uri": "https://localhost:8080/"
        },
        "id": "fvf3I5NNxOpj",
        "outputId": "94a904c6-77cb-4c80-c1e3-824eb6bae0ce"
      },
      "execution_count": 3,
      "outputs": [
        {
          "output_type": "stream",
          "name": "stdout",
          "text": [
            "{70, 40, 80, 50, 90, 60, 30}\n",
            "{80, 90, 60, 70}\n",
            "{70, 40, 50, 60, 30}\n",
            "False\n",
            "{20, 100, 40, 10, 30} {100, 70, 40, 60, 30} {80, 100, 70, 90, 60}\n",
            "{80, 10, 100, 20, 90}\n"
          ]
        }
      ]
    },
    {
      "cell_type": "code",
      "source": [
        "V = {1, 2, 3, 4, 5, 6, 7, 8}\n",
        "N = {5, 6, 7, 8, 9, 10, 11, 12}\n",
        "D = {2, 4, 6, 8, 10, 12, 14}\n",
        "\n",
        "total_participants = V.union(N, D)\n",
        "only_vegetarian = V.difference(N.union(D))\n",
        "only_non_veg = N.difference(V.union(D))\n",
        "veg_and_non_veg = V.intersection(N)\n",
        "all_three = V.intersection(N).intersection(D)\n",
        "neither = 20 - len(total_participants)\n",
        "\n",
        "print(total_participants)\n",
        "print(only_vegetarian)\n",
        "print(only_non_veg)\n",
        "print(veg_and_non_veg)\n",
        "print(all_three)\n",
        "print(neither)\n"
      ],
      "metadata": {
        "colab": {
          "base_uri": "https://localhost:8080/"
        },
        "id": "3rdq3f0ZxQem",
        "outputId": "c5bad834-62c7-4790-c950-06b822ca897c"
      },
      "execution_count": 4,
      "outputs": [
        {
          "output_type": "stream",
          "name": "stdout",
          "text": [
            "{1, 2, 3, 4, 5, 6, 7, 8, 9, 10, 11, 12, 14}\n",
            "{1, 3}\n",
            "{9, 11}\n",
            "{8, 5, 6, 7}\n",
            "{8, 6}\n",
            "7\n"
          ]
        }
      ]
    },
    {
      "cell_type": "code",
      "source": [
        "# Sets\n",
        "A = {2, 4, 6, 8, 10}\n",
        "B = {4, 8, 12, 16}\n",
        "C = {6, 8, 10, 14}\n",
        "\n",
        "# Operations\n",
        "union_result = A.union(B, C)\n",
        "intersection_result = A.intersection(B).intersection(C)\n",
        "difference_A_B = A.difference(B)\n",
        "difference_B_A = B.difference(A)\n",
        "symmetric_diff_A_B = A.symmetric_difference(B)\n",
        "subset_check = A.issubset(B)\n",
        "superset_check = B.issuperset(C)\n",
        "\n",
        "# Modifications\n",
        "A.add(20)\n",
        "B.discard(16)\n",
        "C.update([18, 22])\n",
        "\n",
        "# Lengths\n",
        "len_A = len(A)\n",
        "len_B = len(B)\n",
        "len_C = len(C)\n",
        "\n",
        "# Print results\n",
        "print(union_result)\n",
        "print(intersection_result)\n",
        "print(difference_A_B)\n",
        "print(difference_B_A)\n",
        "print(symmetric_diff_A_B)\n",
        "print(subset_check)\n",
        "print(superset_check)\n",
        "print(A, B, C)\n",
        "print(len_A, len_B, len_C)\n"
      ],
      "metadata": {
        "colab": {
          "base_uri": "https://localhost:8080/"
        },
        "id": "jlFI9Al2xS9I",
        "outputId": "af27c912-c1bc-4a81-bd6b-08a69ccf262d"
      },
      "execution_count": 5,
      "outputs": [
        {
          "output_type": "stream",
          "name": "stdout",
          "text": [
            "{2, 4, 6, 8, 10, 12, 14, 16}\n",
            "{8}\n",
            "{2, 10, 6}\n",
            "{16, 12}\n",
            "{2, 6, 10, 12, 16}\n",
            "False\n",
            "False\n",
            "{2, 4, 20, 6, 8, 10} {8, 4, 12} {6, 8, 10, 14, 18, 22}\n",
            "6 3 6\n"
          ]
        }
      ]
    },
    {
      "cell_type": "code",
      "source": [
        "# Sets\n",
        "P = {1, 3, 5, 7, 9}\n",
        "Q = {3, 6, 9, 12, 15}\n",
        "R = {5, 9, 13, 17, 21}\n",
        "\n",
        "# Operations\n",
        "union_all = P.union(Q, R)\n",
        "intersection_all = P.intersection(Q).intersection(R)\n",
        "sym_diff_all = P.symmetric_difference(Q).symmetric_difference(R)\n",
        "difference_P_QR = P.difference(Q.union(R))\n",
        "difference_QR_P = Q.union(R).difference(P)\n",
        "\n",
        "# Modifications\n",
        "P.add(11)\n",
        "Q.remove(6)\n",
        "R.update([19, 23])\n",
        "\n",
        "# Lengths\n",
        "len_P = len(P)\n",
        "len_Q = len(Q)\n",
        "len_R = len(R)\n",
        "\n",
        "# Print results\n",
        "print(union_all)\n",
        "print(intersection_all)\n",
        "print(sym_diff_all)\n",
        "print(difference_P_QR)\n"
      ],
      "metadata": {
        "colab": {
          "base_uri": "https://localhost:8080/"
        },
        "id": "nCUupRwKxbUV",
        "outputId": "dc2b1df0-dabf-4721-fa62-f9ab2bcbcd27"
      },
      "execution_count": 8,
      "outputs": [
        {
          "output_type": "stream",
          "name": "stdout",
          "text": [
            "{1, 3, 5, 6, 7, 9, 12, 13, 15, 17, 21}\n",
            "{9}\n",
            "{1, 6, 7, 9, 12, 13, 15, 17, 21}\n",
            "{1, 7}\n"
          ]
        }
      ]
    },
    {
      "cell_type": "code",
      "source": [
        "# Sets\n",
        "X = {10, 20, 30, 40, 50}\n",
        "Y = {30, 50, 70, 90}\n",
        "Z = {20, 50, 80, 100}\n",
        "\n",
        "# Operations\n",
        "union_XYZ = X.union(Y, Z)\n",
        "intersection_XYZ = X.intersection(Y).intersection(Z)\n",
        "diff_X_YZ = X.difference(Y.union(Z))\n",
        "sym_diff_X_YZ = X.symmetric_difference(Y).symmetric_difference(Z)\n",
        "is_X_subset_Z = X.issubset(Z)\n",
        "is_Z_superset_Y = Z.issuperset(Y)\n",
        "\n",
        "# Modifications\n",
        "X.add(60)\n",
        "Y.remove(90)\n",
        "Z.update([110, 120])\n",
        "\n",
        "# Lengths\n",
        "len_X = len(X)\n",
        "len_Y = len(Y)\n",
        "len_Z = len(Z)\n",
        "\n",
        "# Print results\n",
        "print(union_XYZ)\n",
        "print(intersection_XYZ)\n",
        "print(diff_X_YZ)\n",
        "print(sym_diff_X_YZ)\n",
        "print(is_X_subset_Z)\n",
        "print(is_Z_superset_Y)\n",
        "print(X, Y, Z)\n",
        "print(len_X, len_Y, len_Z)\n"
      ],
      "metadata": {
        "colab": {
          "base_uri": "https://localhost:8080/"
        },
        "id": "svAmA5ppxc5m",
        "outputId": "f0bc569d-fc8b-43df-ab3b-9195c26aae01"
      },
      "execution_count": 9,
      "outputs": [
        {
          "output_type": "stream",
          "name": "stdout",
          "text": [
            "{100, 70, 40, 10, 80, 50, 20, 90, 30}\n",
            "{50}\n",
            "{40, 10}\n",
            "{100, 70, 40, 10, 80, 50, 90}\n",
            "False\n",
            "False\n",
            "{50, 20, 40, 10, 60, 30} {50, 70, 30} {100, 110, 80, 50, 20, 120}\n",
            "6 3 6\n"
          ]
        }
      ]
    },
    {
      "cell_type": "code",
      "source": [
        "# Sets\n",
        "A = {1, 3, 5, 7, 9}\n",
        "B = {5, 7, 11, 13}\n",
        "C = {3, 7, 13, 17}\n",
        "\n",
        "# Operations\n",
        "union_result = A.union(B, C)\n",
        "intersection_result = A.intersection(B, C)\n",
        "difference_A_B_C = A.difference(B.union(C))\n",
        "sym_diff_A_B_C = A.symmetric_difference(B).symmetric_difference(C)\n",
        "\n",
        "# Check properties\n",
        "is_A_subset_B = A.issubset(B)\n",
        "is_C_superset_A = C.issuperset(A)\n",
        "\n",
        "# Modifications\n",
        "A.add(15)\n",
        "B.remove(11)\n",
        "C.update([19, 21])\n",
        "\n",
        "# Lengths\n",
        "len_A = len(A)\n",
        "len_B = len(B)\n",
        "len_C = len(C)\n",
        "\n",
        "# Print results\n",
        "print(union_result)\n",
        "print(intersection_result)\n",
        "print(difference_A_B_C)\n",
        "print(sym_diff_A_B_C)\n",
        "print(is_A_subset_B)\n",
        "print(is_C_superset_A)\n",
        "print(A, B, C)\n",
        "print(len_A, len_B, len_C)\n"
      ],
      "metadata": {
        "colab": {
          "base_uri": "https://localhost:8080/"
        },
        "id": "ggiRQdasxowT",
        "outputId": "ebb282ec-746e-426c-f014-edffed7fd248"
      },
      "execution_count": 10,
      "outputs": [
        {
          "output_type": "stream",
          "name": "stdout",
          "text": [
            "{1, 3, 5, 7, 9, 11, 13, 17}\n",
            "{7}\n",
            "{1, 9}\n",
            "{1, 7, 9, 11, 17}\n",
            "False\n",
            "False\n",
            "{1, 3, 5, 7, 9, 15} {5, 13, 7} {3, 7, 13, 17, 19, 21}\n",
            "6 3 6\n"
          ]
        }
      ]
    },
    {
      "cell_type": "code",
      "source": [],
      "metadata": {
        "id": "55F6lJsixrHv"
      },
      "execution_count": null,
      "outputs": []
    }
  ]
}