{
  "nbformat": 4,
  "nbformat_minor": 0,
  "metadata": {
    "colab": {
      "provenance": [],
      "authorship_tag": "ABX9TyOs+NfQZRxVJMDKqZVX6VzC",
      "include_colab_link": true
    },
    "kernelspec": {
      "name": "python3",
      "display_name": "Python 3"
    },
    "language_info": {
      "name": "python"
    }
  },
  "cells": [
    {
      "cell_type": "markdown",
      "metadata": {
        "id": "view-in-github",
        "colab_type": "text"
      },
      "source": [
        "<a href=\"https://colab.research.google.com/github/rajat459/python/blob/main/oops_concept.ipynb\" target=\"_parent\"><img src=\"https://colab.research.google.com/assets/colab-badge.svg\" alt=\"Open In Colab\"/></a>"
      ]
    },
    {
      "cell_type": "code",
      "execution_count": 1,
      "metadata": {
        "colab": {
          "base_uri": "https://localhost:8080/"
        },
        "id": "dlO6QYCs1uAK",
        "outputId": "832dedcf-60a9-41d1-b179-b0add10f3be0"
      },
      "outputs": [
        {
          "output_type": "stream",
          "name": "stdout",
          "text": [
            "1200\n"
          ]
        }
      ],
      "source": [
        "class BankAccount:\n",
        "    def __init__(self, balance=0):\n",
        "        self.balance = balance\n",
        "\n",
        "    def deposit(self, amount):\n",
        "        self.balance += amount\n",
        "\n",
        "    def withdraw(self, amount):\n",
        "        if amount > self.balance:\n",
        "            return \"Insufficient funds\"\n",
        "        self.balance -= amount\n",
        "\n",
        "    def get_balance(self):\n",
        "        return self.balance\n",
        "\n",
        "account = BankAccount(1000)\n",
        "account.deposit(500)\n",
        "account.withdraw(300)\n",
        "print(account.get_balance())\n"
      ]
    },
    {
      "cell_type": "code",
      "source": [
        "class Book:\n",
        "    def __init__(self, title, author, isbn):\n",
        "        self.title = title\n",
        "        self.author = author\n",
        "        self.isbn = isbn\n",
        "        self.available = True\n",
        "\n",
        "    def borrow(self):\n",
        "        if self.available:\n",
        "            self.available = False\n",
        "            return \"Book borrowed\"\n",
        "        return \"Book not available\"\n",
        "\n",
        "    def return_book(self):\n",
        "        self.available = True\n",
        "\n",
        "    def __str__(self):\n",
        "        return f\"{self.title} by {self.author}, ISBN: {self.isbn}, Available: {self.available}\"\n",
        "\n",
        "class Library:\n",
        "    def __init__(self):\n",
        "        self.books = []\n",
        "\n",
        "    def add_book(self, book):\n",
        "        self.books.append(book)\n",
        "\n",
        "    def search_book(self, title):\n",
        "        for book in self.books:\n",
        "            if book.title.lower() == title.lower():\n",
        "                return book\n",
        "        return \"Book not found\"\n",
        "\n",
        "library = Library()\n",
        "book1 = Book(\"1984\", \"George Orwell\", \"123456789\")\n",
        "book2 = Book(\"To Kill a Mockingbird\", \"Harper Lee\", \"987654321\")\n",
        "library.add_book(book1)\n",
        "library.add_book(book2)\n",
        "print(library.search_book(\"1984\"))\n"
      ],
      "metadata": {
        "colab": {
          "base_uri": "https://localhost:8080/"
        },
        "id": "pcgtyAX-2pRw",
        "outputId": "496eac13-308b-4a58-cb88-fc8ec7317a68"
      },
      "execution_count": 3,
      "outputs": [
        {
          "output_type": "stream",
          "name": "stdout",
          "text": [
            "1984 by George Orwell, ISBN: 123456789, Available: True\n"
          ]
        }
      ]
    },
    {
      "cell_type": "code",
      "source": [
        "from abc import ABC, abstractmethod\n",
        "\n",
        "class Shape(ABC):\n",
        "    @abstractmethod\n",
        "    def area(self):\n",
        "        pass\n",
        "\n",
        "class Circle(Shape):\n",
        "    def __init__(self, radius):\n",
        "        self.radius = radius\n",
        "\n",
        "    def area(self):\n",
        "        return 3.14 * self.radius ** 2\n",
        "\n",
        "class Rectangle(Shape):\n",
        "    def __init__(self, width, height):\n",
        "        self.width = width\n",
        "        self.height = height\n",
        "\n",
        "    def area(self):\n",
        "        return self.width * self.height\n",
        "\n",
        "circle = Circle(5)\n",
        "rectangle = Rectangle(4, 6)\n",
        "print(circle.area())\n",
        "print(rectangle.area())\n"
      ],
      "metadata": {
        "colab": {
          "base_uri": "https://localhost:8080/"
        },
        "id": "lwS44UhN2xeS",
        "outputId": "ee074265-895a-4042-b8cb-9a8defde35cf"
      },
      "execution_count": 4,
      "outputs": [
        {
          "output_type": "stream",
          "name": "stdout",
          "text": [
            "78.5\n",
            "24\n"
          ]
        }
      ]
    },
    {
      "cell_type": "code",
      "source": [
        "class Employee:\n",
        "    def __init__(self, name, emp_id, salary):\n",
        "        self.name = name\n",
        "        self.id = emp_id\n",
        "        self.salary = salary\n",
        "\n",
        "    def calculate_annual_salary(self):\n",
        "        return self.salary * 12\n",
        "\n",
        "    def __str__(self):\n",
        "        return f\"Name: {self.name}, ID: {self.id}, Monthly Salary: {self.salary}\"\n",
        "\n",
        "class Manager(Employee):\n",
        "    def __init__(self, name, emp_id, salary, bonus):\n",
        "        super().__init__(name, emp_id, salary)\n",
        "        self.bonus = bonus\n",
        "\n",
        "    def calculate_annual_salary(self):\n",
        "        return super().calculate_annual_salary() + self.bonus\n",
        "\n",
        "employee = Employee(\"John Doe\", 101, 5000)\n",
        "manager = Manager(\"Jane Smith\", 102, 8000, 20000)\n",
        "print(employee.calculate_annual_salary())\n",
        "print(manager.calculate_annual_salary())\n"
      ],
      "metadata": {
        "colab": {
          "base_uri": "https://localhost:8080/"
        },
        "id": "4eXWGtqi2zd5",
        "outputId": "6a1bf282-2413-40dd-be41-2088d45e1d4c"
      },
      "execution_count": 5,
      "outputs": [
        {
          "output_type": "stream",
          "name": "stdout",
          "text": [
            "60000\n",
            "116000\n"
          ]
        }
      ]
    },
    {
      "cell_type": "code",
      "source": [
        "class Product:\n",
        "    def __init__(self, name, price, stock):\n",
        "        self.name = name\n",
        "        self.price = price\n",
        "        self.stock = stock\n",
        "\n",
        "    def purchase(self, quantity):\n",
        "        if self.stock >= quantity:\n",
        "            self.stock -= quantity\n",
        "            return True\n",
        "        return False\n",
        "\n",
        "class ShoppingCart:\n",
        "    def __init__(self):\n",
        "        self.products = []\n",
        "\n",
        "    def add_product(self, product, quantity):\n",
        "        if product.purchase(quantity):\n",
        "            self.products.append((product, quantity))\n",
        "        else:\n",
        "            return \"Insufficient stock\"\n",
        "\n",
        "    def total_price(self):\n",
        "        return sum(product.price * quantity for product, quantity in self.products)\n",
        "\n",
        "    def show_cart(self):\n",
        "        return [(product.name, quantity) for product, quantity in self.products]\n",
        "\n",
        "product1 = Product(\"Laptop\", 50000, 10)\n",
        "product2 = Product(\"Headphones\", 2000, 20)\n",
        "cart = ShoppingCart()\n",
        "cart.add_product(product1, 2)\n",
        "cart.add_product(product2, 3)\n",
        "print(cart.total_price())\n",
        "print(cart.show_cart())\n",
        "/"
      ],
      "metadata": {
        "colab": {
          "base_uri": "https://localhost:8080/"
        },
        "id": "E_AbNrR021mH",
        "outputId": "9e5c71c3-e939-41f8-a670-f927c48794a0"
      },
      "execution_count": 6,
      "outputs": [
        {
          "output_type": "stream",
          "name": "stdout",
          "text": [
            "106000\n",
            "[('Laptop', 2), ('Headphones', 3)]\n"
          ]
        },
        {
          "output_type": "execute_result",
          "data": {
            "text/plain": [
              "()"
            ]
          },
          "metadata": {},
          "execution_count": 6
        }
      ]
    },
    {
      "cell_type": "code",
      "source": [],
      "metadata": {
        "id": "6XgEIVx72463"
      },
      "execution_count": null,
      "outputs": []
    }
  ]
}