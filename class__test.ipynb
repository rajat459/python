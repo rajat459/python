{
  "nbformat": 4,
  "nbformat_minor": 0,
  "metadata": {
    "colab": {
      "provenance": [],
      "include_colab_link": true
    },
    "kernelspec": {
      "name": "python3",
      "display_name": "Python 3"
    },
    "language_info": {
      "name": "python"
    }
  },
  "cells": [
    {
      "cell_type": "markdown",
      "metadata": {
        "id": "view-in-github",
        "colab_type": "text"
      },
      "source": [
        "<a href=\"https://colab.research.google.com/github/rajat459/python/blob/main/class__test.ipynb\" target=\"_parent\"><img src=\"https://colab.research.google.com/assets/colab-badge.svg\" alt=\"Open In Colab\"/></a>"
      ]
    },
    {
      "cell_type": "code",
      "execution_count": null,
      "metadata": {
        "id": "VHMaA78GsGk0"
      },
      "outputs": [],
      "source": [
        "def find_prime_factors(n):\n",
        "    prime_factors = []\n",
        "    for factor in range(2, n + 1):\n",
        "        if  n % factor == 0:\n",
        "            prime_factors.append(factor)\n",
        "            n//=factor\n",
        "\n",
        "    return prime_factors"
      ]
    },
    {
      "cell_type": "code",
      "source": [
        "find_prime_factors(56)"
      ],
      "metadata": {
        "colab": {
          "base_uri": "https://localhost:8080/"
        },
        "id": "u19OXI-ZsJ3d",
        "outputId": "663d01f0-93cd-4a46-fa9c-1e5524f3f621"
      },
      "execution_count": null,
      "outputs": [
        {
          "output_type": "execute_result",
          "data": {
            "text/plain": [
              "[2, 4, 7]"
            ]
          },
          "metadata": {},
          "execution_count": 7
        }
      ]
    },
    {
      "cell_type": "code",
      "source": [
        "class BankAccount:\n",
        "    def __init__(self, name, balance):\n",
        "        self.name = name\n",
        "        self.balance = balance\n",
        "\n",
        "    def deposit(self, amount):\n",
        "        if amount > 0:\n",
        "            self.balance += amount\n",
        "            print(f\"Deposited: {amount}\")\n",
        "        else:\n",
        "            print(\"Invalid deposit amount\")\n",
        "\n",
        "    def withdraw(self, amount):\n",
        "        if 0 < amount <= self.balance:\n",
        "            self.balance -= amount\n",
        "            print(f\"Withdrawn: {amount}\")\n",
        "        else:\n",
        "            print(\"Insufficient balance or invalid amount\")\n",
        "\n",
        "    def get_balance(self):\n",
        "        return self.balance\n",
        "\n",
        "    def get_name(self):\n",
        "        return self.name\n"
      ],
      "metadata": {
        "id": "1ASgH19-sP7O"
      },
      "execution_count": null,
      "outputs": []
    },
    {
      "cell_type": "code",
      "source": [
        "\n",
        "sbi= BankAccount(\"rajat\",100000000)\n",
        "sbi.deposit(123456789)\n",
        "sbi.withdraw(100000000)\n",
        "print(sbi.get_name())\n",
        "print(sbi.get_balance())"
      ],
      "metadata": {
        "colab": {
          "base_uri": "https://localhost:8080/"
        },
        "id": "lPQH70VfweMk",
        "outputId": "475994be-8693-42e6-8f35-186c24df657e"
      },
      "execution_count": null,
      "outputs": [
        {
          "output_type": "stream",
          "name": "stdout",
          "text": [
            "Deposited: 123456789\n",
            "Withdrawn: 100000000\n",
            "rajat\n",
            "123456789\n"
          ]
        }
      ]
    },
    {
      "cell_type": "code",
      "source": [
        "class Vehicle:\n",
        "    def __init__(self, brand, model, year,fuel_type):\n",
        "        self.brand = brand\n",
        "        self.model = model\n",
        "        self.year = year\n",
        "        self.fuel_type=fuel_type\n",
        "\n",
        "    def display_info(self):\n",
        "        print(self.name,self.brand,self.year,self.fuel_type)\n",
        "\n",
        "class Car(Vehicle):\n",
        "    def __init__(self, brand, model, year, fuel_type):\n",
        "        super().__init__(brand, model, year,fuel_type)\n",
        "\n",
        "    def display_info(self):\n",
        "        print(f\"brand: {self.brand}, model: {self.model}, year: {self.year}, type: {self.fuel_type}\")\n",
        "\n"
      ],
      "metadata": {
        "id": "wDIaYmIVxHkr"
      },
      "execution_count": null,
      "outputs": []
    },
    {
      "cell_type": "code",
      "source": [
        "\n",
        "car = Car(\"Toyota\", \"Corolla\", 2022, \"Petrol\")\n",
        "car.display_info()"
      ],
      "metadata": {
        "colab": {
          "base_uri": "https://localhost:8080/"
        },
        "id": "6UWZjExdyCV2",
        "outputId": "ae71b2e2-a1f0-46f7-fc42-1257b8fadf22"
      },
      "execution_count": null,
      "outputs": [
        {
          "output_type": "stream",
          "name": "stdout",
          "text": [
            "brand: Toyota, model: Corolla, year: 2022, type: Petrol\n"
          ]
        }
      ]
    },
    {
      "cell_type": "code",
      "source": [
        "class Shape:\n",
        "    def __init__(self, shape, size):\n",
        "        self.shape = shape\n",
        "        self.size = size\n",
        "\n",
        "    def area(self):\n",
        "        if self.shape == \"rectangle\":\n",
        "            length, width = self.size\n",
        "            return length * width\n",
        "        elif self.shape == \"circle\":\n",
        "            radius, = self.size=\n",
        "            return 3.14 * radius ** 2\n",
        "        else:\n",
        "            return 0\n"
      ],
      "metadata": {
        "id": "AsAI5Sus0I1T"
      },
      "execution_count": null,
      "outputs": []
    },
    {
      "cell_type": "code",
      "source": [
        "\n",
        "rect = Shape(\"rectangle\", (10, 5))\n",
        "circle = Shape(\"circle\", (7,))\n",
        "\n",
        "print(\"Rectangle Area:\", rect.area())\n",
        "print(\"Circle Area:\", circle.area()) 8.l̥l̥;7"
      ],
      "metadata": {
        "colab": {
          "base_uri": "https://localhost:8080/"
        },
        "id": "IQpWap400f6-",
        "outputId": "b0efdc58-4e82-45e5-f7b3-ec2fc78ef71b"
      },
      "execution_count": null,
      "outputs": [
        {
          "output_type": "stream",
          "name": "stdout",
          "text": [
            "Rectangle Area: 50\n",
            "Circle Area: 153.86\n"
          ]
        }
      ]
    },
    {
      "cell_type": "code",
      "source": [
        "def student_rajat(records):\n",
        "    grade= {}\n",
        "    for student, scores in records:\n",
        "        average_score = sum(scores) / len(scores)\n",
        "        grade[student] = average_score\n",
        "    return grade\n",
        "records = [\n",
        "  (\"Alice\", [85, 90, 92]),\n",
        "  (\"Bob\", [78, 81, 86]),\n",
        "  (\"Charlie\", [88, 87, 91])\n",
        "]\n",
        "student_rajat(records)"
      ],
      "metadata": {
        "id": "kaxG0g2-1GuP",
        "colab": {
          "base_uri": "https://localhost:8080/"
        },
        "outputId": "b3ad6a50-c3f2-4736-ed5a-d44fa700174b"
      },
      "execution_count": null,
      "outputs": [
        {
          "output_type": "execute_result",
          "data": {
            "text/plain": [
              "{'Alice': 89.0, 'Bob': 81.66666666666667, 'Charlie': 88.66666666666667}"
            ]
          },
          "metadata": {},
          "execution_count": 3
        }
      ]
    },
    {
      "cell_type": "code",
      "source": [
        "from abc import ABC, abstractmethod\n",
        "\n",
        "class employe(ABC):\n",
        "    def __init__(self, name):\n",
        "        self.name = name\n",
        "\n",
        "    @abstractmethod\n",
        "    def calculate_salary(self):\n",
        "        pass\n",
        "\n",
        "class full_time(employe):\n",
        "    def __init__(self, name, salary):\n",
        "        super().__init__(name)\n",
        "        self.salary = salary\n",
        "\n",
        "    def calculate_salary(self):\n",
        "        return self.salary\n",
        "\n",
        "class part_time(employe):\n",
        "    def __init__(self, name, price,worked):\n",
        "        super().__init__(name)\n",
        "        self.price = price\n",
        "        self.worked =worked\n",
        "\n",
        "    def calculate_salary(self):\n",
        "        return self.price * self.worked\n",
        "\n"
      ],
      "metadata": {
        "id": "Eq2ZB42_26yr"
      },
      "execution_count": null,
      "outputs": []
    },
    {
      "cell_type": "code",
      "source": [
        "\n",
        "emp1 = full_time(\"rajat\", 1000000000)\n",
        "emp2 = part_time(\"gaurav\", 100, 30)\n",
        "\n",
        "print(emp1.calculate_salary())\n",
        "print(emp2.calculate_salary())\n"
      ],
      "metadata": {
        "colab": {
          "base_uri": "https://localhost:8080/"
        },
        "id": "mZa_tBzJ3pcM",
        "outputId": "f9fae116-22b7-4d84-f69e-33038453753d"
      },
      "execution_count": null,
      "outputs": [
        {
          "output_type": "stream",
          "name": "stdout",
          "text": [
            "1000000000\n",
            "3000\n"
          ]
        }
      ]
    },
    {
      "cell_type": "code",
      "source": [
        "\n",
        "def word_count(text):\n",
        "    words = text.split()\n",
        "    word_count = {}\n",
        "    for word in words:\n",
        "        if word in word_count:\n",
        "            word_count[word] += 1\n",
        "        else:\n",
        "            word_count[word] = 1\n",
        "\n",
        "    return word_count\n"
      ],
      "metadata": {
        "id": "3LMjHzsH4C6v"
      },
      "execution_count": null,
      "outputs": []
    }
  ]
}