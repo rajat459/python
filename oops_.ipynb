{
  "nbformat": 4,
  "nbformat_minor": 0,
  "metadata": {
    "colab": {
      "provenance": [],
      "authorship_tag": "ABX9TyOC+gWYzGEY1elSFUP+T0Rt",
      "include_colab_link": true
    },
    "kernelspec": {
      "name": "python3",
      "display_name": "Python 3"
    },
    "language_info": {
      "name": "python"
    }
  },
  "cells": [
    {
      "cell_type": "markdown",
      "metadata": {
        "id": "view-in-github",
        "colab_type": "text"
      },
      "source": [
        "<a href=\"https://colab.research.google.com/github/rajat459/python/blob/main/oops_.ipynb\" target=\"_parent\"><img src=\"https://colab.research.google.com/assets/colab-badge.svg\" alt=\"Open In Colab\"/></a>"
      ]
    },
    {
      "cell_type": "code",
      "execution_count": null,
      "metadata": {
        "colab": {
          "base_uri": "https://localhost:8080/"
        },
        "id": "GVse04FdWOpi",
        "outputId": "984bd4b3-0639-4201-c3e6-e0113131a8d5"
      },
      "outputs": [
        {
          "output_type": "execute_result",
          "data": {
            "text/plain": [
              "10000"
            ]
          },
          "metadata": {},
          "execution_count": 19
        }
      ],
      "source": [
        "class gp:\n",
        "    def __init__(self):\n",
        "        self.amount=500\n",
        "\n",
        "class father(gp):\n",
        "    def __init__(self):\n",
        "      self.business=10000\n",
        "      super().__init__()\n",
        "\n",
        "class child(father):\n",
        "     def __init__(self):\n",
        "      self.spend=500\n",
        "      super().__init__()\n",
        "\n",
        "c1=child()\n",
        "c1.spend\n",
        "c1.business"
      ]
    },
    {
      "cell_type": "code",
      "source": [
        "class multiply:\n",
        "  def mul(self,x,y):\n",
        "    return x*y\n",
        "class addition:\n",
        "  def add(self,x,y):\n",
        "    return x+y\n",
        "class arithematic(multiply,addition):\n",
        "  def devino(self,d,e):\n",
        "    return d/e"
      ],
      "metadata": {
        "id": "j-QS9dZDYYFt"
      },
      "execution_count": null,
      "outputs": []
    },
    {
      "cell_type": "code",
      "source": [
        "ai=arithematic()\n",
        "ai.mul(2,3)"
      ],
      "metadata": {
        "id": "uMfMuB-_eVZV",
        "outputId": "eb7387c5-bacd-44ed-e41f-47d0d2a73ac7",
        "colab": {
          "base_uri": "https://localhost:8080/"
        }
      },
      "execution_count": null,
      "outputs": [
        {
          "output_type": "execute_result",
          "data": {
            "text/plain": [
              "6"
            ]
          },
          "metadata": {},
          "execution_count": 21
        }
      ]
    },
    {
      "cell_type": "code",
      "source": [],
      "metadata": {
        "id": "8Wr71wEXeYMX"
      },
      "execution_count": null,
      "outputs": []
    }
  ]
}