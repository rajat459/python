{
  "nbformat": 4,
  "nbformat_minor": 0,
  "metadata": {
    "colab": {
      "provenance": [],
      "authorship_tag": "ABX9TyOGF7Ptp8dHdSrcpP1qF/kj",
      "include_colab_link": true
    },
    "kernelspec": {
      "name": "python3",
      "display_name": "Python 3"
    },
    "language_info": {
      "name": "python"
    }
  },
  "cells": [
    {
      "cell_type": "markdown",
      "metadata": {
        "id": "view-in-github",
        "colab_type": "text"
      },
      "source": [
        "<a href=\"https://colab.research.google.com/github/rajat459/python/blob/main/strings.ipynb\" target=\"_parent\"><img src=\"https://colab.research.google.com/assets/colab-badge.svg\" alt=\"Open In Colab\"/></a>"
      ]
    },
    {
      "cell_type": "code",
      "execution_count": null,
      "metadata": {
        "colab": {
          "base_uri": "https://localhost:8080/"
        },
        "id": "uvTLpML0tpEL",
        "outputId": "30a16c6a-8457-4e84-df77-0076a21534a4"
      },
      "outputs": [
        {
          "output_type": "stream",
          "name": "stdout",
          "text": [
            "5\n"
          ]
        }
      ],
      "source": [
        "#Write a Python program to calculate the length of a string.\n",
        "a='rajat'\n",
        "k=0\n",
        "for i in a:\n",
        "  k+=1\n",
        "print(k)"
      ]
    },
    {
      "cell_type": "code",
      "source": [
        "#Write a Python program to count the number of characters (character frequency) in a string.\n",
        "a='google'\n",
        "my={}\n",
        "i=0\n",
        "for i in a:\n",
        "  if i in my:\n",
        "    my[i]+=1\n",
        "  else:\n",
        "    my[i]=1\n",
        "print(my)\n",
        "\n",
        "\n",
        "\n"
      ],
      "metadata": {
        "colab": {
          "base_uri": "https://localhost:8080/"
        },
        "id": "sLABVjucvet9",
        "outputId": "61bccf76-5658-49cf-c505-a7b7f63ac8c1"
      },
      "execution_count": null,
      "outputs": [
        {
          "output_type": "stream",
          "name": "stdout",
          "text": [
            "{'g': 2, 'o': 2, 'l': 1, 'e': 1}\n"
          ]
        }
      ]
    },
    {
      "cell_type": "code",
      "source": [
        "#3.  Write a Python program to get a string made of the first 2 and last 2 characters of a given string. If the string length is less than 2, return the empty string instead.\n",
        "string='ri'\n",
        "s=len(string)\n",
        "if s>=4:\n",
        "  num=string[:2]+string[-2:]\n",
        "else:\n",
        "  print(\"invalid\")\n",
        "\n",
        "\n"
      ],
      "metadata": {
        "colab": {
          "base_uri": "https://localhost:8080/"
        },
        "id": "or3MYhbBySG-",
        "outputId": "a64a68a8-15fd-4afb-a53f-2099aa65aefb"
      },
      "execution_count": null,
      "outputs": [
        {
          "output_type": "stream",
          "name": "stdout",
          "text": [
            "invalid\n"
          ]
        }
      ]
    },
    {
      "cell_type": "code",
      "source": [
        "#Write a Python program to get a string made of the first 2 and last 2 characters of a given string. If the string length is less than 2, return the empty string instead.\n",
        "string=input(\"enter the number\")\n",
        "s=len(string)\n",
        "if s>=4:\n",
        "  first=string[0]+string[1]\n",
        "  second=string[-2]+string[-1]\n",
        "  result=first+second\n",
        "else:\n",
        "  print(\"invalid\")\n",
        "print()"
      ],
      "metadata": {
        "colab": {
          "base_uri": "https://localhost:8080/"
        },
        "id": "fJGkRPQwySDX",
        "outputId": "cc189907-4416-41a8-cf89-2e5e30b5ff0d"
      },
      "execution_count": null,
      "outputs": [
        {
          "name": "stdout",
          "output_type": "stream",
          "text": [
            "enter the numberrajay\n"
          ]
        }
      ]
    },
    {
      "cell_type": "code",
      "source": [
        "# Write a Python program to get a string from a given string where all occurrences of its first char have been changed to '$', except the first char itself.\n",
        "string='rajrrat'\n",
        "first=string[0]\n",
        "modified=first\n",
        "for i in string [1:]:\n",
        "  if i ==first:\n",
        "    modified+='$'\n",
        "  else:\n",
        "    modified+=i\n",
        "print(modified)\n"
      ],
      "metadata": {
        "id": "F7h0vw1eySBP",
        "colab": {
          "base_uri": "https://localhost:8080/"
        },
        "outputId": "566d4163-f7a5-47db-cccc-eb6ae6e3aadb"
      },
      "execution_count": null,
      "outputs": [
        {
          "output_type": "stream",
          "name": "stdout",
          "text": [
            "raj$$at\n"
          ]
        }
      ]
    },
    {
      "cell_type": "code",
      "source": [
        "#5. Write a Python program to get a single string from two given strings, separated by a space and swap the first two characters of each string.\n",
        "string1='rajat'\n",
        "string2='xtftyfi'\n",
        "new1=string1[0]+string1[1]+string2[2:]\n",
        "new2=string2[0]+string2[1]+string1[2:]\n",
        "result=new1+' '+new2\n",
        "print(result)"
      ],
      "metadata": {
        "id": "5yacITJUyR-H",
        "colab": {
          "base_uri": "https://localhost:8080/"
        },
        "outputId": "5fc2ec03-92c5-476d-c714-4ebfbf084235"
      },
      "execution_count": null,
      "outputs": [
        {
          "output_type": "stream",
          "name": "stdout",
          "text": [
            "raftyfi xtjat\n"
          ]
        }
      ]
    },
    {
      "cell_type": "code",
      "source": [
        "#Write a Python program to add 'ing' at the end of a given string (length should be at least 3). If the given string already ends with 'ing', add 'ly' instead. If the string length of the given string is less than 3, leave it unchanged.\n",
        "string=input(\"enter the string\")\n",
        "num=len(string)\n",
        "if num>=3:\n",
        "  if 'ing' in string:\n",
        "    new=string[:-3]+'ly'\n",
        "    print(new)\n",
        "  else:\n",
        "    new2=string+'ing'\n",
        "    print(new2)\n",
        "else:\n",
        "  print(string)"
      ],
      "metadata": {
        "id": "Lwx6ZKW2yR7j",
        "colab": {
          "base_uri": "https://localhost:8080/"
        },
        "outputId": "3c45baed-2b01-460d-f976-7dbeb91c85d3"
      },
      "execution_count": null,
      "outputs": [
        {
          "output_type": "stream",
          "name": "stdout",
          "text": [
            "enter the stringstring\n",
            "strly\n"
          ]
        }
      ]
    },
    {
      "cell_type": "code",
      "source": [
        "#7. Write a Python program to find the first appearance of the substrings 'not' and 'poor' in a given string. If 'not' follows 'poor', replace the whole 'not'...'poor' substring with 'good'. Return the resulting string.\n",
        "string=('The lyrics is  that ')\n",
        "first=string.find('not')\n",
        "second=string.find('poor')\n",
        "if first<second:\n",
        "  result=string[:first]+'good'+string[second+4:]\n",
        "else:\n",
        "  print(string)\n",
        "\n",
        "\n",
        "\n"
      ],
      "metadata": {
        "colab": {
          "base_uri": "https://localhost:8080/"
        },
        "id": "XXSTM_Y3lDPp",
        "outputId": "c5434b44-c39d-4c06-929e-e3fd11b2cd61"
      },
      "execution_count": null,
      "outputs": [
        {
          "output_type": "stream",
          "name": "stdout",
          "text": [
            "The lyrics is  that \n"
          ]
        }
      ]
    },
    {
      "cell_type": "code",
      "source": [
        "#8. Write a Python function that takes a list of words and return the longest word and the length of the longest one.\n",
        "string='rajat is very and powerful'\n",
        "new=string.split(' ')\n",
        "j=0\n",
        "for i in range(j+1,len(new)):\n",
        "  if len(new[j])<len(new[i]):\n",
        "    j=i\n",
        "print(len(new[j]))\n",
        "\n"
      ],
      "metadata": {
        "colab": {
          "base_uri": "https://localhost:8080/"
        },
        "id": "Oh0q-PduoTF-",
        "outputId": "1ce04a7f-6d8c-4b29-eb83-01646115ed86"
      },
      "execution_count": null,
      "outputs": [
        {
          "output_type": "stream",
          "name": "stdout",
          "text": [
            "8\n"
          ]
        }
      ]
    },
    {
      "cell_type": "code",
      "source": [
        "##8. Write a Python function that takes a list of words and return the shotest  word and the length of the longest one\n",
        "string='rajat i very and powerful'\n",
        "new=string.split(' ')\n",
        "j=0\n",
        "for i in range(j+1,len(new)):\n",
        "  if len(new[j])>len(new[i]):\n",
        "    j=i\n",
        "print(new[j])"
      ],
      "metadata": {
        "colab": {
          "base_uri": "https://localhost:8080/"
        },
        "id": "SCZUlo99pgmY",
        "outputId": "4aa3879c-6a69-4f0e-f17f-c5336a929295"
      },
      "execution_count": null,
      "outputs": [
        {
          "output_type": "stream",
          "name": "stdout",
          "text": [
            "i\n"
          ]
        }
      ]
    },
    {
      "cell_type": "code",
      "source": [
        "#longest string\n",
        "class Solution:\n",
        "    def longestPalindrome(self, s: str) -> str:\n",
        "        def expandAroundCenter(left, right):\n",
        "            while left >= 0 and right < len(s) and s[left] == s[right]:\n",
        "                left -= 1\n",
        "                right += 1\n",
        "            return s[left + 1:right]\n",
        "\n",
        "        longest = \"\"\n",
        "        for i in range(len(s)):\n",
        "            pal1 = expandAroundCenter(i, i)\n",
        "            pal2 = expandAroundCenter(i, i + 1)\n",
        "            longest = max(longest, pal1, pal2, key=len)\n",
        "\n",
        "        return longest\n"
      ],
      "metadata": {
        "id": "HlCIf8mi22d3"
      },
      "execution_count": 1,
      "outputs": []
    },
    {
      "cell_type": "code",
      "source": [
        "#\n",
        "from typing import List\n",
        "from collections import Counter\n",
        "\n",
        "class Solution:\n",
        "    def findSubstring(self, s: str, words: List[str]) -> List[int]:\n",
        "        if not s or not words:\n",
        "            return []\n",
        "\n",
        "        word_len = len(words[0])\n",
        "        num_words = len(words)\n",
        "        total_len = word_len * num_words\n",
        "        word_count = Counter(words)\n",
        "\n",
        "        result = []\n",
        "\n",
        "        for i in range(word_len):\n",
        "            left = i\n",
        "            curr_count = Counter()\n",
        "            for j in range(i, len(s) - word_len + 1, word_len):\n",
        "                word = s[j:j + word_len]\n",
        "                if word in word_count:\n",
        "                    curr_count[word] += 1\n",
        "                    while curr_count[word] > word_count[word]:\n",
        "                        curr_count[s[left:left + word_len]] -= 1\n",
        "                        left += word_len\n",
        "                    if j - left + word_len == total_len:\n",
        "                        result.append(left)\n",
        "                else:\n",
        "                    curr_count.clear()\n",
        "                    left = j + word_len\n",
        "\n",
        "        return result\n"
      ],
      "metadata": {
        "id": "w5XU3bRS22ac"
      },
      "execution_count": 2,
      "outputs": []
    },
    {
      "cell_type": "code",
      "source": [
        "from collections import Counter\n",
        "\n",
        "class Solution:\n",
        "    def minWindow(self, s: str, t: str) -> str:\n",
        "        if not s or not t:\n",
        "            return \"\"\n",
        "\n",
        "        dict_t = Counter(t)\n",
        "        required = len(dict_t)\n",
        "\n",
        "        l, r = 0, 0\n",
        "        formed = 0\n",
        "        window_counts = {}\n",
        "\n",
        "        ans = float(\"inf\"), None, None\n",
        "\n",
        "        while r < len(s):\n",
        "            character = s[r]\n",
        "            window_counts[character] = window_counts.get(character, 0) + 1\n",
        "\n",
        "            if character in dict_t and window_counts[character] == dict_t[character]:\n",
        "                formed += 1\n",
        "\n",
        "            while l <= r and formed == required:\n",
        "                character = s[l]\n",
        "\n",
        "                if r - l + 1 < ans[0]:\n",
        "                    ans = (r - l + 1, l, r)\n",
        "\n",
        "                window_counts[character] -= 1\n",
        "                if character in dict_t and window_counts[character] < dict_t[character]:\n",
        "                    formed -= 1\n",
        "                l += 1\n",
        "            r += 1\n",
        "\n",
        "        return \"\" if ans[0] == float(\"inf\") else s[ans[1]: ans[2] + 1]\n"
      ],
      "metadata": {
        "id": "0vR6ljtN22YB"
      },
      "execution_count": 4,
      "outputs": []
    },
    {
      "cell_type": "code",
      "source": [
        "class Solution:\n",
        "    def isMatch(self, s: str, p: str) -> bool:\n",
        "        dp = [[False] * (len(p) + 1) for _ in range(len(s) + 1)]\n",
        "        dp[0][0] = True\n",
        "\n",
        "        for j in range(1, len(p) + 1):\n",
        "            if p[j - 1] == '*':\n",
        "                dp[0][j] = dp[0][j - 1]\n",
        "\n",
        "        for i in range(1, len(s) + 1):\n",
        "            for j in range(1, len(p) + 1):\n",
        "                if p[j - 1] == '*':\n",
        "                    dp[i][j] = dp[i - 1][j] or dp[i][j - 1]\n",
        "                elif p[j - 1] == '?' or s[i - 1] == p[j - 1]:\n",
        "                    dp[i][j] = dp[i - 1][j - 1]\n",
        "\n",
        "        return dp[len(s)][len(p)]\n"
      ],
      "metadata": {
        "id": "JXNlOTkd22US"
      },
      "execution_count": 6,
      "outputs": []
    },
    {
      "cell_type": "code",
      "source": [
        "class Solution:\n",
        "    def lengthOfLongestSubstring(self, s: str) -> int:\n",
        "        char_map = {}\n",
        "        left = 0\n",
        "        max_len = 0\n",
        "\n",
        "        for right in range(len(s)):\n",
        "            if s[right] in char_map:\n",
        "                left = max(left, char_map[s[right]] + 1)\n",
        "            char_map[s[right]] = right\n",
        "            max_len = max(max_len, right - left + 1)\n",
        "\n",
        "        return max_len\n"
      ],
      "metadata": {
        "id": "YJ_MZU6A22SF"
      },
      "execution_count": 8,
      "outputs": []
    },
    {
      "cell_type": "code",
      "source": [
        "class Solution:\n",
        "    def longestPalindromeSubseq(self, s: str) -> int:\n",
        "        n = len(s)\n",
        "        dp = [[0] * n for _ in range(n)]\n",
        "\n",
        "        for i in range(n - 1, -1, -1):\n",
        "            dp[i][i] = 1\n",
        "            for j in range(i + 1, n):\n",
        "                if s[i] == s[j]:\n",
        "                    dp[i][j] = dp[i + 1][j - 1] + 2\n",
        "                else:\n",
        "                    dp[i][j] = max(dp[i + 1][j], dp[i][j - 1])\n",
        "\n",
        "        return dp[0][n - 1]\n"
      ],
      "metadata": {
        "id": "pxl6t-bh22Pw"
      },
      "execution_count": 9,
      "outputs": []
    },
    {
      "cell_type": "code",
      "source": [
        "class Solution:\n",
        "    def validPalindrome(self, s: str) -> bool:\n",
        "        def is_palindrome_range(i, j):\n",
        "            return all(s[k] == s[j - k + i] for k in range(i, j))\n",
        "\n",
        "        left, right = 0, len(s) - 1\n",
        "        while left < right:\n",
        "            if s[left] != s[right]:\n",
        "                return is_palindrome_range(left + 1, right) or is_palindrome_range(left, right - 1)\n",
        "            left += 1\n",
        "            right -= 1\n",
        "        return True\n"
      ],
      "metadata": {
        "id": "fbG-r9JK22NM"
      },
      "execution_count": 10,
      "outputs": []
    }
  ]
}