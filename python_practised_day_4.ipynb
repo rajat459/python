{
  "nbformat": 4,
  "nbformat_minor": 0,
  "metadata": {
    "colab": {
      "provenance": [],
      "authorship_tag": "ABX9TyO2qF7q3zz2n1X3boqRlQgs",
      "include_colab_link": true
    },
    "kernelspec": {
      "name": "python3",
      "display_name": "Python 3"
    },
    "language_info": {
      "name": "python"
    }
  },
  "cells": [
    {
      "cell_type": "markdown",
      "metadata": {
        "id": "view-in-github",
        "colab_type": "text"
      },
      "source": [
        "<a href=\"https://colab.research.google.com/github/rajat459/python/blob/main/python_practised_day_4.ipynb\" target=\"_parent\"><img src=\"https://colab.research.google.com/assets/colab-badge.svg\" alt=\"Open In Colab\"/></a>"
      ]
    },
    {
      "cell_type": "code",
      "execution_count": null,
      "metadata": {
        "colab": {
          "base_uri": "https://localhost:8080/"
        },
        "id": "OImEJo1Y9g7T",
        "outputId": "38fcc0b0-69c1-4b00-d577-0e5bca73e8a6"
      },
      "outputs": [
        {
          "output_type": "stream",
          "name": "stdout",
          "text": [
            "_ _ X \n",
            "_ X X X \n",
            "X X X X X \n"
          ]
        }
      ],
      "source": [
        "for i in range(0,3):\n",
        "  for j in range(i,2):\n",
        "    print(\"_\",end=\" \")\n",
        "  for k in range(0,i+1):\n",
        "    print(\"X\",end=\" \")\n",
        "  for l in range(i):\n",
        "    print(\"X\",end=\" \")\n",
        "  print()"
      ]
    },
    {
      "cell_type": "code",
      "source": [
        "for i in range(0,3):\n",
        "  for j in range(i):\n",
        "    print(\"_\",end=\" \")\n",
        "  for k in range(i,3):\n",
        "    print(\"X\",end=\" \")\n",
        "  for l in range(i,2):\n",
        "    print(\"X\",end=\" \")\n",
        "  print()"
      ],
      "metadata": {
        "colab": {
          "base_uri": "https://localhost:8080/"
        },
        "id": "m8fq3w3f-dmg",
        "outputId": "4e079f03-e9ed-41dc-b9b7-8136dfee4ba7"
      },
      "execution_count": null,
      "outputs": [
        {
          "output_type": "stream",
          "name": "stdout",
          "text": [
            "X X X X X \n",
            "_ X X X \n",
            "_ _ X \n"
          ]
        }
      ]
    },
    {
      "cell_type": "code",
      "source": [
        "# list\n",
        "#--> colection of element ==> multiple type\n",
        "# mutable and index function"
      ],
      "metadata": {
        "id": "zTE-LZ8dAILe"
      },
      "execution_count": null,
      "outputs": []
    },
    {
      "cell_type": "code",
      "source": [
        "list2=[10,20,60,80,9]\n",
        "for i in range(len(list2)):\n",
        "\n"
      ],
      "metadata": {
        "id": "lIn0BfiuGBmj"
      },
      "execution_count": null,
      "outputs": []
    }
  ]
}