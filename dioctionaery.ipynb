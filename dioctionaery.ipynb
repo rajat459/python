{
  "nbformat": 4,
  "nbformat_minor": 0,
  "metadata": {
    "colab": {
      "provenance": [],
      "authorship_tag": "ABX9TyOX6OlyTzHvTcf8nK1Fd0q/",
      "include_colab_link": true
    },
    "kernelspec": {
      "name": "python3",
      "display_name": "Python 3"
    },
    "language_info": {
      "name": "python"
    }
  },
  "cells": [
    {
      "cell_type": "markdown",
      "metadata": {
        "id": "view-in-github",
        "colab_type": "text"
      },
      "source": [
        "<a href=\"https://colab.research.google.com/github/rajat459/python/blob/main/dioctionaery.ipynb\" target=\"_parent\"><img src=\"https://colab.research.google.com/assets/colab-badge.svg\" alt=\"Open In Colab\"/></a>"
      ]
    },
    {
      "cell_type": "code",
      "execution_count": null,
      "metadata": {
        "colab": {
          "base_uri": "https://localhost:8080/"
        },
        "id": "nom2cgYZIg_p",
        "outputId": "9a976bf9-1a85-4060-c9ee-a9f7a0d13abd"
      },
      "outputs": [
        {
          "output_type": "stream",
          "name": "stdout",
          "text": [
            "{'banana': 1, 'date': 2, 'apple': 3, 'cherry': 5}\n",
            "{'cherry': 5, 'apple': 3, 'date': 2, 'banana': 1}\n"
          ]
        }
      ],
      "source": [
        "#Write a Python script to sort (ascending and descending) a dictionary by value\n",
        "sample_dict = {'apple': 3, 'banana': 1, 'cherry': 5, 'date': 2}\n",
        "ascending=dict(sorted(sample_dict.items(),key=lambda item:item[1]))\n",
        "print(ascending)\n",
        "decending=dict(sorted(sample_dict.items(),key=lambda x:x[1] ,reverse=True))\n",
        "print(decending)"
      ]
    },
    {
      "cell_type": "code",
      "source": [
        "#Write a Python script to add a key to a dictionary.\n",
        "dic= {0: 10, 1: 20}\n",
        "dic[5]=30\n",
        "print(dic)\n"
      ],
      "metadata": {
        "colab": {
          "base_uri": "https://localhost:8080/"
        },
        "id": "p9UygrVnM0jk",
        "outputId": "f0815d67-7a2a-4a80-a1e7-927f80666236"
      },
      "execution_count": null,
      "outputs": [
        {
          "output_type": "stream",
          "name": "stdout",
          "text": [
            "{0: 10, 1: 20, 5: 30}\n"
          ]
        }
      ]
    },
    {
      "cell_type": "code",
      "source": [
        "#3. Write a Python script to concatenate the following dictionaries to create a new one.\n",
        "dic1={1:10, 2:20}\n",
        "dic2={3:30, 4:40}\n",
        "dic3={5:50,6:60}\n",
        "dic4={}\n",
        "dic4.update(dic1)\n",
        "dic4.update(dic2)\n",
        "dic4.update(dic3)\n",
        "print(dic4)"
      ],
      "metadata": {
        "colab": {
          "base_uri": "https://localhost:8080/"
        },
        "id": "7yDXfg70Nk3x",
        "outputId": "ebac2998-3fbc-4bbd-992b-4dd4df195138"
      },
      "execution_count": null,
      "outputs": [
        {
          "output_type": "stream",
          "name": "stdout",
          "text": [
            "{1: 10, 2: 20, 3: 30, 4: 40, 5: 50, 6: 60}\n"
          ]
        }
      ]
    },
    {
      "cell_type": "code",
      "source": [
        "#. Write a Python script to check whether a given key already exists in a dictionary.\n",
        "my_dict = {1: 10, 2: 20, 3: 30, 4: 40}\n",
        "target=int(input('enter thr number u find in dictionary'))\n",
        "if target in my_dict:\n",
        "    print('yes its exist')\n",
        "else:\n",
        "    print('nope')"
      ],
      "metadata": {
        "colab": {
          "base_uri": "https://localhost:8080/"
        },
        "id": "7xf5QyrKPeHT",
        "outputId": "839fa3cc-cef1-4129-8995-eeb791fda09d"
      },
      "execution_count": null,
      "outputs": [
        {
          "output_type": "stream",
          "name": "stdout",
          "text": [
            "enter thr number u find in dictionary4\n",
            "yes its exist\n"
          ]
        }
      ]
    },
    {
      "cell_type": "code",
      "source": [
        "#5. Write a Python program to iterate over dictionaries using for loops.\n",
        "my_dict = {1: 'apple', 2: 'banana', 3: 'cherry'}\n",
        "for key in my_dict:\n",
        "  print(key)\n",
        "for value in my_dict.values():\n",
        "  print(value)\n",
        "for key,value in my_dict.items():\n",
        "  print(key,value)\n"
      ],
      "metadata": {
        "colab": {
          "base_uri": "https://localhost:8080/"
        },
        "id": "h0dc5jb5QQXS",
        "outputId": "24439807-096f-4196-e348-859b87becbc1"
      },
      "execution_count": null,
      "outputs": [
        {
          "output_type": "stream",
          "name": "stdout",
          "text": [
            "1\n",
            "2\n",
            "3\n",
            "apple\n",
            "banana\n",
            "cherry\n",
            "1 apple\n",
            "2 banana\n",
            "3 cherry\n"
          ]
        }
      ]
    },
    {
      "cell_type": "code",
      "source": [
        "#6. Write a Python script to generate and print a dictionary that contains a number (between 1 and n) in the form (x, x*x).\n",
        "n=int(input('enter a number'))\n",
        "new={}\n",
        "for i in range(1,n+1):\n",
        "  new[i]=i*i\n",
        "print(new)"
      ],
      "metadata": {
        "colab": {
          "base_uri": "https://localhost:8080/"
        },
        "id": "ikKPj5wMQzIw",
        "outputId": "ded6c2dc-df7f-45d5-9f46-51b213629daf"
      },
      "execution_count": null,
      "outputs": [
        {
          "output_type": "stream",
          "name": "stdout",
          "text": [
            "enter a number5\n",
            "{1: 1, 2: 4, 3: 9, 4: 16, 5: 25}\n"
          ]
        }
      ]
    },
    {
      "cell_type": "code",
      "source": [
        "#7. Write a Python script to print a dictionary where the keys are numbers between 1 and 15 (both included) and the values are the square of the keys.\n",
        "new={}\n",
        "for key in range(1,16):\n",
        "  new[key]=key*key\n",
        "print(new)"
      ],
      "metadata": {
        "colab": {
          "base_uri": "https://localhost:8080/"
        },
        "id": "HCIP4Uc-Vlai",
        "outputId": "d7ec55d9-0ddd-4633-9730-cb6c81ce050c"
      },
      "execution_count": null,
      "outputs": [
        {
          "output_type": "stream",
          "name": "stdout",
          "text": [
            "{1: 1, 2: 4, 3: 9, 4: 16, 5: 25, 6: 36, 7: 49, 8: 64, 9: 81, 10: 100, 11: 121, 12: 144, 13: 169, 14: 196, 15: 225}\n"
          ]
        }
      ]
    },
    {
      "cell_type": "code",
      "source": [
        "#Write a Python script to merge two Python dictionaries.\n",
        "\n",
        "dict1 = {1: 'apple', 2: 'banana'}\n",
        "dict2 = {3: 'cherry', 4: 'date'}\n",
        "dict1.update(dict2)\n",
        "print(dict1)\n"
      ],
      "metadata": {
        "id": "CqEJVi7fV5so"
      },
      "execution_count": null,
      "outputs": []
    },
    {
      "cell_type": "code",
      "source": [
        "#Write a Python program to sum all the items in a dictionary.\n",
        "my_dict = {'a': 10, 'b': 20, 'c': 30, 'd': 40}\n",
        "sum=0\n",
        "for value in my_dict.values():\n",
        "  sum=sum+value\n",
        "print(sum)"
      ],
      "metadata": {
        "colab": {
          "base_uri": "https://localhost:8080/"
        },
        "id": "ayemzVKBWK1f",
        "outputId": "53603707-71d1-450e-96ff-8697fc4b8386"
      },
      "execution_count": null,
      "outputs": [
        {
          "output_type": "stream",
          "name": "stdout",
          "text": [
            "100\n"
          ]
        }
      ]
    },
    {
      "cell_type": "code",
      "source": [
        "# Write a Python program to multiply all the items in a dictionary.\n",
        "my_dict = {'a': 10, 'b': 20, 'c': 30, 'd': 40}\n",
        "sum=1\n",
        "for value in my_dict.values():\n",
        "  sum=sum*value\n",
        "print(sum)"
      ],
      "metadata": {
        "colab": {
          "base_uri": "https://localhost:8080/"
        },
        "id": "eZOAdjoMWg-y",
        "outputId": "fe818b40-79c4-4a0a-91c2-c5694036cc21"
      },
      "execution_count": null,
      "outputs": [
        {
          "output_type": "stream",
          "name": "stdout",
          "text": [
            "240000\n"
          ]
        }
      ]
    },
    {
      "cell_type": "code",
      "source": [
        "#Write a Python program to remove a key from a dictionary.\n",
        "my_dict = {'a': 10, 'b': 20, 'c': 30}\n",
        "del my_dict['b']\n",
        "print(my_dict)"
      ],
      "metadata": {
        "colab": {
          "base_uri": "https://localhost:8080/"
        },
        "id": "8wkfLwnlXIyJ",
        "outputId": "3efda7be-c847-4580-c2dc-5dc12f9839b3"
      },
      "execution_count": null,
      "outputs": [
        {
          "output_type": "stream",
          "name": "stdout",
          "text": [
            "{'a': 10, 'c': 30}\n"
          ]
        }
      ]
    },
    {
      "cell_type": "code",
      "source": [
        "#Write a Python program to map two lists into a dictionary.a\n",
        "a = ['a', 'b', 'c']\n",
        "b = [10, 20, 30]\n",
        "new=dict(zip(a,b))\n",
        "print(new)"
      ],
      "metadata": {
        "colab": {
          "base_uri": "https://localhost:8080/"
        },
        "id": "03H6KYi1Xrtf",
        "outputId": "3f4ca3f2-02c3-4caa-e022-2abee679f537"
      },
      "execution_count": null,
      "outputs": [
        {
          "output_type": "stream",
          "name": "stdout",
          "text": [
            "{'a': 10, 'b': 20, 'c': 30}\n"
          ]
        }
      ]
    },
    {
      "cell_type": "code",
      "source": [
        "#14. Write a Python program to sort a given dictionary by key.\n",
        "my_dict = {'banana': 2, 'apple': 4, 'cherry': 1, 'date': 3}\n",
        "new=dict(sorted(my_dict.items()))\n",
        "print(new)"
      ],
      "metadata": {
        "colab": {
          "base_uri": "https://localhost:8080/"
        },
        "id": "-OIx4tRRYxuy",
        "outputId": "28df1a09-e7ad-46e1-dac5-1c5036895009"
      },
      "execution_count": null,
      "outputs": [
        {
          "output_type": "stream",
          "name": "stdout",
          "text": [
            "{'apple': 4, 'banana': 2, 'cherry': 1, 'date': 3}\n"
          ]
        }
      ]
    },
    {
      "cell_type": "code",
      "source": [
        "#Write a Python program to get the maximum and minimum values of a dictionary.\n",
        "my_dict = {'a': 10, 'b': 20, 'c': 5, 'd': 30}\n",
        "max_key=None\n",
        "min_key=None\n",
        "for key,value in my_dict.items():\n",
        "  if value>max:\n",
        "    max=value\n",
        "    max_key=key\n",
        "  if value<max:\n",
        "    max=value\n",
        "    min_key=key\n",
        "\n",
        "print(max_key)\n",
        "print(min_key)"
      ],
      "metadata": {
        "colab": {
          "base_uri": "https://localhost:8080/"
        },
        "id": "CsTLUWaYYxrz",
        "outputId": "d1e797ae-8ffc-4ca3-b418-b0e8d0681c22"
      },
      "execution_count": null,
      "outputs": [
        {
          "output_type": "stream",
          "name": "stdout",
          "text": [
            "d\n",
            "c\n"
          ]
        }
      ]
    },
    {
      "cell_type": "code",
      "source": [
        "# Write a Python program to create a dictionary of keys x, y, and z where each key has as value a list from 11-20, 21-30, and 31-40 respectively. Access the fifth value of each key from the dictionary.\n",
        "my_dict = {\n",
        "    'x': list(range(11, 21)),\n",
        "    'y': list(range(21, 31)),\n",
        "    'z': list(range(31, 41))\n",
        "}\n",
        "\n",
        "x_fifth = my_dict['x'][4]\n",
        "y_fifth = my_dict['y'][4]\n",
        "z_fifth = my_dict['z'][4]\n",
        "\n",
        "x_fifth, y_fifth, z_fifth\n"
      ],
      "metadata": {
        "id": "moZZ35BxYxoo",
        "colab": {
          "base_uri": "https://localhost:8080/"
        },
        "outputId": "2901877b-cec6-45c9-ebf6-eedfdb750c30"
      },
      "execution_count": 2,
      "outputs": [
        {
          "output_type": "execute_result",
          "data": {
            "text/plain": [
              "(15, 25, 35)"
            ]
          },
          "metadata": {},
          "execution_count": 2
        }
      ]
    },
    {
      "cell_type": "code",
      "source": [
        "#. Write a Python program to drop empty items from a given dictionary.\n",
        "original_dict = {'c1': 'Red', 'c2': 'Green', 'c3': None}\n",
        "new_dict = {}\n",
        "for k, v in original_dict.items():\n",
        "    if v is not None:\n",
        "        new_dict[k] = v\n",
        "new_dict\n"
      ],
      "metadata": {
        "id": "3BSrqNZJYxmO",
        "colab": {
          "base_uri": "https://localhost:8080/"
        },
        "outputId": "86ba2e6f-9807-4148-a9e0-dc8a7c066902"
      },
      "execution_count": 1,
      "outputs": [
        {
          "output_type": "execute_result",
          "data": {
            "text/plain": [
              "{'c1': 'Red', 'c2': 'Green'}"
            ]
          },
          "metadata": {},
          "execution_count": 1
        }
      ]
    },
    {
      "cell_type": "code",
      "source": [
        "#Write a Python program to filter a dictionary based on values.\n",
        "original_dict = {'a': 10, 'b': 25, 'c': 15, 'd': 30}\n",
        "filtered_dict = {}\n",
        "for k, v in original_dict.items():\n",
        "    if v > 20:\n",
        "        filtered_dict[k] = v\n",
        "filtered_dict\n"
      ],
      "metadata": {
        "colab": {
          "base_uri": "https://localhost:8080/"
        },
        "id": "LPtOGrN-gyVm",
        "outputId": "dfc7a273-d91c-4a4c-a119-4ed27a71701a"
      },
      "execution_count": 4,
      "outputs": [
        {
          "output_type": "execute_result",
          "data": {
            "text/plain": [
              "{'b': 25, 'd': 30}"
            ]
          },
          "metadata": {},
          "execution_count": 4
        }
      ]
    },
    {
      "cell_type": "code",
      "source": [
        "#Write a Python program to convert more than one list to a nested dictionary.\n",
        "keys = ['a', 'b', 'c']\n",
        "values = [1, 2, 3]\n",
        "nested_dict = {}\n",
        "for i in range(len(keys)):\n",
        "    nested_dict[keys[i]] = {'value': values[i]}\n",
        "nested_dict\n"
      ],
      "metadata": {
        "colab": {
          "base_uri": "https://localhost:8080/"
        },
        "id": "vI5cZOASgySG",
        "outputId": "4f820f59-e182-4179-a88c-201e3ab8dedb"
      },
      "execution_count": 3,
      "outputs": [
        {
          "output_type": "execute_result",
          "data": {
            "text/plain": [
              "{'a': {'value': 1}, 'b': {'value': 2}, 'c': {'value': 3}}"
            ]
          },
          "metadata": {},
          "execution_count": 3
        }
      ]
    },
    {
      "cell_type": "code",
      "source": [
        "#. Write a Python program to filter the height and width of students, which are stored in a dictionary.\n",
        "students = {\n",
        "    'Alice': {'height': 5.5, 'width': 20},\n",
        "    'Bob': {'height': 6.0, 'width': 25},\n",
        "    'Charlie': {'height': 5.8, 'width': 30}\n",
        "}\n",
        "\n",
        "filtered_students = {}\n",
        "for name, details in students.items():\n",
        "    if details['height'] > 5.5 and details['width'] < 30:\n",
        "        filtered_students[name] = details\n",
        "\n",
        "filtered_students\n"
      ],
      "metadata": {
        "colab": {
          "base_uri": "https://localhost:8080/"
        },
        "id": "u1sAOZktgyPn",
        "outputId": "219fcf85-bd87-4a70-d67a-b2820a4bc98a"
      },
      "execution_count": 5,
      "outputs": [
        {
          "output_type": "execute_result",
          "data": {
            "text/plain": [
              "{'Bob': {'height': 6.0, 'width': 25}}"
            ]
          },
          "metadata": {},
          "execution_count": 5
        }
      ]
    },
    {
      "cell_type": "code",
      "source": [
        "#Write a Python program to verify that all values in a dictionary are the same.\n",
        "original_dict = {'a': 10, 'b': 10, 'c': 10}\n",
        "are_all_values_same = len(set(original_dict.values())) == 1\n",
        "are_all_values_same\n"
      ],
      "metadata": {
        "colab": {
          "base_uri": "https://localhost:8080/"
        },
        "id": "iWOgG8vRgyOT",
        "outputId": "fd34462d-037b-4229-fa14-d66359e36228"
      },
      "execution_count": 7,
      "outputs": [
        {
          "output_type": "execute_result",
          "data": {
            "text/plain": [
              "True"
            ]
          },
          "metadata": {},
          "execution_count": 7
        }
      ]
    },
    {
      "cell_type": "code",
      "source": [
        "# Write a Python program to create a dictionary grouping a sequence of key-value pairs into a dictionary of lists\n",
        "pairs = [('a', 1), ('b', 2), ('a', 3), ('b', 4), ('c', 5)]\n",
        "grouped_dict = {}\n",
        "\n",
        "for key, value in pairs:\n",
        "    if key not in grouped_dict:\n",
        "        grouped_dict[key] = []\n",
        "    grouped_dict[key].append(value)\n",
        "\n",
        "grouped_dict\n"
      ],
      "metadata": {
        "colab": {
          "base_uri": "https://localhost:8080/"
        },
        "id": "yDKpABfWgyKt",
        "outputId": "1e6b05c0-ab56-4ae3-923a-a0bcde203852"
      },
      "execution_count": 8,
      "outputs": [
        {
          "output_type": "execute_result",
          "data": {
            "text/plain": [
              "{'a': [1, 3], 'b': [2, 4], 'c': [5]}"
            ]
          },
          "metadata": {},
          "execution_count": 8
        }
      ]
    },
    {
      "cell_type": "code",
      "source": [
        "#Write a Python program to split a given dictionary of lists into lists of dictionaries.\n",
        "original_dict = {\n",
        "    'a': [1, 2, 3],\n",
        "    'b': [4, 5, 6],\n",
        "    'c': [7, 8, 9]\n",
        "}\n",
        "\n",
        "split_dict = []\n",
        "for i in range(len(next(iter(original_dict.values())))):\n",
        "    temp_dict = {}\n",
        "    for key, value in original_dict.items():\n",
        "        temp_dict[key] = value[i]\n",
        "    split_dict.append(temp_dict)\n",
        "\n",
        "split_dict\n"
      ],
      "metadata": {
        "colab": {
          "base_uri": "https://localhost:8080/"
        },
        "id": "tfZLigv_gyI-",
        "outputId": "e3095409-42c4-47ce-cc21-981746de7b71"
      },
      "execution_count": 9,
      "outputs": [
        {
          "output_type": "execute_result",
          "data": {
            "text/plain": [
              "[{'a': 1, 'b': 4, 'c': 7}, {'a': 2, 'b': 5, 'c': 8}, {'a': 3, 'b': 6, 'c': 9}]"
            ]
          },
          "metadata": {},
          "execution_count": 9
        }
      ]
    },
    {
      "cell_type": "code",
      "source": [
        "#Write a Python program to remove a specified dictionary from a given list.\n",
        "original_list = [{'a': 1}, {'b': 2}, {'c': 3}]\n",
        "dict_to_remove = {'b': 2}\n",
        "\n",
        "original_list = [d for d in original_list if d != dict_to_remove]\n",
        "original_list\n"
      ],
      "metadata": {
        "colab": {
          "base_uri": "https://localhost:8080/"
        },
        "id": "ouO84CYCgyHG",
        "outputId": "deb34131-5fc6-4a65-c8dd-dd1218492ef4"
      },
      "execution_count": 10,
      "outputs": [
        {
          "output_type": "execute_result",
          "data": {
            "text/plain": [
              "[{'a': 1}, {'c': 3}]"
            ]
          },
          "metadata": {},
          "execution_count": 10
        }
      ]
    },
    {
      "cell_type": "code",
      "source": [
        "sample_dict = {\n",
        "    'a': '10',\n",
        "    'b': '20.5',\n",
        "    'c': 'hello',\n",
        "    'd': '30'\n",
        "}\n",
        "\n",
        "for key, value in sample_dict.items():\n",
        "    try:\n",
        "        sample_dict[key] = int(value)\n",
        "    except ValueError:\n",
        "        try:\n",
        "            sample_dict[key] = float(value)\n",
        "        except ValueError:\n",
        "            continue\n",
        "\n",
        "print(sample_dict)\n"
      ],
      "metadata": {
        "colab": {
          "base_uri": "https://localhost:8080/"
        },
        "id": "YEIdgckOiIe_",
        "outputId": "46d85ce7-f75a-4425-dd4f-b4fc3c75212e"
      },
      "execution_count": 12,
      "outputs": [
        {
          "output_type": "stream",
          "name": "stdout",
          "text": [
            "{'a': 10, 'b': 20.5, 'c': 'hello', 'd': 30}\n"
          ]
        }
      ]
    },
    {
      "cell_type": "code",
      "source": [
        "sample_dict = {\n",
        "    'a': [1, 2, 3],\n",
        "    'b': [4, 5, 6],\n",
        "    'c': [7, 8, 9]\n",
        "}\n",
        "\n",
        "for key in sample_dict:\n",
        "    sample_dict[key].clear()\n",
        "\n",
        "print(sample_dict)\n"
      ],
      "metadata": {
        "colab": {
          "base_uri": "https://localhost:8080/"
        },
        "id": "z2RpU6sriKW1",
        "outputId": "eb629898-46a6-49c8-d2a6-1a5b214a4387"
      },
      "execution_count": 13,
      "outputs": [
        {
          "output_type": "stream",
          "name": "stdout",
          "text": [
            "{'a': [], 'b': [], 'c': []}\n"
          ]
        }
      ]
    },
    {
      "cell_type": "code",
      "source": [
        "sample_dict = {\n",
        "    'a': [1, 2, 3],\n",
        "    'b': [4, 5, 6],\n",
        "    'c': [7, 8, 9]\n",
        "}\n",
        "\n",
        "for key in sample_dict:\n",
        "    sample_dict[key] = [x * 2 for x in sample_dict[key]]\n",
        "\n",
        "print(sample_dict)\n"
      ],
      "metadata": {
        "colab": {
          "base_uri": "https://localhost:8080/"
        },
        "id": "jZQ3xELfiKKt",
        "outputId": "6ecfbbc8-ec40-4992-a307-2f473e0d97c0"
      },
      "execution_count": 14,
      "outputs": [
        {
          "output_type": "stream",
          "name": "stdout",
          "text": [
            "{'a': [2, 4, 6], 'b': [8, 10, 12], 'c': [14, 16, 18]}\n"
          ]
        }
      ]
    },
    {
      "cell_type": "code",
      "source": [
        "sample_dict = {\n",
        "    'a': 10,\n",
        "    'b': 20,\n",
        "    'c': 30,\n",
        "    'd': 40\n",
        "}\n",
        "\n",
        "keys_list = list(sample_dict.keys())\n",
        "key_at_index = keys_list[2]\n",
        "value_at_index = sample_dict[key_at_index]\n",
        "\n",
        "print(f\"Key at index 2: {key_at_index}\")\n",
        "print(f\"Value at index 2: {value_at_index}\")\n"
      ],
      "metadata": {
        "colab": {
          "base_uri": "https://localhost:8080/"
        },
        "id": "ZyPj4XVTiKGE",
        "outputId": "75dafb96-8a86-414b-9fd2-f66284d9c4b0"
      },
      "execution_count": 17,
      "outputs": [
        {
          "output_type": "stream",
          "name": "stdout",
          "text": [
            "Key at index 2: c\n",
            "Value at index 2: 30\n"
          ]
        }
      ]
    }
  ]
}