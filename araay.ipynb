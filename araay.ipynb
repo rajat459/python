{
  "nbformat": 4,
  "nbformat_minor": 0,
  "metadata": {
    "colab": {
      "provenance": [],
      "authorship_tag": "ABX9TyMT7a5CtcJ1UOrYpcDKFv6S",
      "include_colab_link": true
    },
    "kernelspec": {
      "name": "python3",
      "display_name": "Python 3"
    },
    "language_info": {
      "name": "python"
    }
  },
  "cells": [
    {
      "cell_type": "markdown",
      "metadata": {
        "id": "view-in-github",
        "colab_type": "text"
      },
      "source": [
        "<a href=\"https://colab.research.google.com/github/rajat459/python/blob/main/araay.ipynb\" target=\"_parent\"><img src=\"https://colab.research.google.com/assets/colab-badge.svg\" alt=\"Open In Colab\"/></a>"
      ]
    },
    {
      "cell_type": "code",
      "execution_count": 1,
      "metadata": {
        "colab": {
          "base_uri": "https://localhost:8080/"
        },
        "id": "hBf6Ha0yFnSn",
        "outputId": "5134196a-f2e5-48cc-cee4-338ee555e4a7"
      },
      "outputs": [
        {
          "output_type": "execute_result",
          "data": {
            "text/plain": [
              "4"
            ]
          },
          "metadata": {},
          "execution_count": 1
        }
      ],
      "source": [
        "lst = [2, 4, 6, 8]\n",
        "len(lst)\n"
      ]
    },
    {
      "cell_type": "code",
      "source": [
        "lst = [5, 3, 8, 9]\n",
        "lst[0]\n"
      ],
      "metadata": {
        "colab": {
          "base_uri": "https://localhost:8080/"
        },
        "id": "nwcjErE1GP1t",
        "outputId": "8460de48-6024-4012-f808-5ffafaa3a08d"
      },
      "execution_count": 2,
      "outputs": [
        {
          "output_type": "execute_result",
          "data": {
            "text/plain": [
              "5"
            ]
          },
          "metadata": {},
          "execution_count": 2
        }
      ]
    },
    {
      "cell_type": "code",
      "source": [
        "\n",
        "\n",
        "lst = [1, 2, 3, 4]\n",
        "lst[-1]\n"
      ],
      "metadata": {
        "colab": {
          "base_uri": "https://localhost:8080/"
        },
        "id": "EnZ716-cGPyO",
        "outputId": "a36e7e64-9795-4de3-c0c4-0881399a1e3f"
      },
      "execution_count": 3,
      "outputs": [
        {
          "output_type": "execute_result",
          "data": {
            "text/plain": [
              "4"
            ]
          },
          "metadata": {},
          "execution_count": 3
        }
      ]
    },
    {
      "cell_type": "code",
      "source": [
        "lst = [10, 20, 30, 40, 50]\n",
        "lst[:3]\n"
      ],
      "metadata": {
        "id": "Kon-rm5lGPvx"
      },
      "execution_count": 3,
      "outputs": []
    },
    {
      "cell_type": "code",
      "source": [
        "lst = [100, 200, 300, 400, 500]\n",
        "lst[2:]\n"
      ],
      "metadata": {
        "colab": {
          "base_uri": "https://localhost:8080/"
        },
        "id": "cmTVBtVrGPti",
        "outputId": "bc1ba3a3-7842-4f2d-b5f7-d43a425d531a"
      },
      "execution_count": 4,
      "outputs": [
        {
          "output_type": "execute_result",
          "data": {
            "text/plain": [
              "[300, 400, 500]"
            ]
          },
          "metadata": {},
          "execution_count": 4
        }
      ]
    },
    {
      "cell_type": "code",
      "source": [
        "lst = [5, 10]\n",
        "lst.append(15)\n"
      ],
      "metadata": {
        "id": "ESYNlyzaGPql"
      },
      "execution_count": 5,
      "outputs": []
    },
    {
      "cell_type": "code",
      "source": [
        "lst = [10, 22, 9, 33, 21, 50, 41, 60, 80]\n",
        "def longest_increasing_subsequence(lst):\n",
        "    lis = [1] * len(lst)\n",
        "    for i in range(1, len(lst)):\n",
        "        for j in range(i):\n",
        "            if lst[i] > lst[j]:\n",
        "                lis[i] = max(lis[i], lis[j] + 1)\n",
        "    return max(lis)\n",
        "longest_increasing_subsequence(lst)\n"
      ],
      "metadata": {
        "colab": {
          "base_uri": "https://localhost:8080/"
        },
        "id": "pkInF43rGPou",
        "outputId": "426fe85a-2254-4f82-a41f-4da8e1995537"
      },
      "execution_count": 6,
      "outputs": [
        {
          "output_type": "execute_result",
          "data": {
            "text/plain": [
              "6"
            ]
          },
          "metadata": {},
          "execution_count": 6
        }
      ]
    },
    {
      "cell_type": "code",
      "source": [
        "words = [\"eat\", \"tea\", \"tan\", \"ate\", \"nat\", \"bat\"]\n",
        "from collections import defaultdict\n",
        "anagrams = defaultdict(list)\n",
        "for word in words:\n",
        "    key = ''.join(sorted(word))\n",
        "    anagrams[key].append(word)\n",
        "result = list(anagrams.values())\n"
      ],
      "metadata": {
        "id": "8gXODXgDGPmC"
      },
      "execution_count": 7,
      "outputs": []
    },
    {
      "cell_type": "code",
      "source": [
        "lst = [-1, 0, 1, 2, -1, -4]\n",
        "lst.sort()\n",
        "triplets = []\n",
        "for i in range(len(lst) - 2):\n",
        "    if i > 0 and lst[i] == lst[i - 1]:\n",
        "        continue\n",
        "    left, right = i + 1, len(lst) - 1\n",
        "    while left < right:\n",
        "        s = lst[i] + lst[left] + lst[right]\n",
        "        if s == 0:\n",
        "            triplets.append([lst[i], lst[left], lst[right]])\n",
        "            while left < right and lst[left] == lst[left + 1]:\n",
        "                left += 1\n",
        "            while left < right and lst[right] == lst[right - 1]:\n",
        "                right -= 1\n",
        "            left += 1\n",
        "            right -= 1\n",
        "        elif s < 0:\n",
        "            left += 1\n",
        "        else:\n",
        "            right -= 1\n"
      ],
      "metadata": {
        "id": "mQkPAeaZGPkt"
      },
      "execution_count": 8,
      "outputs": []
    },
    {
      "cell_type": "code",
      "source": [
        "lst = [3, 2, 7, 10]\n",
        "include, exclude = 0, 0\n",
        "for num in lst:\n",
        "    new_exclude = max(exclude, include)\n",
        "    include = exclude + num\n",
        "    exclude = new_exclude\n",
        "max_sum = max(include, exclude)\n"
      ],
      "metadata": {
        "id": "D1WxG6l9GPh0"
      },
      "execution_count": 9,
      "outputs": []
    },
    {
      "cell_type": "code",
      "source": [
        "heights = [2, 1, 5, 6, 2, 3]\n",
        "stack, max_area = [], 0\n",
        "for i, h in enumerate(heights + [0]):\n",
        "    while stack and heights[stack[-1]] > h:\n",
        "        height = heights[stack.pop()]\n",
        "        width = i if not stack else i - stack[-1] - 1\n",
        "        max_area = max(max_area, height * width)\n",
        "    stack.append(i)\n"
      ],
      "metadata": {
        "id": "BiHsslNFGPft"
      },
      "execution_count": 10,
      "outputs": []
    },
    {
      "cell_type": "code",
      "source": [
        "lst = [1, 2, 3, 4, 5, 6]\n",
        "target = 4\n",
        "left, right = 0, len(lst) - 1\n",
        "found = False\n",
        "while left <= right:\n",
        "    mid = (left + right) // 2\n",
        "    if lst[mid] == target:\n",
        "        found = True\n",
        "        break\n",
        "    elif lst[mid] < target:\n",
        "        left = mid + 1\n",
        "    else:\n",
        "        right = mid - 1\n"
      ],
      "metadata": {
        "id": "FdAd2PXvGPbr"
      },
      "execution_count": 11,
      "outputs": []
    },
    {
      "cell_type": "code",
      "source": [
        "def merge_sort(lst):\n",
        "    if len(lst) > 1:\n",
        "        mid = len(lst) // 2\n",
        "        left, right = lst[:mid], lst[mid:]\n",
        "        merge_sort(left)\n",
        "        merge_sort(right)\n",
        "        i = j = k = 0\n",
        "        while i < len(left) and j < len(right):\n",
        "            if left[i] < right[j]:\n",
        "                lst[k] = left[i]\n",
        "                i += 1\n",
        "            else:\n",
        "                lst[k] = right[j]\n",
        "                j += 1\n",
        "            k += 1\n",
        "        while i < len(left):\n",
        "            lst[k] = left[i]\n",
        "            i += 1\n",
        "            k += 1\n",
        "        while j < len(right):\n",
        "            lst[k] = right[j]\n",
        "            j += 1\n",
        "            k += 1\n",
        "lst = [38, 27, 43,]\n"
      ],
      "metadata": {
        "id": "M6gS-cGUGPZJ"
      },
      "execution_count": 13,
      "outputs": []
    },
    {
      "cell_type": "code",
      "source": [
        "lst = [0, 0, 1, 0, 1, 1, 0]\n",
        "hash_map = {0: -1}\n",
        "max_len = 0\n",
        "count = 0\n",
        "for i, num in enumerate(lst):\n",
        "    count += 1 if num == 1 else -1\n",
        "    if count in hash_map:\n",
        "        max_len = max(max_len, i - hash_map[count])\n",
        "    else:\n",
        "        hash_map[count] = i\n"
      ],
      "metadata": {
        "id": "ZtMXnRufGPXH"
      },
      "execution_count": 14,
      "outputs": []
    },
    {
      "cell_type": "code",
      "source": [
        "lst = [100, 4, 200, 1, 3, 2]\n",
        "unique_elements = set(lst)\n",
        "max_length = 0\n",
        "for num in unique_elements:\n",
        "    if num - 1 not in unique_elements:\n",
        "        current_num = num\n",
        "        length = 1\n",
        "        while current_num + 1 in unique_elements:\n",
        "            current_num += 1\n",
        "            length += 1\n",
        "        max_length = max(max_length, length)\n"
      ],
      "metadata": {
        "id": "nQH0c7ITGPUt"
      },
      "execution_count": 15,
      "outputs": []
    },
    {
      "cell_type": "code",
      "source": [
        "lst = [3, 5, 7, 10]\n",
        "low, high = 1, 10\n",
        "missing_ranges = []\n",
        "current = low\n",
        "for num in lst + [high + 1]:\n",
        "    if num > current:\n",
        "        if num - 1 == current:\n",
        "            missing_ranges.append(str(current))\n",
        "        else:\n",
        "            missing_ranges.append(f\"{current}->{num - 1}\")\n",
        "    current = num + 1\n"
      ],
      "metadata": {
        "id": "Pw7Ia2nOGPSd"
      },
      "execution_count": 16,
      "outputs": []
    },
    {
      "cell_type": "code",
      "source": [
        "lst = [1, 2, 3, 4]\n",
        "left_products = [1] * len(lst)\n",
        "right_products = [1] * len(lst)\n",
        "for i in range(1, len(lst)):\n",
        "    left_products[i] = left_products[i - 1] * lst[i - 1]\n",
        "for i in range(len(lst) - 2, -1, -1):\n",
        "    right_products[i] = right_products[i + 1] * lst[i + 1]\n",
        "product_except_self = [left_products[i] * right_products[i] for i in range(len(lst))]\n"
      ],
      "metadata": {
        "id": "mksh4NElGPNY"
      },
      "execution_count": 17,
      "outputs": []
    },
    {
      "cell_type": "code",
      "source": [
        "lst = [1, 0, -1, 0, -2, 2]\n",
        "lst.sort()\n",
        "quadruplets = []\n",
        "for i in range(len(lst) - 3):\n",
        "    if i > 0 and lst[i] == lst[i - 1]:\n",
        "        continue\n",
        "    for j in range(i + 1, len(lst) - 2):\n",
        "        if j > i + 1 and lst[j] == lst[j - 1]:\n",
        "            continue\n",
        "        left, right = j + 1, len(lst) - 1\n",
        "        while left < right:\n",
        "            total = lst[i] + lst[j] + lst[left] + lst[right]\n",
        "            if total == 0:\n",
        "                quadruplets.append([lst[i], lst[j], lst[left], lst[right]])\n",
        "                while left < right and lst[left] == lst[left + 1]:\n",
        "                    left += 1\n",
        "                while left < right and lst[right] == lst[right - 1]:\n",
        "                    right -= 1\n",
        "                left += 1\n",
        "                right -= 1\n",
        "            elif total < 0:\n",
        "                left += 1\n",
        "            else:\n",
        "                right -= 1\n",
        "print(quadruplets)\n"
      ],
      "metadata": {
        "colab": {
          "base_uri": "https://localhost:8080/"
        },
        "id": "rPnZ2IhKHc7j",
        "outputId": "6da83d20-00fd-426b-aa5b-e19572d99ece"
      },
      "execution_count": 19,
      "outputs": [
        {
          "output_type": "stream",
          "name": "stdout",
          "text": [
            "[[-2, -1, 1, 2], [-2, 0, 0, 2], [-1, 0, 0, 1]]\n"
          ]
        }
      ]
    },
    {
      "cell_type": "code",
      "source": [
        "lst = [2, 3, 10, 6, 4, 8, 1]\n",
        "min_element = lst[0]\n",
        "max_diff = 0\n",
        "for i in range(1, len(lst)):\n",
        "    max_diff = max(max_diff, lst[i] - min_element)\n",
        "    min_element = min(min_element, lst[i])\n"
      ],
      "metadata": {
        "id": "E-oQJi5qHldr"
      },
      "execution_count": 20,
      "outputs": []
    },
    {
      "cell_type": "code",
      "source": [
        "lst = [1, 1, 1]\n",
        "target = 2\n",
        "count, current_sum = 0, 0\n",
        "sum_counts = {0: 1}\n",
        "for num in lst:\n",
        "    current_sum += num\n",
        "    count += sum_counts.get(current_sum - target, 0)\n",
        "    sum_counts[current_sum] = sum_counts.get(current_sum, 0) + 1\n"
      ],
      "metadata": {
        "id": "ED4FqWTIHr_q"
      },
      "execution_count": 21,
      "outputs": []
    },
    {
      "cell_type": "code",
      "source": [
        "lst = [1, 2, 3, 1]\n",
        "for i in range(len(lst)):\n",
        "    if (i == 0 or lst[i] > lst[i - 1]) and (i == len(lst) - 1 or lst[i] > lst[i + 1]):\n",
        "        peak = lst[i]\n",
        "        break\n"
      ],
      "metadata": {
        "id": "dJ4DslYNHt9q"
      },
      "execution_count": 22,
      "outputs": []
    },
    {
      "cell_type": "code",
      "source": [
        "import heapq\n",
        "lst = [2, 1, 5, 7, 2, 0, 5]\n",
        "min_heap, max_heap, medians = [], [], []\n",
        "for num in lst:\n",
        "    heapq.heappush(max_heap, -heapq.heappushpop(min_heap, num))\n",
        "    if len(max_heap) > len(min_heap):\n",
        "        heapq.heappush(min_heap, -heapq.heappop(max_heap))\n",
        "    if len(min_heap) == len(max_heap):\n",
        "        medians.append((min_heap[0] - max_heap[0]) / 2.0)\n",
        "    else:\n",
        "        medians.append(min_heap[0])\n"
      ],
      "metadata": {
        "id": "0b74CmcfHv2D"
      },
      "execution_count": 23,
      "outputs": []
    },
    {
      "cell_type": "code",
      "source": [
        "intervals = [[1, 3], [2, 6], [8, 10], [15, 18]]\n",
        "intervals.sort(key=lambda x: x[0])\n",
        "merged = [intervals[0]]\n",
        "for current in intervals[1:]:\n",
        "    last = merged[-1]\n",
        "    if current[0] <= last[1]:\n",
        "        last[1] = max(last[1], current[1])\n",
        "    else:\n",
        "        merged.append(current)\n"
      ],
      "metadata": {
        "id": "0mrAZ_2-Hxou"
      },
      "execution_count": 24,
      "outputs": []
    },
    {
      "cell_type": "code",
      "source": [
        "from collections import Counter\n",
        "import heapq\n",
        "lst = [1, 1, 1, 2, 2, 3]\n",
        "k = 2\n",
        "freq = Counter(lst)\n",
        "top_k = [item for item, _ in heapq.nlargest(k, freq.items(), key=lambda x: x[1])]\n"
      ],
      "metadata": {
        "id": "ENVRXifvHzL7"
      },
      "execution_count": 25,
      "outputs": []
    },
    {
      "cell_type": "code",
      "source": [
        "import heapq\n",
        "lst = [2, 1, 5, 7, 2, 0, 5]\n",
        "min_heap, max_heap, medians = [], [], []\n",
        "for num in lst:\n",
        "    heapq.heappush(max_heap, -heapq.heappushpop(min_heap, num))\n",
        "    if len(max_heap) > len(min_heap):\n",
        "        heapq.heappush(min_heap, -heapq.heappop(max_heap))\n",
        "    if len(min_heap) == len(max_heap):\n",
        "        medians.append((min_heap[0] - max_heap[0]) / 2.0)\n",
        "    else:\n",
        "        medians.append(min_heap[0])\n"
      ],
      "metadata": {
        "id": "NqGIBDmEH1Lc"
      },
      "execution_count": 26,
      "outputs": []
    }
  ]
}